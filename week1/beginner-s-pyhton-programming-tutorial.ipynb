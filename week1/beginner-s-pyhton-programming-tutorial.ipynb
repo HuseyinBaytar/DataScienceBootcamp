{
 "cells": [
  {
   "cell_type": "markdown",
   "id": "4de50878",
   "metadata": {
    "papermill": {
     "duration": 0.023719,
     "end_time": "2023-11-04T15:12:52.471333",
     "exception": false,
     "start_time": "2023-11-04T15:12:52.447614",
     "status": "completed"
    },
    "tags": []
   },
   "source": [
    "# <p style=\"background-color:lightgray; font-family:verdana; font-size:250%; text-align:center; border-radius: 15px 20px;\">🟠Pyhton Programming Basics🟠</p>"
   ]
  },
  {
   "cell_type": "markdown",
   "id": "f3a46daa",
   "metadata": {
    "papermill": {
     "duration": 0.022908,
     "end_time": "2023-11-04T15:12:52.517503",
     "exception": false,
     "start_time": "2023-11-04T15:12:52.494595",
     "status": "completed"
    },
    "tags": []
   },
   "source": [
    "<div style=\"border-radius:10px; border:#D0C2F0 solid; padding: 15px; background-color: #FFF0F4; font-size:100%; text-align:left\">\n",
    "\n",
    "<h3 align=\"left\"><font color='#5E5273'>🔍 What is Pyhton and Why i should use Pyhton? </font></h3>\n"
   ]
  },
  {
   "cell_type": "markdown",
   "id": "753d030d",
   "metadata": {
    "papermill": {
     "duration": 0.023374,
     "end_time": "2023-11-04T15:12:52.563977",
     "exception": false,
     "start_time": "2023-11-04T15:12:52.540603",
     "status": "completed"
    },
    "tags": []
   },
   "source": [
    "Python is a high-level, interpreted programming language known for its simplicity and ease of use. It's versatile and can be used for various applications, including web development, data analysis, artificial intelligence, scientific computing, and more. Here are some reasons why you should consider using Python:\n",
    "\n",
    "* **Simplicity:** Python emphasizes readability and simplicity, making it an ideal language for beginners and experts alike.\n",
    "\n",
    "* **Versatility:** Python can be used in various fields, including web development, data analysis, machine learning, and scientific research.\n",
    "\n",
    "* **Large Standard Library:** Python comes with a vast standard library that provides support for many common programming tasks, allowing you to accomplish complex tasks with minimal code.\n",
    "\n",
    "* **Community Support:** Python has a large and active community, which means that you can easily find support, documentation, and resources to help you solve problems and learn new techniques.\n",
    "\n",
    "* **Portability:** Python is a portable language, meaning that code written in Python can run on various platforms without requiring any modifications, making it convenient for cross-platform development.\n",
    "\n",
    "* **Integration Capabilities:** Python can easily integrate with other programming languages and tools, making it a preferred choice for complex projects that require integration with different systems and technologies."
   ]
  },
  {
   "cell_type": "markdown",
   "id": "b005f8cd",
   "metadata": {
    "papermill": {
     "duration": 0.02281,
     "end_time": "2023-11-04T15:12:52.609956",
     "exception": false,
     "start_time": "2023-11-04T15:12:52.587146",
     "status": "completed"
    },
    "tags": []
   },
   "source": [
    "<div style=\"border-radius:10px; border:#D0C2F0 solid; padding: 15px; background-color: #FFF0F4; font-size:100%; text-align:left\">\n",
    "\n",
    "<h3 align=\"left\"><font color='#5E5273'>🔍 Basics of Pyhton </font></h3>\n"
   ]
  },
  {
   "cell_type": "markdown",
   "id": "90a57194",
   "metadata": {
    "papermill": {
     "duration": 0.022899,
     "end_time": "2023-11-04T15:12:52.656051",
     "exception": false,
     "start_time": "2023-11-04T15:12:52.633152",
     "status": "completed"
    },
    "tags": []
   },
   "source": [
    "# <p style=\"border-radius:10px; border:#DEB887 solid; padding:25px; background-color: #FFFAF0; font-size:100%;color:#52017A;text-align:center;\"> Numbers  </p>"
   ]
  },
  {
   "cell_type": "markdown",
   "id": "08a9631a",
   "metadata": {
    "papermill": {
     "duration": 0.022728,
     "end_time": "2023-11-04T15:12:52.702112",
     "exception": false,
     "start_time": "2023-11-04T15:12:52.679384",
     "status": "completed"
    },
    "tags": []
   },
   "source": [
    "## We have 3 different type of Numbers in Pyhton language.\n",
    "\n",
    "* **Integers:** Integers are whole numbers, such as -2, -1, 0, 1, 2, and so on. In Python, integers have unlimited precision, meaning they can be arbitrarily large.\n",
    "\n",
    "* **Floating-Point Numbers:** Floating-point numbers, or floats, are numbers with a decimal point, such as 3.14, 2.0, -1.5, and so on. Python uses the float data type to represent these numbers.\n",
    "\n",
    "* **Complex Numbers:** Complex numbers have a real and an imaginary part, represented as a + bj, where a and b are real numbers, and j is the imaginary unit. In Python, complex numbers are created using the syntax \"a + bj\", where \"a\" and \"b\" are replaced with actual numeric values."
   ]
  },
  {
   "cell_type": "code",
   "execution_count": 1,
   "id": "c17c243c",
   "metadata": {
    "execution": {
     "iopub.execute_input": "2023-11-04T15:12:52.750059Z",
     "iopub.status.busy": "2023-11-04T15:12:52.749611Z",
     "iopub.status.idle": "2023-11-04T15:12:52.765008Z",
     "shell.execute_reply": "2023-11-04T15:12:52.764027Z"
    },
    "papermill": {
     "duration": 0.042398,
     "end_time": "2023-11-04T15:12:52.767462",
     "exception": false,
     "start_time": "2023-11-04T15:12:52.725064",
     "status": "completed"
    },
    "tags": []
   },
   "outputs": [
    {
     "data": {
      "text/plain": [
       "int"
      ]
     },
     "execution_count": 1,
     "metadata": {},
     "output_type": "execute_result"
    }
   ],
   "source": [
    "#lets start with some number examples\n",
    "9 # integer\n",
    "type(9)"
   ]
  },
  {
   "cell_type": "code",
   "execution_count": 2,
   "id": "aae17d3a",
   "metadata": {
    "execution": {
     "iopub.execute_input": "2023-11-04T15:12:52.819376Z",
     "iopub.status.busy": "2023-11-04T15:12:52.818834Z",
     "iopub.status.idle": "2023-11-04T15:12:52.825221Z",
     "shell.execute_reply": "2023-11-04T15:12:52.824308Z"
    },
    "papermill": {
     "duration": 0.034256,
     "end_time": "2023-11-04T15:12:52.827492",
     "exception": false,
     "start_time": "2023-11-04T15:12:52.793236",
     "status": "completed"
    },
    "tags": []
   },
   "outputs": [
    {
     "data": {
      "text/plain": [
       "float"
      ]
     },
     "execution_count": 2,
     "metadata": {},
     "output_type": "execute_result"
    }
   ],
   "source": [
    "9.2 #float\n",
    "type(9.2)"
   ]
  },
  {
   "cell_type": "code",
   "execution_count": 3,
   "id": "d1184400",
   "metadata": {
    "_cell_guid": "b1076dfc-b9ad-4769-8c92-a6c4dae69d19",
    "_uuid": "8f2839f25d086af736a60e9eeb907d3b93b6e0e5",
    "execution": {
     "iopub.execute_input": "2023-11-04T15:12:52.941756Z",
     "iopub.status.busy": "2023-11-04T15:12:52.941085Z",
     "iopub.status.idle": "2023-11-04T15:12:52.947006Z",
     "shell.execute_reply": "2023-11-04T15:12:52.945923Z"
    },
    "papermill": {
     "duration": 0.033486,
     "end_time": "2023-11-04T15:12:52.949181",
     "exception": false,
     "start_time": "2023-11-04T15:12:52.915695",
     "status": "completed"
    },
    "tags": []
   },
   "outputs": [
    {
     "data": {
      "text/plain": [
       "complex"
      ]
     },
     "execution_count": 3,
     "metadata": {},
     "output_type": "execute_result"
    }
   ],
   "source": [
    "z = 2 + 3j  #complex\n",
    "type(z)"
   ]
  },
  {
   "cell_type": "markdown",
   "id": "7e578d6f",
   "metadata": {
    "papermill": {
     "duration": 0.023303,
     "end_time": "2023-11-04T15:12:52.996230",
     "exception": false,
     "start_time": "2023-11-04T15:12:52.972927",
     "status": "completed"
    },
    "tags": []
   },
   "source": [
    "# <p style=\"border-radius:10px; border:#DEB887 solid; padding:25px; background-color: #FFFAF0; font-size:100%;color:#52017A;text-align:center;\"> Strings  </p>"
   ]
  },
  {
   "cell_type": "markdown",
   "id": "321d20aa",
   "metadata": {
    "papermill": {
     "duration": 0.024,
     "end_time": "2023-11-04T15:12:53.044050",
     "exception": false,
     "start_time": "2023-11-04T15:12:53.020050",
     "status": "completed"
    },
    "tags": []
   },
   "source": [
    "### In Python, \"strings\" refer to sequences of characters, such as letters, numbers, and symbols, that are enclosed within single quotes (''), double quotes (\"\") or triple quotes (''' ''' or \"\"\" \"\"\"). Strings are used to represent textual data and are one of the fundamental data types in Python. Here is a brief overview of strings in Python:\n",
    "\n",
    "* **Creation and Declaration:** Strings can be created by enclosing characters within quotes.\n",
    " \n",
    "* **Manipulation:** Python provides various methods for manipulating strings, such as concatenation, slicing, formatting, and searching. These operations enable you to modify, extract, and manipulate string data according to your requirements.\n",
    "\n",
    "* **Immutability:** Strings in Python are immutable, which means that once a string is created, it cannot be modified. However, you can create new strings by using different operations or methods.\n",
    "\n",
    "* **Escape Characters:** Python allows the use of escape characters, such as \\n for a new line, \\t for a tab, and \\\\ for a backslash, among others, to represent special characters within strings.\n",
    "\n",
    "* **String Methods:** Python provides a wide range of built-in string methods that can be used to perform tasks such as finding and replacing substrings, converting case, splitting and joining strings, and more.\n"
   ]
  },
  {
   "cell_type": "code",
   "execution_count": 4,
   "id": "04fd37f8",
   "metadata": {
    "execution": {
     "iopub.execute_input": "2023-11-04T15:12:53.094553Z",
     "iopub.status.busy": "2023-11-04T15:12:53.093831Z",
     "iopub.status.idle": "2023-11-04T15:12:53.099592Z",
     "shell.execute_reply": "2023-11-04T15:12:53.098820Z"
    },
    "papermill": {
     "duration": 0.033671,
     "end_time": "2023-11-04T15:12:53.101756",
     "exception": false,
     "start_time": "2023-11-04T15:12:53.068085",
     "status": "completed"
    },
    "tags": []
   },
   "outputs": [
    {
     "data": {
      "text/plain": [
       "str"
      ]
     },
     "execution_count": 4,
     "metadata": {},
     "output_type": "execute_result"
    }
   ],
   "source": [
    "#an example of string \n",
    "first_string = \"Hello AI Era\"\n",
    "type(first_string)"
   ]
  },
  {
   "cell_type": "markdown",
   "id": "83c52ee5",
   "metadata": {
    "papermill": {
     "duration": 0.023635,
     "end_time": "2023-11-04T15:12:53.149446",
     "exception": false,
     "start_time": "2023-11-04T15:12:53.125811",
     "status": "completed"
    },
    "tags": []
   },
   "source": [
    "### These are just a few of the basic string methods. Python provides many more methods to work with strings.\n",
    "\n",
    "* **capitalize():** Converts the first character of the string to uppercase.\n",
    "\n",
    "* **casefold():** Converts the string to lowercase and removes all case distinctions in the string.\n",
    " \n",
    "* **lower():** Converts the entire string to lowercase.\n",
    " \n",
    "* **upper():** Converts the entire string to uppercase.\n",
    " \n",
    "* **len():** Returns the length of the string.\n",
    " \n",
    "* **strip():** Removes leading and trailing whitespace from the string.\n",
    " \n",
    "* **replace():** Returns a new string where a specified substring is replaced with another substring.\n",
    " \n",
    "* **split():** Splits the string at a specified separator and returns a list."
   ]
  },
  {
   "cell_type": "code",
   "execution_count": 5,
   "id": "1ff29a64",
   "metadata": {
    "execution": {
     "iopub.execute_input": "2023-11-04T15:12:53.200961Z",
     "iopub.status.busy": "2023-11-04T15:12:53.200222Z",
     "iopub.status.idle": "2023-11-04T15:12:53.206422Z",
     "shell.execute_reply": "2023-11-04T15:12:53.205221Z"
    },
    "papermill": {
     "duration": 0.035186,
     "end_time": "2023-11-04T15:12:53.208689",
     "exception": false,
     "start_time": "2023-11-04T15:12:53.173503",
     "status": "completed"
    },
    "tags": []
   },
   "outputs": [
    {
     "name": "stdout",
     "output_type": "stream",
     "text": [
      "Hello world\n"
     ]
    }
   ],
   "source": [
    "#example of capitalize\n",
    "string = \"hello world\"\n",
    "print(string.capitalize()) "
   ]
  },
  {
   "cell_type": "code",
   "execution_count": 6,
   "id": "e749541f",
   "metadata": {
    "execution": {
     "iopub.execute_input": "2023-11-04T15:12:53.260185Z",
     "iopub.status.busy": "2023-11-04T15:12:53.259505Z",
     "iopub.status.idle": "2023-11-04T15:12:53.265209Z",
     "shell.execute_reply": "2023-11-04T15:12:53.263737Z"
    },
    "papermill": {
     "duration": 0.033909,
     "end_time": "2023-11-04T15:12:53.267637",
     "exception": false,
     "start_time": "2023-11-04T15:12:53.233728",
     "status": "completed"
    },
    "tags": []
   },
   "outputs": [
    {
     "name": "stdout",
     "output_type": "stream",
     "text": [
      "hello world\n"
     ]
    }
   ],
   "source": [
    "#example of casefold\n",
    "string = \"HELLO WORLD\"\n",
    "print(string.casefold()) "
   ]
  },
  {
   "cell_type": "code",
   "execution_count": 7,
   "id": "785d80e1",
   "metadata": {
    "execution": {
     "iopub.execute_input": "2023-11-04T15:12:53.318856Z",
     "iopub.status.busy": "2023-11-04T15:12:53.318449Z",
     "iopub.status.idle": "2023-11-04T15:12:53.324197Z",
     "shell.execute_reply": "2023-11-04T15:12:53.322965Z"
    },
    "papermill": {
     "duration": 0.034393,
     "end_time": "2023-11-04T15:12:53.326916",
     "exception": false,
     "start_time": "2023-11-04T15:12:53.292523",
     "status": "completed"
    },
    "tags": []
   },
   "outputs": [
    {
     "name": "stdout",
     "output_type": "stream",
     "text": [
      "hello world\n"
     ]
    }
   ],
   "source": [
    "#example of lower\n",
    "string = \"Hello World\"\n",
    "print(string.lower()) "
   ]
  },
  {
   "cell_type": "code",
   "execution_count": 8,
   "id": "73cc3002",
   "metadata": {
    "execution": {
     "iopub.execute_input": "2023-11-04T15:12:53.378922Z",
     "iopub.status.busy": "2023-11-04T15:12:53.378539Z",
     "iopub.status.idle": "2023-11-04T15:12:53.384386Z",
     "shell.execute_reply": "2023-11-04T15:12:53.383257Z"
    },
    "papermill": {
     "duration": 0.035196,
     "end_time": "2023-11-04T15:12:53.386902",
     "exception": false,
     "start_time": "2023-11-04T15:12:53.351706",
     "status": "completed"
    },
    "tags": []
   },
   "outputs": [
    {
     "name": "stdout",
     "output_type": "stream",
     "text": [
      "HELLO WORLD\n"
     ]
    }
   ],
   "source": [
    "#example of upper\n",
    "string = \"Hello World\"\n",
    "print(string.upper()) "
   ]
  },
  {
   "cell_type": "code",
   "execution_count": 9,
   "id": "64f43d29",
   "metadata": {
    "execution": {
     "iopub.execute_input": "2023-11-04T15:12:53.438709Z",
     "iopub.status.busy": "2023-11-04T15:12:53.438313Z",
     "iopub.status.idle": "2023-11-04T15:12:53.443977Z",
     "shell.execute_reply": "2023-11-04T15:12:53.442723Z"
    },
    "papermill": {
     "duration": 0.035141,
     "end_time": "2023-11-04T15:12:53.446689",
     "exception": false,
     "start_time": "2023-11-04T15:12:53.411548",
     "status": "completed"
    },
    "tags": []
   },
   "outputs": [
    {
     "name": "stdout",
     "output_type": "stream",
     "text": [
      "11\n"
     ]
    }
   ],
   "source": [
    "#example of len\n",
    "string = \"Hello World\"\n",
    "print(len(string))"
   ]
  },
  {
   "cell_type": "code",
   "execution_count": 10,
   "id": "a6a5c3ad",
   "metadata": {
    "execution": {
     "iopub.execute_input": "2023-11-04T15:12:53.498631Z",
     "iopub.status.busy": "2023-11-04T15:12:53.497769Z",
     "iopub.status.idle": "2023-11-04T15:12:53.503532Z",
     "shell.execute_reply": "2023-11-04T15:12:53.502305Z"
    },
    "papermill": {
     "duration": 0.035502,
     "end_time": "2023-11-04T15:12:53.506910",
     "exception": false,
     "start_time": "2023-11-04T15:12:53.471408",
     "status": "completed"
    },
    "tags": []
   },
   "outputs": [
    {
     "name": "stdout",
     "output_type": "stream",
     "text": [
      "Hello World\n"
     ]
    }
   ],
   "source": [
    "#example of strip\n",
    "string = \"  Hello World   \"\n",
    "print(string.strip())"
   ]
  },
  {
   "cell_type": "code",
   "execution_count": 11,
   "id": "16c6e4ed",
   "metadata": {
    "execution": {
     "iopub.execute_input": "2023-11-04T15:12:53.557977Z",
     "iopub.status.busy": "2023-11-04T15:12:53.557551Z",
     "iopub.status.idle": "2023-11-04T15:12:53.563921Z",
     "shell.execute_reply": "2023-11-04T15:12:53.562755Z"
    },
    "papermill": {
     "duration": 0.034698,
     "end_time": "2023-11-04T15:12:53.566294",
     "exception": false,
     "start_time": "2023-11-04T15:12:53.531596",
     "status": "completed"
    },
    "tags": []
   },
   "outputs": [
    {
     "name": "stdout",
     "output_type": "stream",
     "text": [
      "Hello Universe\n"
     ]
    }
   ],
   "source": [
    "#example of replace\n",
    "string1 = \"Hello World\"\n",
    "string2 = string1.replace(\"World\", \"Universe\")\n",
    "print(string2) "
   ]
  },
  {
   "cell_type": "code",
   "execution_count": 12,
   "id": "0d84d549",
   "metadata": {
    "execution": {
     "iopub.execute_input": "2023-11-04T15:12:53.619420Z",
     "iopub.status.busy": "2023-11-04T15:12:53.619042Z",
     "iopub.status.idle": "2023-11-04T15:12:53.624825Z",
     "shell.execute_reply": "2023-11-04T15:12:53.623511Z"
    },
    "papermill": {
     "duration": 0.03464,
     "end_time": "2023-11-04T15:12:53.627271",
     "exception": false,
     "start_time": "2023-11-04T15:12:53.592631",
     "status": "completed"
    },
    "tags": []
   },
   "outputs": [
    {
     "name": "stdout",
     "output_type": "stream",
     "text": [
      "['Hello', 'World', 'Universe']\n"
     ]
    }
   ],
   "source": [
    "#example of split\n",
    "st1 = \"Hello,World,Universe\"\n",
    "strlist = st1.split(\",\")\n",
    "print(strlist)"
   ]
  },
  {
   "cell_type": "markdown",
   "id": "3e1819d1",
   "metadata": {
    "papermill": {
     "duration": 0.024141,
     "end_time": "2023-11-04T15:12:53.676158",
     "exception": false,
     "start_time": "2023-11-04T15:12:53.652017",
     "status": "completed"
    },
    "tags": []
   },
   "source": [
    "# <p style=\"border-radius:10px; border:#DEB887 solid; padding:25px; background-color: #FFFAF0; font-size:100%;color:#52017A;text-align:center;\"> Variables  </p>"
   ]
  },
  {
   "cell_type": "markdown",
   "id": "6ed29284",
   "metadata": {
    "papermill": {
     "duration": 0.024276,
     "end_time": "2023-11-04T15:12:53.724975",
     "exception": false,
     "start_time": "2023-11-04T15:12:53.700699",
     "status": "completed"
    },
    "tags": []
   },
   "source": [
    "### In Python, a variable is a reserved memory location that stores a value. It is like a container that holds data which can be used and manipulated throughout the program. Variables play a crucial role in programming, allowing you to store, retrieve, and modify data during the execution of a program. Here are some key points about variables in Python:\n",
    "\n",
    "* **Variable Declaration:** You can create a variable in Python by using a name (identifier) followed by an equal sign and the value you want to store. For example: x = 5.\n",
    " \n",
    "* **Dynamic Typing:** Python is dynamically typed, which means you don't need to specify the type of a variable when you declare it. The data type of the variable is automatically inferred based on the value assigned to it.\n",
    " \n",
    "* **Variable Naming Rules:** Variable names must follow certain rules, such as starting with a letter or underscore, and can contain letters, numbers, and underscores. They are case-sensitive, meaning \"myVar\" and \"myvar\" are different variables.\n",
    " \n",
    "* **Variable Assignment:** You can reassign the value of a variable at any point in your program. For example: x = 5 and later x = 10.\n",
    " \n",
    "* **Variable Scope:** Variables can have different scopes, such as global or local scope, which determines where in the program the variable can be accessed."
   ]
  },
  {
   "cell_type": "code",
   "execution_count": 13,
   "id": "5fec3d7b",
   "metadata": {
    "execution": {
     "iopub.execute_input": "2023-11-04T15:12:53.778438Z",
     "iopub.status.busy": "2023-11-04T15:12:53.778045Z",
     "iopub.status.idle": "2023-11-04T15:12:53.785705Z",
     "shell.execute_reply": "2023-11-04T15:12:53.784456Z"
    },
    "papermill": {
     "duration": 0.037111,
     "end_time": "2023-11-04T15:12:53.788133",
     "exception": false,
     "start_time": "2023-11-04T15:12:53.751022",
     "status": "completed"
    },
    "tags": []
   },
   "outputs": [
    {
     "data": {
      "text/plain": [
       "9"
      ]
     },
     "execution_count": 13,
     "metadata": {},
     "output_type": "execute_result"
    }
   ],
   "source": [
    "#we transform 9 to 'a', once we call a we get 9\n",
    "a = 9\n",
    "a"
   ]
  },
  {
   "cell_type": "code",
   "execution_count": 14,
   "id": "f2d3ec68",
   "metadata": {
    "execution": {
     "iopub.execute_input": "2023-11-04T15:12:53.841537Z",
     "iopub.status.busy": "2023-11-04T15:12:53.841135Z",
     "iopub.status.idle": "2023-11-04T15:12:53.848656Z",
     "shell.execute_reply": "2023-11-04T15:12:53.847555Z"
    },
    "papermill": {
     "duration": 0.036853,
     "end_time": "2023-11-04T15:12:53.851137",
     "exception": false,
     "start_time": "2023-11-04T15:12:53.814284",
     "status": "completed"
    },
    "tags": []
   },
   "outputs": [
    {
     "data": {
      "text/plain": [
       "'hello ai era'"
      ]
     },
     "execution_count": 14,
     "metadata": {},
     "output_type": "execute_result"
    }
   ],
   "source": [
    "# same as we did upper code block, we make put hello ai era to B, once we call B , we get hello ai era\n",
    "b = \"hello ai era\" \n",
    "b"
   ]
  },
  {
   "cell_type": "code",
   "execution_count": 15,
   "id": "58942d9c",
   "metadata": {
    "execution": {
     "iopub.execute_input": "2023-11-04T15:12:53.903871Z",
     "iopub.status.busy": "2023-11-04T15:12:53.903438Z",
     "iopub.status.idle": "2023-11-04T15:12:53.911481Z",
     "shell.execute_reply": "2023-11-04T15:12:53.910269Z"
    },
    "papermill": {
     "duration": 0.037502,
     "end_time": "2023-11-04T15:12:53.913818",
     "exception": false,
     "start_time": "2023-11-04T15:12:53.876316",
     "status": "completed"
    },
    "tags": []
   },
   "outputs": [
    {
     "data": {
      "text/plain": [
       "19"
      ]
     },
     "execution_count": 15,
     "metadata": {},
     "output_type": "execute_result"
    }
   ],
   "source": [
    "#also we can make math on our variables for example\n",
    "c = 10  #we put 10 on c and we put 9 on a earlier\n",
    "a + c #and as a output we get 19 "
   ]
  },
  {
   "cell_type": "code",
   "execution_count": 16,
   "id": "2e3346c7",
   "metadata": {
    "execution": {
     "iopub.execute_input": "2023-11-04T15:12:53.968308Z",
     "iopub.status.busy": "2023-11-04T15:12:53.967743Z",
     "iopub.status.idle": "2023-11-04T15:12:53.973967Z",
     "shell.execute_reply": "2023-11-04T15:12:53.972798Z"
    },
    "papermill": {
     "duration": 0.035932,
     "end_time": "2023-11-04T15:12:53.976403",
     "exception": false,
     "start_time": "2023-11-04T15:12:53.940471",
     "status": "completed"
    },
    "tags": []
   },
   "outputs": [
    {
     "name": "stdout",
     "output_type": "stream",
     "text": [
      "-1\n"
     ]
    }
   ],
   "source": [
    "#and also we can put our output on another variable for example we do a - c and put it on d\n",
    "d = a - c  \n",
    "print(d)"
   ]
  },
  {
   "cell_type": "code",
   "execution_count": 17,
   "id": "853129a2",
   "metadata": {
    "execution": {
     "iopub.execute_input": "2023-11-04T15:12:54.030582Z",
     "iopub.status.busy": "2023-11-04T15:12:54.030203Z",
     "iopub.status.idle": "2023-11-04T15:12:54.038783Z",
     "shell.execute_reply": "2023-11-04T15:12:54.036768Z"
    },
    "papermill": {
     "duration": 0.039595,
     "end_time": "2023-11-04T15:12:54.041827",
     "exception": false,
     "start_time": "2023-11-04T15:12:54.002232",
     "status": "completed"
    },
    "tags": []
   },
   "outputs": [
    {
     "data": {
      "text/plain": [
       "False"
      ]
     },
     "execution_count": 17,
     "metadata": {},
     "output_type": "execute_result"
    }
   ],
   "source": [
    "#In Python, \"boolean\" refers to a built-in data type that can have one of two possible values: True or False. \n",
    "#Booleans are commonly used in programming for logical operations, comparisons, and control flow.\n",
    "\n",
    "5 == 4"
   ]
  },
  {
   "cell_type": "markdown",
   "id": "672fffdc",
   "metadata": {
    "papermill": {
     "duration": 0.026363,
     "end_time": "2023-11-04T15:12:54.094672",
     "exception": false,
     "start_time": "2023-11-04T15:12:54.068309",
     "status": "completed"
    },
    "tags": []
   },
   "source": [
    "# <p style=\"border-radius:10px; border:#DEB887 solid; padding:25px; background-color: #FFFAF0; font-size:100%;color:#52017A;text-align:center;\"> List  </p>"
   ]
  },
  {
   "cell_type": "markdown",
   "id": "40f1e7dd",
   "metadata": {
    "papermill": {
     "duration": 0.025378,
     "end_time": "2023-11-04T15:12:54.145800",
     "exception": false,
     "start_time": "2023-11-04T15:12:54.120422",
     "status": "completed"
    },
    "tags": []
   },
   "source": [
    "## In Python, a \"list\" is a versatile and commonly used data structure that allows you to store a collection of items. Lists are ordered, mutable, and can contain elements of different data types, such as integers, strings, and even other lists."
   ]
  },
  {
   "cell_type": "code",
   "execution_count": 18,
   "id": "f72f9c7c",
   "metadata": {
    "execution": {
     "iopub.execute_input": "2023-11-04T15:12:54.198610Z",
     "iopub.status.busy": "2023-11-04T15:12:54.198187Z",
     "iopub.status.idle": "2023-11-04T15:12:54.204458Z",
     "shell.execute_reply": "2023-11-04T15:12:54.203249Z"
    },
    "papermill": {
     "duration": 0.035742,
     "end_time": "2023-11-04T15:12:54.206995",
     "exception": false,
     "start_time": "2023-11-04T15:12:54.171253",
     "status": "completed"
    },
    "tags": []
   },
   "outputs": [
    {
     "name": "stdout",
     "output_type": "stream",
     "text": [
      "[1, 2, 3, 4]\n"
     ]
    }
   ],
   "source": [
    "#append(): Adds an element to the end of the list.\n",
    "my_list = [1, 2, 3]\n",
    "my_list.append(4)\n",
    "print(my_list)  \n"
   ]
  },
  {
   "cell_type": "code",
   "execution_count": 19,
   "id": "f8648de4",
   "metadata": {
    "execution": {
     "iopub.execute_input": "2023-11-04T15:12:54.261102Z",
     "iopub.status.busy": "2023-11-04T15:12:54.260652Z",
     "iopub.status.idle": "2023-11-04T15:12:54.266564Z",
     "shell.execute_reply": "2023-11-04T15:12:54.265638Z"
    },
    "papermill": {
     "duration": 0.036506,
     "end_time": "2023-11-04T15:12:54.269147",
     "exception": false,
     "start_time": "2023-11-04T15:12:54.232641",
     "status": "completed"
    },
    "tags": []
   },
   "outputs": [
    {
     "name": "stdout",
     "output_type": "stream",
     "text": [
      "[1, 3, 4]\n"
     ]
    }
   ],
   "source": [
    "#remove(): Removes the first occurrence of a specified element from the list.\n",
    "my_list = [1, 2, 3, 4]\n",
    "my_list.remove(2)\n",
    "print(my_list)"
   ]
  },
  {
   "cell_type": "code",
   "execution_count": 20,
   "id": "175ed63d",
   "metadata": {
    "execution": {
     "iopub.execute_input": "2023-11-04T15:12:54.324769Z",
     "iopub.status.busy": "2023-11-04T15:12:54.324408Z",
     "iopub.status.idle": "2023-11-04T15:12:54.330069Z",
     "shell.execute_reply": "2023-11-04T15:12:54.329149Z"
    },
    "papermill": {
     "duration": 0.036522,
     "end_time": "2023-11-04T15:12:54.332771",
     "exception": false,
     "start_time": "2023-11-04T15:12:54.296249",
     "status": "completed"
    },
    "tags": []
   },
   "outputs": [
    {
     "name": "stdout",
     "output_type": "stream",
     "text": [
      "[1, 3]\n"
     ]
    }
   ],
   "source": [
    "#pop(): Removes the element at the specified position from the list. \n",
    "my_list = [1, 2, 3]\n",
    "my_list.pop(1)# in pyhton language numbers start from 0' so  our 0 index is 1, 1 index is 2, 2 index is 3 \n",
    "print(my_list)"
   ]
  },
  {
   "cell_type": "code",
   "execution_count": 21,
   "id": "c3ccb3a9",
   "metadata": {
    "execution": {
     "iopub.execute_input": "2023-11-04T15:12:54.389727Z",
     "iopub.status.busy": "2023-11-04T15:12:54.389338Z",
     "iopub.status.idle": "2023-11-04T15:12:54.395494Z",
     "shell.execute_reply": "2023-11-04T15:12:54.394294Z"
    },
    "papermill": {
     "duration": 0.038737,
     "end_time": "2023-11-04T15:12:54.398381",
     "exception": false,
     "start_time": "2023-11-04T15:12:54.359644",
     "status": "completed"
    },
    "tags": []
   },
   "outputs": [
    {
     "name": "stdout",
     "output_type": "stream",
     "text": [
      "[1, 5, 2, 3]\n"
     ]
    }
   ],
   "source": [
    "#insert(): Inserts an element at the specified position in the list.\n",
    "my_list = [1, 2, 3]\n",
    "my_list.insert(1, 5)\n",
    "print(my_list)"
   ]
  },
  {
   "cell_type": "code",
   "execution_count": 22,
   "id": "d9bf4674",
   "metadata": {
    "execution": {
     "iopub.execute_input": "2023-11-04T15:12:54.452588Z",
     "iopub.status.busy": "2023-11-04T15:12:54.451786Z",
     "iopub.status.idle": "2023-11-04T15:12:54.458853Z",
     "shell.execute_reply": "2023-11-04T15:12:54.457305Z"
    },
    "papermill": {
     "duration": 0.036499,
     "end_time": "2023-11-04T15:12:54.461136",
     "exception": false,
     "start_time": "2023-11-04T15:12:54.424637",
     "status": "completed"
    },
    "tags": []
   },
   "outputs": [
    {
     "name": "stdout",
     "output_type": "stream",
     "text": [
      "[1, 2, 3]\n"
     ]
    }
   ],
   "source": [
    "#sort(): Sorts the list in ascending order.\n",
    "my_list = [3, 1, 2]\n",
    "my_list.sort()\n",
    "print(my_list)"
   ]
  },
  {
   "cell_type": "code",
   "execution_count": 23,
   "id": "272f0f50",
   "metadata": {
    "execution": {
     "iopub.execute_input": "2023-11-04T15:12:54.514747Z",
     "iopub.status.busy": "2023-11-04T15:12:54.513921Z",
     "iopub.status.idle": "2023-11-04T15:12:54.520105Z",
     "shell.execute_reply": "2023-11-04T15:12:54.519000Z"
    },
    "papermill": {
     "duration": 0.035704,
     "end_time": "2023-11-04T15:12:54.522506",
     "exception": false,
     "start_time": "2023-11-04T15:12:54.486802",
     "status": "completed"
    },
    "tags": []
   },
   "outputs": [
    {
     "name": "stdout",
     "output_type": "stream",
     "text": [
      "[3, 2, 1]\n"
     ]
    }
   ],
   "source": [
    "#reverse(): Reverses the order of the elements in the list.\n",
    "my_list = [1, 2, 3]\n",
    "my_list.reverse()\n",
    "print(my_list)"
   ]
  },
  {
   "cell_type": "code",
   "execution_count": 24,
   "id": "6f46d1f7",
   "metadata": {
    "execution": {
     "iopub.execute_input": "2023-11-04T15:12:54.576658Z",
     "iopub.status.busy": "2023-11-04T15:12:54.576264Z",
     "iopub.status.idle": "2023-11-04T15:12:54.583846Z",
     "shell.execute_reply": "2023-11-04T15:12:54.582819Z"
    },
    "papermill": {
     "duration": 0.037997,
     "end_time": "2023-11-04T15:12:54.586401",
     "exception": false,
     "start_time": "2023-11-04T15:12:54.548404",
     "status": "completed"
    },
    "tags": []
   },
   "outputs": [
    {
     "data": {
      "text/plain": [
       "7"
      ]
     },
     "execution_count": 24,
     "metadata": {},
     "output_type": "execute_result"
    }
   ],
   "source": [
    "#we can add different types on same list \n",
    "alllist= [1, 2, 3, 4, \"a\", \"b\", True, [5, 6, 7]]\n",
    "alllist[7][2]  #in this part [7] i access the 7th element of list which is [5,6,7] a list and in second part [2] i access the 2nd element of list"
   ]
  },
  {
   "cell_type": "markdown",
   "id": "d1f9121c",
   "metadata": {
    "papermill": {
     "duration": 0.026273,
     "end_time": "2023-11-04T15:12:54.639679",
     "exception": false,
     "start_time": "2023-11-04T15:12:54.613406",
     "status": "completed"
    },
    "tags": []
   },
   "source": [
    "# <p style=\"border-radius:10px; border:#DEB887 solid; padding:25px; background-color: #FFFAF0; font-size:100%;color:#52017A;text-align:center;\"> Dictionary  </p>"
   ]
  },
  {
   "cell_type": "markdown",
   "id": "eca8ef80",
   "metadata": {
    "papermill": {
     "duration": 0.025812,
     "end_time": "2023-11-04T15:12:54.692261",
     "exception": false,
     "start_time": "2023-11-04T15:12:54.666449",
     "status": "completed"
    },
    "tags": []
   },
   "source": [
    "## In Python, a \"dictionary\" is a built-in data structure that allows you to store a collection of key-value pairs. It is also known as an associative array or a hash map in other programming languages. Dictionaries are unordered(it become ordered after 3.7 pyhton), mutable, and can contain elements of different data types, such as integers, strings, lists, and even other dictionaries"
   ]
  },
  {
   "cell_type": "code",
   "execution_count": 25,
   "id": "d1141855",
   "metadata": {
    "execution": {
     "iopub.execute_input": "2023-11-04T15:12:54.746243Z",
     "iopub.status.busy": "2023-11-04T15:12:54.745827Z",
     "iopub.status.idle": "2023-11-04T15:12:54.752385Z",
     "shell.execute_reply": "2023-11-04T15:12:54.750633Z"
    },
    "papermill": {
     "duration": 0.036521,
     "end_time": "2023-11-04T15:12:54.754848",
     "exception": false,
     "start_time": "2023-11-04T15:12:54.718327",
     "status": "completed"
    },
    "tags": []
   },
   "outputs": [
    {
     "name": "stdout",
     "output_type": "stream",
     "text": [
      "30\n"
     ]
    }
   ],
   "source": [
    "#get(): Returns the value of a specified key. If the key does not exist, it returns the specified default value.\n",
    "my_dict = {'name': 'John', 'age': 30, 'city': 'New York'}\n",
    "print(my_dict.get('age'))"
   ]
  },
  {
   "cell_type": "code",
   "execution_count": 26,
   "id": "a3f65289",
   "metadata": {
    "execution": {
     "iopub.execute_input": "2023-11-04T15:12:54.809355Z",
     "iopub.status.busy": "2023-11-04T15:12:54.808917Z",
     "iopub.status.idle": "2023-11-04T15:12:54.816055Z",
     "shell.execute_reply": "2023-11-04T15:12:54.814737Z"
    },
    "papermill": {
     "duration": 0.037008,
     "end_time": "2023-11-04T15:12:54.818371",
     "exception": false,
     "start_time": "2023-11-04T15:12:54.781363",
     "status": "completed"
    },
    "tags": []
   },
   "outputs": [
    {
     "name": "stdout",
     "output_type": "stream",
     "text": [
      "30\n",
      "{'name': 'John', 'city': 'New York'}\n"
     ]
    }
   ],
   "source": [
    "#pop(): Removes the element with the specified key and returns its value.\n",
    "my_dict = {'name': 'John', 'age': 30, 'city': 'New York'}\n",
    "removed_value = my_dict.pop('age')\n",
    "print(removed_value)\n",
    "print(my_dict)"
   ]
  },
  {
   "cell_type": "code",
   "execution_count": 27,
   "id": "07ae58bf",
   "metadata": {
    "execution": {
     "iopub.execute_input": "2023-11-04T15:12:54.872696Z",
     "iopub.status.busy": "2023-11-04T15:12:54.872306Z",
     "iopub.status.idle": "2023-11-04T15:12:54.878277Z",
     "shell.execute_reply": "2023-11-04T15:12:54.877195Z"
    },
    "papermill": {
     "duration": 0.035692,
     "end_time": "2023-11-04T15:12:54.880480",
     "exception": false,
     "start_time": "2023-11-04T15:12:54.844788",
     "status": "completed"
    },
    "tags": []
   },
   "outputs": [
    {
     "name": "stdout",
     "output_type": "stream",
     "text": [
      "dict_keys(['name', 'age', 'city'])\n"
     ]
    }
   ],
   "source": [
    "#keys(): Returns a view object that displays a list of all the keys in the dictionary.\n",
    "my_dict = {'name': 'John', 'age': 30, 'city': 'New York'}\n",
    "print(my_dict.keys())"
   ]
  },
  {
   "cell_type": "code",
   "execution_count": 28,
   "id": "a238a0a5",
   "metadata": {
    "execution": {
     "iopub.execute_input": "2023-11-04T15:12:54.935677Z",
     "iopub.status.busy": "2023-11-04T15:12:54.935269Z",
     "iopub.status.idle": "2023-11-04T15:12:54.941775Z",
     "shell.execute_reply": "2023-11-04T15:12:54.940273Z"
    },
    "papermill": {
     "duration": 0.037004,
     "end_time": "2023-11-04T15:12:54.944158",
     "exception": false,
     "start_time": "2023-11-04T15:12:54.907154",
     "status": "completed"
    },
    "tags": []
   },
   "outputs": [
    {
     "name": "stdout",
     "output_type": "stream",
     "text": [
      "dict_values(['John', 30, 'New York'])\n"
     ]
    }
   ],
   "source": [
    "#values(): Returns a view object that displays a list of all the values in the dictionary.\n",
    "my_dict = {'name': 'John', 'age': 30, 'city': 'New York'}\n",
    "print(my_dict.values())"
   ]
  },
  {
   "cell_type": "code",
   "execution_count": 29,
   "id": "c9ac77d5",
   "metadata": {
    "execution": {
     "iopub.execute_input": "2023-11-04T15:12:54.999507Z",
     "iopub.status.busy": "2023-11-04T15:12:54.999132Z",
     "iopub.status.idle": "2023-11-04T15:12:55.005091Z",
     "shell.execute_reply": "2023-11-04T15:12:55.003973Z"
    },
    "papermill": {
     "duration": 0.036517,
     "end_time": "2023-11-04T15:12:55.007845",
     "exception": false,
     "start_time": "2023-11-04T15:12:54.971328",
     "status": "completed"
    },
    "tags": []
   },
   "outputs": [
    {
     "name": "stdout",
     "output_type": "stream",
     "text": [
      "dict_items([('name', 'John'), ('age', 30), ('city', 'New York')])\n"
     ]
    }
   ],
   "source": [
    "#items(): Returns a view object that displays a list of key-value pairs in the dictionary as tuples.\n",
    "my_dict = {'name': 'John', 'age': 30, 'city': 'New York'}\n",
    "print(my_dict.items())"
   ]
  },
  {
   "cell_type": "markdown",
   "id": "7dfcfb46",
   "metadata": {
    "papermill": {
     "duration": 0.026089,
     "end_time": "2023-11-04T15:12:55.060592",
     "exception": false,
     "start_time": "2023-11-04T15:12:55.034503",
     "status": "completed"
    },
    "tags": []
   },
   "source": [
    "# <p style=\"border-radius:10px; border:#DEB887 solid; padding:25px; background-color: #FFFAF0; font-size:100%;color:#52017A;text-align:center;\"> Tuple  </p>"
   ]
  },
  {
   "cell_type": "markdown",
   "id": "462b74af",
   "metadata": {
    "papermill": {
     "duration": 0.02621,
     "end_time": "2023-11-04T15:12:55.113856",
     "exception": false,
     "start_time": "2023-11-04T15:12:55.087646",
     "status": "completed"
    },
    "tags": []
   },
   "source": [
    "### In Python, a \"tuple\" is an ordered, immutable collection of elements. Tuples are similar to lists, but unlike lists, they cannot be modified after creation, making them immutable data structures. Tuples are often used to store related pieces of information together and are commonly used in scenarios where data integrity and immutability are required."
   ]
  },
  {
   "cell_type": "code",
   "execution_count": 30,
   "id": "d1e1fbee",
   "metadata": {
    "execution": {
     "iopub.execute_input": "2023-11-04T15:12:55.169323Z",
     "iopub.status.busy": "2023-11-04T15:12:55.168813Z",
     "iopub.status.idle": "2023-11-04T15:12:55.175093Z",
     "shell.execute_reply": "2023-11-04T15:12:55.173987Z"
    },
    "papermill": {
     "duration": 0.03689,
     "end_time": "2023-11-04T15:12:55.177761",
     "exception": false,
     "start_time": "2023-11-04T15:12:55.140871",
     "status": "completed"
    },
    "tags": []
   },
   "outputs": [
    {
     "name": "stdout",
     "output_type": "stream",
     "text": [
      "3\n"
     ]
    }
   ],
   "source": [
    "#count(): Returns the number of occurrences of a specified value in the tuple.\n",
    "my_tuple = (1, 2, 2, 3, 4, 2)\n",
    "count_of_twos = my_tuple.count(2)\n",
    "print(count_of_twos)"
   ]
  },
  {
   "cell_type": "code",
   "execution_count": 31,
   "id": "ff1aa7c4",
   "metadata": {
    "execution": {
     "iopub.execute_input": "2023-11-04T15:12:55.233635Z",
     "iopub.status.busy": "2023-11-04T15:12:55.233260Z",
     "iopub.status.idle": "2023-11-04T15:12:55.239350Z",
     "shell.execute_reply": "2023-11-04T15:12:55.238168Z"
    },
    "papermill": {
     "duration": 0.037898,
     "end_time": "2023-11-04T15:12:55.242344",
     "exception": false,
     "start_time": "2023-11-04T15:12:55.204446",
     "status": "completed"
    },
    "tags": []
   },
   "outputs": [
    {
     "name": "stdout",
     "output_type": "stream",
     "text": [
      "3\n"
     ]
    }
   ],
   "source": [
    "#index(): Returns the index of the first occurrence of a specified value in the tuple.\n",
    "my_tuple = (1, 2, 2, 3, 4, 2)\n",
    "index_of_three = my_tuple.index(3)\n",
    "print(index_of_three)"
   ]
  },
  {
   "cell_type": "markdown",
   "id": "86cfa4e3",
   "metadata": {
    "papermill": {
     "duration": 0.026893,
     "end_time": "2023-11-04T15:12:55.297028",
     "exception": false,
     "start_time": "2023-11-04T15:12:55.270135",
     "status": "completed"
    },
    "tags": []
   },
   "source": [
    "### A tuple can be converted to a list using list(tuple), then you can add the desired elements, and finally, you can convert it back to a tuple."
   ]
  },
  {
   "cell_type": "markdown",
   "id": "5ff5354f",
   "metadata": {
    "papermill": {
     "duration": 0.026119,
     "end_time": "2023-11-04T15:12:55.350244",
     "exception": false,
     "start_time": "2023-11-04T15:12:55.324125",
     "status": "completed"
    },
    "tags": []
   },
   "source": [
    "# <p style=\"border-radius:10px; border:#DEB887 solid; padding:25px; background-color: #FFFAF0; font-size:100%;color:#52017A;text-align:center;\"> Set  </p>"
   ]
  },
  {
   "cell_type": "markdown",
   "id": "cd9ccc07",
   "metadata": {
    "papermill": {
     "duration": 0.027029,
     "end_time": "2023-11-04T15:12:55.405478",
     "exception": false,
     "start_time": "2023-11-04T15:12:55.378449",
     "status": "completed"
    },
    "tags": []
   },
   "source": [
    "## In Python, a \"set\" is an unordered collection of unique elements. Sets are used to store distinct elements, and they provide various methods to perform common set operations, such as union, intersection, difference, and symmetric difference. Sets are mutable, meaning you can add or remove elements after the set is created"
   ]
  },
  {
   "cell_type": "code",
   "execution_count": 32,
   "id": "5c3b6c05",
   "metadata": {
    "execution": {
     "iopub.execute_input": "2023-11-04T15:12:55.460778Z",
     "iopub.status.busy": "2023-11-04T15:12:55.460407Z",
     "iopub.status.idle": "2023-11-04T15:12:55.466484Z",
     "shell.execute_reply": "2023-11-04T15:12:55.465313Z"
    },
    "papermill": {
     "duration": 0.037319,
     "end_time": "2023-11-04T15:12:55.469384",
     "exception": false,
     "start_time": "2023-11-04T15:12:55.432065",
     "status": "completed"
    },
    "tags": []
   },
   "outputs": [
    {
     "name": "stdout",
     "output_type": "stream",
     "text": [
      "{5}\n",
      "{2}\n"
     ]
    }
   ],
   "source": [
    "set1 = {1, 3, 5}\n",
    "set2 = {1, 2, 3}\n",
    "\n",
    "# difference(): Returns a new set containing the difference between two sets.\n",
    "print(set1.difference(set2))\n",
    "print(set2.difference(set1))"
   ]
  },
  {
   "cell_type": "code",
   "execution_count": 33,
   "id": "61caa2aa",
   "metadata": {
    "execution": {
     "iopub.execute_input": "2023-11-04T15:12:55.525809Z",
     "iopub.status.busy": "2023-11-04T15:12:55.525429Z",
     "iopub.status.idle": "2023-11-04T15:12:55.532009Z",
     "shell.execute_reply": "2023-11-04T15:12:55.530724Z"
    },
    "papermill": {
     "duration": 0.038071,
     "end_time": "2023-11-04T15:12:55.534626",
     "exception": false,
     "start_time": "2023-11-04T15:12:55.496555",
     "status": "completed"
    },
    "tags": []
   },
   "outputs": [
    {
     "data": {
      "text/plain": [
       "{2, 5}"
      ]
     },
     "execution_count": 33,
     "metadata": {},
     "output_type": "execute_result"
    }
   ],
   "source": [
    "#Symmetric difference is the set of elements that are in either of the sets, but not in their intersection.\n",
    "#In other words, it returns the elements that are unique to each set.\n",
    "set1.symmetric_difference(set2)"
   ]
  },
  {
   "cell_type": "code",
   "execution_count": 34,
   "id": "59efd734",
   "metadata": {
    "execution": {
     "iopub.execute_input": "2023-11-04T15:12:55.590843Z",
     "iopub.status.busy": "2023-11-04T15:12:55.590451Z",
     "iopub.status.idle": "2023-11-04T15:12:55.595679Z",
     "shell.execute_reply": "2023-11-04T15:12:55.594539Z"
    },
    "papermill": {
     "duration": 0.036728,
     "end_time": "2023-11-04T15:12:55.598593",
     "exception": false,
     "start_time": "2023-11-04T15:12:55.561865",
     "status": "completed"
    },
    "tags": []
   },
   "outputs": [
    {
     "name": "stdout",
     "output_type": "stream",
     "text": [
      "{1, 3}\n"
     ]
    }
   ],
   "source": [
    "#intersection(): Returns a new set containing the intersection of two or more sets.\n",
    "print(set1.intersection(set2))"
   ]
  },
  {
   "cell_type": "code",
   "execution_count": 35,
   "id": "502e9d82",
   "metadata": {
    "execution": {
     "iopub.execute_input": "2023-11-04T15:12:55.654566Z",
     "iopub.status.busy": "2023-11-04T15:12:55.654180Z",
     "iopub.status.idle": "2023-11-04T15:12:55.661306Z",
     "shell.execute_reply": "2023-11-04T15:12:55.660021Z"
    },
    "papermill": {
     "duration": 0.038279,
     "end_time": "2023-11-04T15:12:55.663769",
     "exception": false,
     "start_time": "2023-11-04T15:12:55.625490",
     "status": "completed"
    },
    "tags": []
   },
   "outputs": [
    {
     "data": {
      "text/plain": [
       "{1, 2, 3, 5}"
      ]
     },
     "execution_count": 35,
     "metadata": {},
     "output_type": "execute_result"
    }
   ],
   "source": [
    "#union(): Returns a new set containing the union of two or more sets.\n",
    "set1.union(set2)"
   ]
  },
  {
   "cell_type": "markdown",
   "id": "da3d3489",
   "metadata": {
    "papermill": {
     "duration": 0.026786,
     "end_time": "2023-11-04T15:12:55.718336",
     "exception": false,
     "start_time": "2023-11-04T15:12:55.691550",
     "status": "completed"
    },
    "tags": []
   },
   "source": [
    "# <p style=\"border-radius:10px; border:#DEB887 solid; padding:25px; background-color: #FFFAF0; font-size:100%;color:#52017A;text-align:center;\"> Function  </p>"
   ]
  },
  {
   "cell_type": "markdown",
   "id": "440d9d3e",
   "metadata": {
    "papermill": {
     "duration": 0.026804,
     "end_time": "2023-11-04T15:12:55.772327",
     "exception": false,
     "start_time": "2023-11-04T15:12:55.745523",
     "status": "completed"
    },
    "tags": []
   },
   "source": [
    "## In Python, a \"function\" is a block of organized, reusable code that is used to perform a single, specific task. Functions provide better modularity for your application and allow you to break your program into smaller, more manageable parts. They take input, perform specific tasks, and may return an output. Here are some key features of functions in Python:\n",
    "\n",
    "* **Declaration:** Functions are defined using the def keyword, followed by the function name and parentheses (), which may include parameters. For example:\n",
    "\n",
    "* **Arguments and Parameters:** Functions can take both arguments and parameters. Parameters are specified in the function definition, while arguments are the values passed to the function when it is called.\n",
    "\n",
    "* **Return Statement:** Functions can return a value using the return statement. If no return statement is specified, the function will return None by default.\n",
    "\n",
    "* **Scope:** Variables defined within a function have a local scope, meaning they can only be accessed within that function. Variables defined outside of any function have a global scope and can be accessed throughout the program.\n",
    "\n",
    "* **Reusability:** Functions allow you to reuse the same block of code in different parts of your program, promoting code reusability and reducing redundancy."
   ]
  },
  {
   "cell_type": "code",
   "execution_count": 36,
   "id": "e7f605ea",
   "metadata": {
    "execution": {
     "iopub.execute_input": "2023-11-04T15:12:55.829195Z",
     "iopub.status.busy": "2023-11-04T15:12:55.828795Z",
     "iopub.status.idle": "2023-11-04T15:12:55.834278Z",
     "shell.execute_reply": "2023-11-04T15:12:55.833140Z"
    },
    "papermill": {
     "duration": 0.03706,
     "end_time": "2023-11-04T15:12:55.837140",
     "exception": false,
     "start_time": "2023-11-04T15:12:55.800080",
     "status": "completed"
    },
    "tags": []
   },
   "outputs": [
    {
     "name": "stdout",
     "output_type": "stream",
     "text": [
      "10\n"
     ]
    }
   ],
   "source": [
    "#example of a simple function, which * 2 everything we put inside\n",
    "def calculate(x):\n",
    "    print(x * 2)\n",
    "    \n",
    "calculate(5)"
   ]
  },
  {
   "cell_type": "code",
   "execution_count": 37,
   "id": "472bdd73",
   "metadata": {
    "execution": {
     "iopub.execute_input": "2023-11-04T15:12:55.893804Z",
     "iopub.status.busy": "2023-11-04T15:12:55.893398Z",
     "iopub.status.idle": "2023-11-04T15:12:55.899484Z",
     "shell.execute_reply": "2023-11-04T15:12:55.898325Z"
    },
    "papermill": {
     "duration": 0.037883,
     "end_time": "2023-11-04T15:12:55.902327",
     "exception": false,
     "start_time": "2023-11-04T15:12:55.864444",
     "status": "completed"
    },
    "tags": []
   },
   "outputs": [
    {
     "name": "stdout",
     "output_type": "stream",
     "text": [
      "[144]\n"
     ]
    }
   ],
   "source": [
    "#this is a function that which puts the output into list \n",
    "list_store = []\n",
    "\n",
    "def add_element(a, b):\n",
    "    c = a * b\n",
    "    list_store.append(c)\n",
    "    print(list_store)\n",
    "    \n",
    "add_element(18, 8)  #in this point a= 18 , b = 8  and a*b is c which is 144, appends to list"
   ]
  },
  {
   "cell_type": "markdown",
   "id": "8f35b33e",
   "metadata": {
    "papermill": {
     "duration": 0.02712,
     "end_time": "2023-11-04T15:12:55.957105",
     "exception": false,
     "start_time": "2023-11-04T15:12:55.929985",
     "status": "completed"
    },
    "tags": []
   },
   "source": [
    "### If you find yourself using the same block of code multiple times in your program, it is a good idea to create a function for that specific task. Functions allow you to avoid duplicating code and promote code reusability."
   ]
  },
  {
   "cell_type": "markdown",
   "id": "34132a3d",
   "metadata": {
    "papermill": {
     "duration": 0.027488,
     "end_time": "2023-11-04T15:12:56.012259",
     "exception": false,
     "start_time": "2023-11-04T15:12:55.984771",
     "status": "completed"
    },
    "tags": []
   },
   "source": [
    "# <p style=\"border-radius:10px; border:#DEB887 solid; padding:25px; background-color: #FFFAF0; font-size:100%;color:#52017A;text-align:center;\"> Loops  </p>"
   ]
  },
  {
   "cell_type": "markdown",
   "id": "c688d9ad",
   "metadata": {
    "papermill": {
     "duration": 0.02701,
     "end_time": "2023-11-04T15:12:56.067847",
     "exception": false,
     "start_time": "2023-11-04T15:12:56.040837",
     "status": "completed"
    },
    "tags": []
   },
   "source": [
    "### Loops in Python allow you to execute a block of code repeatedly as long as a specified condition is met. There are two main types of loops in Python:\n",
    "* **For Loop:** A for loop is used to iterate over a sequence (such as a list, tuple, string, or dictionary) or other iterable objects. It allows you to execute a set of statements for each item in the sequence.\n",
    "\n",
    "* **While Loop:** A while loop is used to execute a block of code repeatedly as long as a specified condition is true. It continues to execute the code block until the condition becomes false."
   ]
  },
  {
   "cell_type": "code",
   "execution_count": 38,
   "id": "bceb142e",
   "metadata": {
    "execution": {
     "iopub.execute_input": "2023-11-04T15:12:56.124441Z",
     "iopub.status.busy": "2023-11-04T15:12:56.124071Z",
     "iopub.status.idle": "2023-11-04T15:12:56.129843Z",
     "shell.execute_reply": "2023-11-04T15:12:56.128502Z"
    },
    "papermill": {
     "duration": 0.037678,
     "end_time": "2023-11-04T15:12:56.132731",
     "exception": false,
     "start_time": "2023-11-04T15:12:56.095053",
     "status": "completed"
    },
    "tags": []
   },
   "outputs": [
    {
     "name": "stdout",
     "output_type": "stream",
     "text": [
      "john\n",
      "mark\n",
      "venessa\n",
      "mariam\n"
     ]
    }
   ],
   "source": [
    "students = [\"john\", \"mark\", \"venessa\", \"mariam\"]\n",
    "#for each in students, print each \n",
    "for i in students:\n",
    "    print(i)"
   ]
  },
  {
   "cell_type": "code",
   "execution_count": 39,
   "id": "07779898",
   "metadata": {
    "execution": {
     "iopub.execute_input": "2023-11-04T15:12:56.189798Z",
     "iopub.status.busy": "2023-11-04T15:12:56.189406Z",
     "iopub.status.idle": "2023-11-04T15:12:56.195596Z",
     "shell.execute_reply": "2023-11-04T15:12:56.194435Z"
    },
    "papermill": {
     "duration": 0.037995,
     "end_time": "2023-11-04T15:12:56.198567",
     "exception": false,
     "start_time": "2023-11-04T15:12:56.160572",
     "status": "completed"
    },
    "tags": []
   },
   "outputs": [
    {
     "name": "stdout",
     "output_type": "stream",
     "text": [
      "1200\n",
      "2400\n",
      "3600\n",
      "4800\n",
      "6000\n"
     ]
    }
   ],
   "source": [
    "#i wanna make increase salary %20 of each of my workers, what should i do?\n",
    "salaries = [1000, 2000, 3000, 4000, 5000]\n",
    "#for each in salaries,  *20 /100 each for %20 higher \n",
    "for salary in salaries:  \n",
    "    print(int(salary * 20 / 100 + salary))  "
   ]
  },
  {
   "cell_type": "code",
   "execution_count": 40,
   "id": "3d616b5b",
   "metadata": {
    "execution": {
     "iopub.execute_input": "2023-11-04T15:12:56.259109Z",
     "iopub.status.busy": "2023-11-04T15:12:56.258681Z",
     "iopub.status.idle": "2023-11-04T15:12:56.264659Z",
     "shell.execute_reply": "2023-11-04T15:12:56.263449Z"
    },
    "papermill": {
     "duration": 0.040234,
     "end_time": "2023-11-04T15:12:56.267658",
     "exception": false,
     "start_time": "2023-11-04T15:12:56.227424",
     "status": "completed"
    },
    "tags": []
   },
   "outputs": [
    {
     "name": "stdout",
     "output_type": "stream",
     "text": [
      "1\n",
      "2\n",
      "3\n",
      "4\n"
     ]
    }
   ],
   "source": [
    "#our number is 1, in this functions we tell to stop when it see 5\n",
    "number = 1\n",
    "while number < 5: \n",
    "    print(number)\n",
    "    number += 1"
   ]
  },
  {
   "cell_type": "code",
   "execution_count": 41,
   "id": "5ce1dda7",
   "metadata": {
    "execution": {
     "iopub.execute_input": "2023-11-04T15:12:56.324980Z",
     "iopub.status.busy": "2023-11-04T15:12:56.324571Z",
     "iopub.status.idle": "2023-11-04T15:12:56.332433Z",
     "shell.execute_reply": "2023-11-04T15:12:56.331155Z"
    },
    "papermill": {
     "duration": 0.039525,
     "end_time": "2023-11-04T15:12:56.335243",
     "exception": false,
     "start_time": "2023-11-04T15:12:56.295718",
     "status": "completed"
    },
    "tags": []
   },
   "outputs": [
    {
     "name": "stdout",
     "output_type": "stream",
     "text": [
      "equal to 10\n",
      "greater than 10\n",
      "less than 10\n"
     ]
    }
   ],
   "source": [
    "#check the number, if the number is greater than 10, print greater than 10, elif number is less than 10, print less than 10, otherwise \n",
    "#which is equal to number that we gave, print equal to 10 \n",
    "def numbers(number):\n",
    "    if number > 10:  \n",
    "        print(\"greater than 10\") \n",
    "    elif number < 10: \n",
    "        print(\"less than 10\")  \n",
    "    else:  \n",
    "        print(\"equal to 10\")  \n",
    "        \n",
    "numbers(10)  #first number is 10, so  our output is  \"equal to 10\"\n",
    "numbers(11)  #second number is  11, so  our output is \"greater than 10\"\n",
    "numbers(9)   #thrid number is 9, so our output is \"less than 10\""
   ]
  },
  {
   "cell_type": "markdown",
   "id": "d1d09d42",
   "metadata": {
    "papermill": {
     "duration": 0.029421,
     "end_time": "2023-11-04T15:12:56.392874",
     "exception": false,
     "start_time": "2023-11-04T15:12:56.363453",
     "status": "completed"
    },
    "tags": []
   },
   "source": [
    "# <p style=\"border-radius:10px; border:#DEB887 solid; padding:25px; background-color: #FFFAF0; font-size:100%;color:#52017A;text-align:center;\"> Enumerate  </p>"
   ]
  },
  {
   "cell_type": "markdown",
   "id": "2e06824b",
   "metadata": {
    "papermill": {
     "duration": 0.029078,
     "end_time": "2023-11-04T15:12:56.451450",
     "exception": false,
     "start_time": "2023-11-04T15:12:56.422372",
     "status": "completed"
    },
    "tags": []
   },
   "source": [
    "## In Python, \"enumerate\" is a built-in function that allows you to iterate over a sequence while keeping track of the index of each item. It adds a counter to an iterable and returns it in the form of an enumerate object. This can be useful when you want to keep track of the index or position of each element while iterating."
   ]
  },
  {
   "cell_type": "code",
   "execution_count": 42,
   "id": "a38218a0",
   "metadata": {
    "execution": {
     "iopub.execute_input": "2023-11-04T15:12:56.510190Z",
     "iopub.status.busy": "2023-11-04T15:12:56.509749Z",
     "iopub.status.idle": "2023-11-04T15:12:56.516220Z",
     "shell.execute_reply": "2023-11-04T15:12:56.514966Z"
    },
    "papermill": {
     "duration": 0.038643,
     "end_time": "2023-11-04T15:12:56.518763",
     "exception": false,
     "start_time": "2023-11-04T15:12:56.480120",
     "status": "completed"
    },
    "tags": []
   },
   "outputs": [
    {
     "name": "stdout",
     "output_type": "stream",
     "text": [
      "0 John\n",
      "1 Mark\n",
      "2 Venessa\n",
      "3 Mariam\n"
     ]
    }
   ],
   "source": [
    "#for example when we do it with enumerate, we get  index + name\n",
    "students = [\"John\", \"Mark\", \"Venessa\", \"Mariam\"]\n",
    "for index, student in enumerate(students):\n",
    "    print(index, student)"
   ]
  },
  {
   "cell_type": "code",
   "execution_count": 43,
   "id": "0492a2a8",
   "metadata": {
    "execution": {
     "iopub.execute_input": "2023-11-04T15:12:56.576207Z",
     "iopub.status.busy": "2023-11-04T15:12:56.575654Z",
     "iopub.status.idle": "2023-11-04T15:12:56.585173Z",
     "shell.execute_reply": "2023-11-04T15:12:56.584022Z"
    },
    "papermill": {
     "duration": 0.04094,
     "end_time": "2023-11-04T15:12:56.587574",
     "exception": false,
     "start_time": "2023-11-04T15:12:56.546634",
     "status": "completed"
    },
    "tags": []
   },
   "outputs": [
    {
     "data": {
      "text/plain": [
       "[['John', 'Venessa'], ['Mark', 'Mariam']]"
      ]
     },
     "execution_count": 43,
     "metadata": {},
     "output_type": "execute_result"
    }
   ],
   "source": [
    "#i wanna divide students as a even numbers on list, how can i do?\n",
    "#\"index % 2 == 0,\" checks if the index is an even number, if its even number appends on first group. if its not even number, appends second group\n",
    "def divide_students(students):  \n",
    "    groups = [[], []] \n",
    "    for index, student in enumerate(students): \n",
    "        if index % 2 == 0: \n",
    "            groups[0].append(student)  \n",
    "        else: \n",
    "            groups[1].append(student)  \n",
    "    return groups  \n",
    "\n",
    "divide_students(students)"
   ]
  },
  {
   "cell_type": "code",
   "execution_count": 44,
   "id": "f0c6b758",
   "metadata": {
    "execution": {
     "iopub.execute_input": "2023-11-04T15:12:56.645391Z",
     "iopub.status.busy": "2023-11-04T15:12:56.645014Z",
     "iopub.status.idle": "2023-11-04T15:12:56.652704Z",
     "shell.execute_reply": "2023-11-04T15:12:56.651411Z"
    },
    "papermill": {
     "duration": 0.039528,
     "end_time": "2023-11-04T15:12:56.655231",
     "exception": false,
     "start_time": "2023-11-04T15:12:56.615703",
     "status": "completed"
    },
    "tags": []
   },
   "outputs": [
    {
     "name": "stdout",
     "output_type": "stream",
     "text": [
      "Hi mY NaMe iS JoHn aNd i aM LeArNiNg pYhToN\n"
     ]
    }
   ],
   "source": [
    "#i wanna upper even number indexes of \"hi my name is john and i am learning pyhton\"  string, how can i do?\n",
    "\n",
    "def alternating_with_enumerate(string):   #defining our function\n",
    "    new_string = ''                       #A new empty string is initialized, which will store the modified string.\n",
    "    for i, letter in enumerate(string):   #for each in index and letter, check one by one \n",
    "        if i % 2 == 0:                    #if our index is even number\n",
    "            new_string += letter.upper()  #uppercase the index\n",
    "        else:                             #else our index is not even number\n",
    "            new_string += letter.lower()  #lowercase the index\n",
    "    print(new_string)                     #print the new index\n",
    "    \n",
    "    \n",
    "alternating_with_enumerate(\"hi my name is john and i am learning pyhton\")"
   ]
  },
  {
   "cell_type": "markdown",
   "id": "a82ddbd3",
   "metadata": {
    "papermill": {
     "duration": 0.02773,
     "end_time": "2023-11-04T15:12:56.711567",
     "exception": false,
     "start_time": "2023-11-04T15:12:56.683837",
     "status": "completed"
    },
    "tags": []
   },
   "source": [
    "# <p style=\"border-radius:10px; border:#DEB887 solid; padding:25px; background-color: #FFFAF0; font-size:100%;color:#52017A;text-align:center;\"> Zip  </p>"
   ]
  },
  {
   "cell_type": "markdown",
   "id": "5b05f233",
   "metadata": {
    "papermill": {
     "duration": 0.027653,
     "end_time": "2023-11-04T15:12:56.767228",
     "exception": false,
     "start_time": "2023-11-04T15:12:56.739575",
     "status": "completed"
    },
    "tags": []
   },
   "source": [
    "## In Python, \"zip\" is a built-in function that is used to combine multiple iterables into a single iterable of tuples. It aggregates the elements from each of the iterables based on their positions. The zip function returns an iterator that generates a series of tuples where each tuple contains elements from each iterable at the same index."
   ]
  },
  {
   "cell_type": "code",
   "execution_count": 45,
   "id": "42fddda0",
   "metadata": {
    "execution": {
     "iopub.execute_input": "2023-11-04T15:12:56.826013Z",
     "iopub.status.busy": "2023-11-04T15:12:56.825619Z",
     "iopub.status.idle": "2023-11-04T15:12:56.833269Z",
     "shell.execute_reply": "2023-11-04T15:12:56.832421Z"
    },
    "papermill": {
     "duration": 0.040168,
     "end_time": "2023-11-04T15:12:56.835384",
     "exception": false,
     "start_time": "2023-11-04T15:12:56.795216",
     "status": "completed"
    },
    "tags": []
   },
   "outputs": [
    {
     "data": {
      "text/plain": [
       "[('John', 'mathematics', 23),\n",
       " ('Mark', 'statistic', 30),\n",
       " ('Venessa', 'physics', 25),\n",
       " ('Mariam', 'astronomy', 22)]"
      ]
     },
     "execution_count": 45,
     "metadata": {},
     "output_type": "execute_result"
    }
   ],
   "source": [
    "students = [\"John\", \"Mark\", \"Venessa\", \"Mariam\"]\n",
    "departments = [\"mathematics\", \"statistic\", \"physics\", \"astronomy\"]\n",
    "ages = [23, 30, 25, 22]\n",
    "list(zip(students, departments, ages))"
   ]
  },
  {
   "cell_type": "markdown",
   "id": "a830aaa5",
   "metadata": {
    "papermill": {
     "duration": 0.027918,
     "end_time": "2023-11-04T15:12:56.891578",
     "exception": false,
     "start_time": "2023-11-04T15:12:56.863660",
     "status": "completed"
    },
    "tags": []
   },
   "source": [
    "# <p style=\"border-radius:10px; border:#DEB887 solid; padding:25px; background-color: #FFFAF0; font-size:100%;color:#52017A;text-align:center;\"> Lambda  </p>"
   ]
  },
  {
   "cell_type": "markdown",
   "id": "653725ce",
   "metadata": {
    "papermill": {
     "duration": 0.027801,
     "end_time": "2023-11-04T15:12:56.947528",
     "exception": false,
     "start_time": "2023-11-04T15:12:56.919727",
     "status": "completed"
    },
    "tags": []
   },
   "source": [
    "## In Python, \"lambda\" is a keyword used to create anonymous functions, also known as lambda functions. Lambda functions are small, unnamed functions that can have any number of arguments but can only have one expression. They are typically used when you need a simple function for a short period and don't want to define a formal function using the def keyword."
   ]
  },
  {
   "cell_type": "code",
   "execution_count": 46,
   "id": "4941d528",
   "metadata": {
    "execution": {
     "iopub.execute_input": "2023-11-04T15:12:57.005505Z",
     "iopub.status.busy": "2023-11-04T15:12:57.005060Z",
     "iopub.status.idle": "2023-11-04T15:12:57.011649Z",
     "shell.execute_reply": "2023-11-04T15:12:57.010370Z"
    },
    "papermill": {
     "duration": 0.03896,
     "end_time": "2023-11-04T15:12:57.014644",
     "exception": false,
     "start_time": "2023-11-04T15:12:56.975684",
     "status": "completed"
    },
    "tags": []
   },
   "outputs": [
    {
     "name": "stdout",
     "output_type": "stream",
     "text": [
      "8\n"
     ]
    }
   ],
   "source": [
    "#Creating a lambda function to add two numbers\n",
    "add = lambda x, y: x + y\n",
    "result = add(3, 5)\n",
    "print(result)"
   ]
  },
  {
   "cell_type": "code",
   "execution_count": 47,
   "id": "0b375942",
   "metadata": {
    "execution": {
     "iopub.execute_input": "2023-11-04T15:12:57.074997Z",
     "iopub.status.busy": "2023-11-04T15:12:57.074579Z",
     "iopub.status.idle": "2023-11-04T15:12:57.081100Z",
     "shell.execute_reply": "2023-11-04T15:12:57.079794Z"
    },
    "papermill": {
     "duration": 0.040819,
     "end_time": "2023-11-04T15:12:57.084809",
     "exception": false,
     "start_time": "2023-11-04T15:12:57.043990",
     "status": "completed"
    },
    "tags": []
   },
   "outputs": [
    {
     "name": "stdout",
     "output_type": "stream",
     "text": [
      "[2, 4, 6, 8, 10]\n"
     ]
    }
   ],
   "source": [
    "#Using a lambda function with the map() function to double each element in a list\n",
    "my_list = [1, 2, 3, 4, 5]\n",
    "doubled_list = list(map(lambda x: x * 2, my_list))\n",
    "print(doubled_list) "
   ]
  },
  {
   "cell_type": "markdown",
   "id": "d018dd4f",
   "metadata": {
    "papermill": {
     "duration": 0.030193,
     "end_time": "2023-11-04T15:12:57.146100",
     "exception": false,
     "start_time": "2023-11-04T15:12:57.115907",
     "status": "completed"
    },
    "tags": []
   },
   "source": [
    "# <p style=\"border-radius:10px; border:#DEB887 solid; padding:25px; background-color: #FFFAF0; font-size:100%;color:#52017A;text-align:center;\"> List Comprehension  </p>"
   ]
  },
  {
   "cell_type": "markdown",
   "id": "ab1cce1c",
   "metadata": {
    "papermill": {
     "duration": 0.028817,
     "end_time": "2023-11-04T15:12:57.204141",
     "exception": false,
     "start_time": "2023-11-04T15:12:57.175324",
     "status": "completed"
    },
    "tags": []
   },
   "source": [
    "## In Python, \"List Comprehension\" is a concise and efficient way to create lists. It allows you to create a new list by applying an expression to each item in an iterable (such as a list, string, or range). List comprehensions provide a more compact and readable alternative to using a for loop, especially when the resulting list is a simple transformation of the original list."
   ]
  },
  {
   "cell_type": "code",
   "execution_count": 48,
   "id": "2041df8c",
   "metadata": {
    "execution": {
     "iopub.execute_input": "2023-11-04T15:12:57.265077Z",
     "iopub.status.busy": "2023-11-04T15:12:57.264667Z",
     "iopub.status.idle": "2023-11-04T15:12:57.272364Z",
     "shell.execute_reply": "2023-11-04T15:12:57.271259Z"
    },
    "papermill": {
     "duration": 0.042117,
     "end_time": "2023-11-04T15:12:57.275320",
     "exception": false,
     "start_time": "2023-11-04T15:12:57.233203",
     "status": "completed"
    },
    "tags": []
   },
   "outputs": [
    {
     "data": {
      "text/plain": [
       "[2000, 4000, 0, 0, 0]"
      ]
     },
     "execution_count": 48,
     "metadata": {},
     "output_type": "execute_result"
    }
   ],
   "source": [
    "#salaries below 3000 are doubled, while the salaries equal to or above 3000 are set to 0.\n",
    "salaries = [1000, 2000, 3000, 4000, 5000]\n",
    "[salary * 2 if salary < 3000 else salary * 0 for salary in salaries]"
   ]
  },
  {
   "cell_type": "code",
   "execution_count": 49,
   "id": "507b6d2f",
   "metadata": {
    "execution": {
     "iopub.execute_input": "2023-11-04T15:12:57.335302Z",
     "iopub.status.busy": "2023-11-04T15:12:57.334876Z",
     "iopub.status.idle": "2023-11-04T15:12:57.344880Z",
     "shell.execute_reply": "2023-11-04T15:12:57.344022Z"
    },
    "papermill": {
     "duration": 0.044673,
     "end_time": "2023-11-04T15:12:57.348855",
     "exception": false,
     "start_time": "2023-11-04T15:12:57.304182",
     "status": "completed"
    },
    "tags": []
   },
   "outputs": [
    {
     "data": {
      "text/plain": [
       "['john', 'MARK', 'venessa', 'MARIAM']"
      ]
     },
     "execution_count": 49,
     "metadata": {},
     "output_type": "execute_result"
    }
   ],
   "source": [
    "students = [\"john\", \"mark\", \"venessa\", \"mariam\"]\n",
    "students_no = [\"john\", \"venessa\"]\n",
    "#Go through each element in 'students'. If the element is present in 'students_no', write its name in lowercase; otherwise, write it in uppercase.\n",
    "[student.lower() if student in students_no else student.upper() for student in students]"
   ]
  },
  {
   "cell_type": "markdown",
   "id": "e9c69ff4",
   "metadata": {
    "papermill": {
     "duration": 0.033811,
     "end_time": "2023-11-04T15:12:57.423111",
     "exception": false,
     "start_time": "2023-11-04T15:12:57.389300",
     "status": "completed"
    },
    "tags": []
   },
   "source": [
    "# <p style=\"border-radius:10px; border:#DEB887 solid; padding:25px; background-color: #FFFAF0; font-size:100%;color:#52017A;text-align:center;\"> Dictionary Comprehension  </p>"
   ]
  },
  {
   "cell_type": "markdown",
   "id": "95045230",
   "metadata": {
    "papermill": {
     "duration": 0.032846,
     "end_time": "2023-11-04T15:12:57.485555",
     "exception": false,
     "start_time": "2023-11-04T15:12:57.452709",
     "status": "completed"
    },
    "tags": []
   },
   "source": [
    "## In Python, \"Dictionary Comprehension\" is a concise and efficient way to create dictionaries. It allows you to create a new dictionary by specifying key-value pairs and applying an expression to each item in an iterable. Dictionary comprehension provides a more compact and readable alternative to using a for loop along with the dict() constructor, especially when the resulting dictionary is a simple transformation of the original data. "
   ]
  },
  {
   "cell_type": "code",
   "execution_count": 50,
   "id": "7f71e2dc",
   "metadata": {
    "execution": {
     "iopub.execute_input": "2023-11-04T15:12:57.563323Z",
     "iopub.status.busy": "2023-11-04T15:12:57.562846Z",
     "iopub.status.idle": "2023-11-04T15:12:57.572105Z",
     "shell.execute_reply": "2023-11-04T15:12:57.570870Z"
    },
    "papermill": {
     "duration": 0.052338,
     "end_time": "2023-11-04T15:12:57.574612",
     "exception": false,
     "start_time": "2023-11-04T15:12:57.522274",
     "status": "completed"
    },
    "tags": []
   },
   "outputs": [
    {
     "data": {
      "text/plain": [
       "{'a': 1, 'b': 4, 'c': 9, 'd': 16}"
      ]
     },
     "execution_count": 50,
     "metadata": {},
     "output_type": "execute_result"
    }
   ],
   "source": [
    "dictionary = {'a': 1,\n",
    "              'b': 2,\n",
    "              'c': 3,\n",
    "              'd': 4}\n",
    "#Keep the key values constant and square the values.\n",
    "{k: v ** 2 for (k, v) in dictionary.items()}"
   ]
  },
  {
   "cell_type": "code",
   "execution_count": 51,
   "id": "c20c3246",
   "metadata": {
    "execution": {
     "iopub.execute_input": "2023-11-04T15:12:57.649507Z",
     "iopub.status.busy": "2023-11-04T15:12:57.648654Z",
     "iopub.status.idle": "2023-11-04T15:12:57.657907Z",
     "shell.execute_reply": "2023-11-04T15:12:57.656742Z"
    },
    "papermill": {
     "duration": 0.050344,
     "end_time": "2023-11-04T15:12:57.660605",
     "exception": false,
     "start_time": "2023-11-04T15:12:57.610261",
     "status": "completed"
    },
    "tags": []
   },
   "outputs": [
    {
     "data": {
      "text/plain": [
       "{'A': 1, 'B': 2, 'C': 3, 'D': 4}"
      ]
     },
     "execution_count": 51,
     "metadata": {},
     "output_type": "execute_result"
    }
   ],
   "source": [
    "dictionary = {'a': 1,\n",
    "              'b': 2,\n",
    "              'c': 3,\n",
    "              'd': 4}\n",
    "# Write the key values in uppercase and keep the values constant.\n",
    "{k.upper(): v for (k, v) in dictionary.items()}"
   ]
  },
  {
   "cell_type": "code",
   "execution_count": 52,
   "id": "8e676638",
   "metadata": {
    "execution": {
     "iopub.execute_input": "2023-11-04T15:12:57.725410Z",
     "iopub.status.busy": "2023-11-04T15:12:57.724971Z",
     "iopub.status.idle": "2023-11-04T15:12:57.732533Z",
     "shell.execute_reply": "2023-11-04T15:12:57.731669Z"
    },
    "papermill": {
     "duration": 0.041115,
     "end_time": "2023-11-04T15:12:57.734841",
     "exception": false,
     "start_time": "2023-11-04T15:12:57.693726",
     "status": "completed"
    },
    "tags": []
   },
   "outputs": [
    {
     "data": {
      "text/plain": [
       "{0: 0, 2: 4, 4: 16, 6: 36, 8: 64}"
      ]
     },
     "execution_count": 52,
     "metadata": {},
     "output_type": "execute_result"
    }
   ],
   "source": [
    "#The purpose is to add the squares of even numbers to a dictionary. The keys will represent the original values, while the values \n",
    "#will be the squared values of the even numbers.\n",
    "numbers = range(10)  #we made a numbers from 0 to 10\n",
    "new_dict = {}  # made new dictionary\n",
    "#this code iterates through each element 'n' in the 'numbers' list, and the condition 'if n % 2 == 0' checks if the number is even.\n",
    "{n: n ** 2 for n in numbers if n % 2 == 0}"
   ]
  }
 ],
 "metadata": {
  "kernelspec": {
   "display_name": "Python 3",
   "language": "python",
   "name": "python3"
  },
  "language_info": {
   "codemirror_mode": {
    "name": "ipython",
    "version": 3
   },
   "file_extension": ".py",
   "mimetype": "text/x-python",
   "name": "python",
   "nbconvert_exporter": "python",
   "pygments_lexer": "ipython3",
   "version": "3.10.12"
  },
  "papermill": {
   "default_parameters": {},
   "duration": 9.435266,
   "end_time": "2023-11-04T15:12:58.186254",
   "environment_variables": {},
   "exception": null,
   "input_path": "__notebook__.ipynb",
   "output_path": "__notebook__.ipynb",
   "parameters": {},
   "start_time": "2023-11-04T15:12:48.750988",
   "version": "2.4.0"
  }
 },
 "nbformat": 4,
 "nbformat_minor": 5
}
