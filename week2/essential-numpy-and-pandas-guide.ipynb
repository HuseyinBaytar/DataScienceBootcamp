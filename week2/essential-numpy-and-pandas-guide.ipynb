{
 "cells": [
  {
   "cell_type": "markdown",
   "id": "723ae46b",
   "metadata": {
    "papermill": {
     "duration": 0.028481,
     "end_time": "2023-11-05T13:41:05.285471",
     "exception": false,
     "start_time": "2023-11-05T13:41:05.256990",
     "status": "completed"
    },
    "tags": []
   },
   "source": [
    "# <p style=\"background-color:lightgray; font-family:verdana; font-size:250%; text-align:center; border-radius: 15px 20px;\">🟠Numpy and Pandas🟠</p>"
   ]
  },
  {
   "cell_type": "markdown",
   "id": "53ec5928",
   "metadata": {
    "papermill": {
     "duration": 0.026925,
     "end_time": "2023-11-05T13:41:05.339972",
     "exception": false,
     "start_time": "2023-11-05T13:41:05.313047",
     "status": "completed"
    },
    "tags": []
   },
   "source": [
    "# <p style=\"border-radius:10px; border:#DEB887 solid; padding:25px; background-color: #FFFAF0; font-size:100%;color:#52017A;text-align:center;\"> Numpy  </p>"
   ]
  },
  {
   "cell_type": "markdown",
   "id": "c2f5dbf5",
   "metadata": {
    "papermill": {
     "duration": 0.027098,
     "end_time": "2023-11-05T13:41:05.395114",
     "exception": false,
     "start_time": "2023-11-05T13:41:05.368016",
     "status": "completed"
    },
    "tags": []
   },
   "source": [
    "<div style=\"border-radius:10px; border:#D0C2F0 solid; padding: 15px; background-color: #FFF0F4; font-size:100%; text-align:left\">\n",
    "\n",
    "<h3 align=\"left\"><font color='#5E5273'>🔍 What is Numpy and why should i use Numpy ?</font></h3>"
   ]
  },
  {
   "cell_type": "markdown",
   "id": "4a54607b",
   "metadata": {
    "papermill": {
     "duration": 0.027095,
     "end_time": "2023-11-05T13:41:05.449121",
     "exception": false,
     "start_time": "2023-11-05T13:41:05.422026",
     "status": "completed"
    },
    "tags": []
   },
   "source": [
    "### Numpy is the abbreviation for Numerical Python. It is a library that is developed for mathematics and statistics operations. Unlike lists, numpy holds data with a fixed type, allowing for efficient operations. It provides the capability to perform more operations with less effort.\n",
    "\n",
    "### There is two important reasons for using Numpy, which is;\n",
    "\n",
    "* Speed, it holds fixed data so it is fast.\n",
    "* It easily enables high-level operations."
   ]
  },
  {
   "cell_type": "code",
   "execution_count": 1,
   "id": "55f603a8",
   "metadata": {
    "_cell_guid": "b1076dfc-b9ad-4769-8c92-a6c4dae69d19",
    "_uuid": "8f2839f25d086af736a60e9eeb907d3b93b6e0e5",
    "execution": {
     "iopub.execute_input": "2023-11-05T13:41:05.508044Z",
     "iopub.status.busy": "2023-11-05T13:41:05.507623Z",
     "iopub.status.idle": "2023-11-05T13:41:05.518792Z",
     "shell.execute_reply": "2023-11-05T13:41:05.517846Z"
    },
    "papermill": {
     "duration": 0.042811,
     "end_time": "2023-11-05T13:41:05.521211",
     "exception": false,
     "start_time": "2023-11-05T13:41:05.478400",
     "status": "completed"
    },
    "tags": []
   },
   "outputs": [],
   "source": [
    "#we are importing numpy as np, so in next parts when we are using the library, our shortcut will be np\n",
    "import numpy as np"
   ]
  },
  {
   "cell_type": "code",
   "execution_count": 2,
   "id": "6b980057",
   "metadata": {
    "execution": {
     "iopub.execute_input": "2023-11-05T13:41:05.641894Z",
     "iopub.status.busy": "2023-11-05T13:41:05.640858Z",
     "iopub.status.idle": "2023-11-05T13:41:05.650540Z",
     "shell.execute_reply": "2023-11-05T13:41:05.649360Z"
    },
    "papermill": {
     "duration": 0.104288,
     "end_time": "2023-11-05T13:41:05.653380",
     "exception": false,
     "start_time": "2023-11-05T13:41:05.549092",
     "status": "completed"
    },
    "tags": []
   },
   "outputs": [
    {
     "data": {
      "text/plain": [
       "[2, 6, 12, 20]"
      ]
     },
     "execution_count": 2,
     "metadata": {},
     "output_type": "execute_result"
    }
   ],
   "source": [
    "#in a pyhtonic way, for multiplication of two different list, we have to make a for loops and long codes like below;\n",
    "a = [1,2,3,4]\n",
    "b = [2,3,4,5] \n",
    "ab = []\n",
    "for i in range(0, len(a)):\n",
    "    ab.append(a[i] * b[i])\n",
    "ab"
   ]
  },
  {
   "cell_type": "code",
   "execution_count": 3,
   "id": "c1cc84fe",
   "metadata": {
    "execution": {
     "iopub.execute_input": "2023-11-05T13:41:05.710938Z",
     "iopub.status.busy": "2023-11-05T13:41:05.710563Z",
     "iopub.status.idle": "2023-11-05T13:41:05.721019Z",
     "shell.execute_reply": "2023-11-05T13:41:05.720154Z"
    },
    "papermill": {
     "duration": 0.042335,
     "end_time": "2023-11-05T13:41:05.723345",
     "exception": false,
     "start_time": "2023-11-05T13:41:05.681010",
     "status": "completed"
    },
    "tags": []
   },
   "outputs": [
    {
     "data": {
      "text/plain": [
       "array([ 2,  6, 12, 20])"
      ]
     },
     "execution_count": 3,
     "metadata": {},
     "output_type": "execute_result"
    }
   ],
   "source": [
    "#but as you can see, with numpy we can do it waaaaay tooo more faster..\n",
    "a = np.array([1,2,3,4])\n",
    "b = np.array([2,3,4,5])\n",
    "a * b"
   ]
  },
  {
   "cell_type": "markdown",
   "id": "fccfd9e8",
   "metadata": {
    "papermill": {
     "duration": 0.028116,
     "end_time": "2023-11-05T13:41:05.780003",
     "exception": false,
     "start_time": "2023-11-05T13:41:05.751887",
     "status": "completed"
    },
    "tags": []
   },
   "source": [
    "<div style=\"border-radius:10px; border:#D0C2F0 solid; padding: 15px; background-color: #FFF0F4; font-size:100%; text-align:left\">\n",
    "\n",
    "<h3 align=\"left\"><font color='#5E5273'>🔍 How can i make Numpy array?</font></h3>"
   ]
  },
  {
   "cell_type": "code",
   "execution_count": 4,
   "id": "b86872a0",
   "metadata": {
    "execution": {
     "iopub.execute_input": "2023-11-05T13:41:05.838904Z",
     "iopub.status.busy": "2023-11-05T13:41:05.838494Z",
     "iopub.status.idle": "2023-11-05T13:41:05.845577Z",
     "shell.execute_reply": "2023-11-05T13:41:05.844772Z"
    },
    "papermill": {
     "duration": 0.03927,
     "end_time": "2023-11-05T13:41:05.847686",
     "exception": false,
     "start_time": "2023-11-05T13:41:05.808416",
     "status": "completed"
    },
    "tags": []
   },
   "outputs": [
    {
     "data": {
      "text/plain": [
       "numpy.ndarray"
      ]
     },
     "execution_count": 4,
     "metadata": {},
     "output_type": "execute_result"
    }
   ],
   "source": [
    "np.array([1,2,3,4,5])\n",
    "type(np.array([1,2,3,4,5]))"
   ]
  },
  {
   "cell_type": "code",
   "execution_count": 5,
   "id": "2b662a36",
   "metadata": {
    "execution": {
     "iopub.execute_input": "2023-11-05T13:41:05.909307Z",
     "iopub.status.busy": "2023-11-05T13:41:05.908125Z",
     "iopub.status.idle": "2023-11-05T13:41:05.914915Z",
     "shell.execute_reply": "2023-11-05T13:41:05.914019Z"
    },
    "papermill": {
     "duration": 0.03969,
     "end_time": "2023-11-05T13:41:05.917583",
     "exception": false,
     "start_time": "2023-11-05T13:41:05.877893",
     "status": "completed"
    },
    "tags": []
   },
   "outputs": [
    {
     "data": {
      "text/plain": [
       "array([0, 0, 0, 0, 0, 0, 0, 0, 0, 0])"
      ]
     },
     "execution_count": 5,
     "metadata": {},
     "output_type": "execute_result"
    }
   ],
   "source": [
    "#We called the zeros method from the numpy library, which creates the specified number of zeros inside the method.\n",
    "np.zeros(10, dtype= int)"
   ]
  },
  {
   "cell_type": "code",
   "execution_count": 6,
   "id": "bdf85271",
   "metadata": {
    "execution": {
     "iopub.execute_input": "2023-11-05T13:41:05.979392Z",
     "iopub.status.busy": "2023-11-05T13:41:05.978823Z",
     "iopub.status.idle": "2023-11-05T13:41:05.985767Z",
     "shell.execute_reply": "2023-11-05T13:41:05.984892Z"
    },
    "papermill": {
     "duration": 0.038778,
     "end_time": "2023-11-05T13:41:05.987953",
     "exception": false,
     "start_time": "2023-11-05T13:41:05.949175",
     "status": "completed"
    },
    "tags": []
   },
   "outputs": [
    {
     "data": {
      "text/plain": [
       "array([9, 7, 0, 4, 8, 1, 2, 8, 0, 8])"
      ]
     },
     "execution_count": 6,
     "metadata": {},
     "output_type": "execute_result"
    }
   ],
   "source": [
    "#Method used for generating random numbers\n",
    "np.random.randint(0, 10, size= 10)      #We selected a random number within a specific range"
   ]
  },
  {
   "cell_type": "code",
   "execution_count": 7,
   "id": "70e5a91e",
   "metadata": {
    "execution": {
     "iopub.execute_input": "2023-11-05T13:41:06.049196Z",
     "iopub.status.busy": "2023-11-05T13:41:06.048049Z",
     "iopub.status.idle": "2023-11-05T13:41:06.056807Z",
     "shell.execute_reply": "2023-11-05T13:41:06.055508Z"
    },
    "papermill": {
     "duration": 0.041608,
     "end_time": "2023-11-05T13:41:06.059656",
     "exception": false,
     "start_time": "2023-11-05T13:41:06.018048",
     "status": "completed"
    },
    "tags": []
   },
   "outputs": [
    {
     "data": {
      "text/plain": [
       "array([[ 3.16606785,  9.21082014, 12.94917235, 13.30876884],\n",
       "       [16.49395405,  9.35030388, 16.22871289, 12.12280719],\n",
       "       [ 8.7716617 , 12.12550669, 11.77037549,  9.43031107]])"
      ]
     },
     "execution_count": 7,
     "metadata": {},
     "output_type": "execute_result"
    }
   ],
   "source": [
    "np.random.normal(10,4,(3,4))  #We generated a random number of size 3x4 with a mean of 10 and a standard deviation of 4."
   ]
  },
  {
   "cell_type": "markdown",
   "id": "2e069929",
   "metadata": {
    "papermill": {
     "duration": 0.029459,
     "end_time": "2023-11-05T13:41:06.118958",
     "exception": false,
     "start_time": "2023-11-05T13:41:06.089499",
     "status": "completed"
    },
    "tags": []
   },
   "source": [
    "<div style=\"border-radius:10px; border:#D0C2F0 solid; padding: 15px; background-color: #FFF0F4; font-size:100%; text-align:left\">\n",
    "\n",
    "<h3 align=\"left\"><font color='#5E5273'>🔍 What are the Numpy Array Properties?</font></h3>"
   ]
  },
  {
   "cell_type": "code",
   "execution_count": 8,
   "id": "9ccf1f0d",
   "metadata": {
    "execution": {
     "iopub.execute_input": "2023-11-05T13:41:06.179652Z",
     "iopub.status.busy": "2023-11-05T13:41:06.178868Z",
     "iopub.status.idle": "2023-11-05T13:41:06.183329Z",
     "shell.execute_reply": "2023-11-05T13:41:06.182528Z"
    },
    "papermill": {
     "duration": 0.03736,
     "end_time": "2023-11-05T13:41:06.185715",
     "exception": false,
     "start_time": "2023-11-05T13:41:06.148355",
     "status": "completed"
    },
    "tags": []
   },
   "outputs": [],
   "source": [
    "#First of all lets make an array for ourself\n",
    "a = np.random.randint(10, size=5)"
   ]
  },
  {
   "cell_type": "code",
   "execution_count": 9,
   "id": "b22c3783",
   "metadata": {
    "execution": {
     "iopub.execute_input": "2023-11-05T13:41:06.244898Z",
     "iopub.status.busy": "2023-11-05T13:41:06.244145Z",
     "iopub.status.idle": "2023-11-05T13:41:06.249986Z",
     "shell.execute_reply": "2023-11-05T13:41:06.249158Z"
    },
    "papermill": {
     "duration": 0.038523,
     "end_time": "2023-11-05T13:41:06.252875",
     "exception": false,
     "start_time": "2023-11-05T13:41:06.214352",
     "status": "completed"
    },
    "tags": []
   },
   "outputs": [
    {
     "data": {
      "text/plain": [
       "1"
      ]
     },
     "execution_count": 9,
     "metadata": {},
     "output_type": "execute_result"
    }
   ],
   "source": [
    "a.ndim   # dimension info"
   ]
  },
  {
   "cell_type": "code",
   "execution_count": 10,
   "id": "afe0f3cc",
   "metadata": {
    "execution": {
     "iopub.execute_input": "2023-11-05T13:41:06.313272Z",
     "iopub.status.busy": "2023-11-05T13:41:06.312555Z",
     "iopub.status.idle": "2023-11-05T13:41:06.319306Z",
     "shell.execute_reply": "2023-11-05T13:41:06.318155Z"
    },
    "papermill": {
     "duration": 0.040017,
     "end_time": "2023-11-05T13:41:06.321854",
     "exception": false,
     "start_time": "2023-11-05T13:41:06.281837",
     "status": "completed"
    },
    "tags": []
   },
   "outputs": [
    {
     "data": {
      "text/plain": [
       "(5,)"
      ]
     },
     "execution_count": 10,
     "metadata": {},
     "output_type": "execute_result"
    }
   ],
   "source": [
    "a.shape  # this is also dimension info but it shows that we have 5 number inside"
   ]
  },
  {
   "cell_type": "code",
   "execution_count": 11,
   "id": "7844f317",
   "metadata": {
    "execution": {
     "iopub.execute_input": "2023-11-05T13:41:06.381018Z",
     "iopub.status.busy": "2023-11-05T13:41:06.380604Z",
     "iopub.status.idle": "2023-11-05T13:41:06.387764Z",
     "shell.execute_reply": "2023-11-05T13:41:06.386628Z"
    },
    "papermill": {
     "duration": 0.03997,
     "end_time": "2023-11-05T13:41:06.390249",
     "exception": false,
     "start_time": "2023-11-05T13:41:06.350279",
     "status": "completed"
    },
    "tags": []
   },
   "outputs": [
    {
     "data": {
      "text/plain": [
       "5"
      ]
     },
     "execution_count": 11,
     "metadata": {},
     "output_type": "execute_result"
    }
   ],
   "source": [
    "a.size   #total number inside of our numpy array"
   ]
  },
  {
   "cell_type": "code",
   "execution_count": 12,
   "id": "662455bf",
   "metadata": {
    "execution": {
     "iopub.execute_input": "2023-11-05T13:41:06.449427Z",
     "iopub.status.busy": "2023-11-05T13:41:06.449014Z",
     "iopub.status.idle": "2023-11-05T13:41:06.455513Z",
     "shell.execute_reply": "2023-11-05T13:41:06.454745Z"
    },
    "papermill": {
     "duration": 0.038594,
     "end_time": "2023-11-05T13:41:06.457824",
     "exception": false,
     "start_time": "2023-11-05T13:41:06.419230",
     "status": "completed"
    },
    "tags": []
   },
   "outputs": [
    {
     "data": {
      "text/plain": [
       "dtype('int64')"
      ]
     },
     "execution_count": 12,
     "metadata": {},
     "output_type": "execute_result"
    }
   ],
   "source": [
    "a.dtype  #type of our array"
   ]
  },
  {
   "cell_type": "markdown",
   "id": "97f4d156",
   "metadata": {
    "papermill": {
     "duration": 0.028267,
     "end_time": "2023-11-05T13:41:06.515998",
     "exception": false,
     "start_time": "2023-11-05T13:41:06.487731",
     "status": "completed"
    },
    "tags": []
   },
   "source": [
    "<div style=\"border-radius:10px; border:#D0C2F0 solid; padding: 15px; background-color: #FFF0F4; font-size:100%; text-align:left\">\n",
    "\n",
    "<h3 align=\"left\"><font color='#5E5273'>🔍 Can i reshape my Numpy array?</font></h3>"
   ]
  },
  {
   "cell_type": "code",
   "execution_count": 13,
   "id": "87fd58f4",
   "metadata": {
    "execution": {
     "iopub.execute_input": "2023-11-05T13:41:06.578591Z",
     "iopub.status.busy": "2023-11-05T13:41:06.578166Z",
     "iopub.status.idle": "2023-11-05T13:41:06.584916Z",
     "shell.execute_reply": "2023-11-05T13:41:06.584086Z"
    },
    "papermill": {
     "duration": 0.041044,
     "end_time": "2023-11-05T13:41:06.587029",
     "exception": false,
     "start_time": "2023-11-05T13:41:06.545985",
     "status": "completed"
    },
    "tags": []
   },
   "outputs": [
    {
     "data": {
      "text/plain": [
       "array([3, 9, 2, 1, 6, 9, 1, 4, 1])"
      ]
     },
     "execution_count": 13,
     "metadata": {},
     "output_type": "execute_result"
    }
   ],
   "source": [
    "#we have one dimension array\n",
    "np.random.randint(0, 10, size= 9)"
   ]
  },
  {
   "cell_type": "code",
   "execution_count": 14,
   "id": "3cd6289d",
   "metadata": {
    "execution": {
     "iopub.execute_input": "2023-11-05T13:41:06.647769Z",
     "iopub.status.busy": "2023-11-05T13:41:06.647348Z",
     "iopub.status.idle": "2023-11-05T13:41:06.654677Z",
     "shell.execute_reply": "2023-11-05T13:41:06.653809Z"
    },
    "papermill": {
     "duration": 0.040242,
     "end_time": "2023-11-05T13:41:06.657044",
     "exception": false,
     "start_time": "2023-11-05T13:41:06.616802",
     "status": "completed"
    },
    "tags": []
   },
   "outputs": [
    {
     "data": {
      "text/plain": [
       "array([[3, 2, 0],\n",
       "       [6, 6, 5],\n",
       "       [4, 8, 6]])"
      ]
     },
     "execution_count": 14,
     "metadata": {},
     "output_type": "execute_result"
    }
   ],
   "source": [
    "#We used .reshape(3,3) to reshape it into a 3x3 dimension. Since it has 9 elements, we were able to reshape it to 3x3; if it were 10, \n",
    "#it would have thrown an error.\n",
    "np.random.randint(0, 10, size= 9).reshape(3,3)"
   ]
  },
  {
   "cell_type": "markdown",
   "id": "ae9c8782",
   "metadata": {
    "papermill": {
     "duration": 0.028518,
     "end_time": "2023-11-05T13:41:06.714759",
     "exception": false,
     "start_time": "2023-11-05T13:41:06.686241",
     "status": "completed"
    },
    "tags": []
   },
   "source": [
    "<div style=\"border-radius:10px; border:#D0C2F0 solid; padding: 15px; background-color: #FFF0F4; font-size:100%; text-align:left\">\n",
    "\n",
    "<h3 align=\"left\"><font color='#5E5273'>🔍 Can i select index that i want in Numpy array?</font></h3>"
   ]
  },
  {
   "cell_type": "code",
   "execution_count": 15,
   "id": "11a1d7a2",
   "metadata": {
    "execution": {
     "iopub.execute_input": "2023-11-05T13:41:06.774324Z",
     "iopub.status.busy": "2023-11-05T13:41:06.773888Z",
     "iopub.status.idle": "2023-11-05T13:41:06.779149Z",
     "shell.execute_reply": "2023-11-05T13:41:06.777858Z"
    },
    "papermill": {
     "duration": 0.037977,
     "end_time": "2023-11-05T13:41:06.781723",
     "exception": false,
     "start_time": "2023-11-05T13:41:06.743746",
     "status": "completed"
    },
    "tags": []
   },
   "outputs": [],
   "source": [
    "#we made an array\n",
    "a = np.random.randint(10, size= 10)"
   ]
  },
  {
   "cell_type": "code",
   "execution_count": 16,
   "id": "39f5d4c1",
   "metadata": {
    "execution": {
     "iopub.execute_input": "2023-11-05T13:41:06.841311Z",
     "iopub.status.busy": "2023-11-05T13:41:06.840896Z",
     "iopub.status.idle": "2023-11-05T13:41:06.847641Z",
     "shell.execute_reply": "2023-11-05T13:41:06.846431Z"
    },
    "papermill": {
     "duration": 0.039588,
     "end_time": "2023-11-05T13:41:06.850230",
     "exception": false,
     "start_time": "2023-11-05T13:41:06.810642",
     "status": "completed"
    },
    "tags": []
   },
   "outputs": [
    {
     "data": {
      "text/plain": [
       "0"
      ]
     },
     "execution_count": 16,
     "metadata": {},
     "output_type": "execute_result"
    }
   ],
   "source": [
    "# The assigned value can go to the desired value with the [given number from the list], here we went to the first element.\n",
    "a[0] #this operation is called index selection"
   ]
  },
  {
   "cell_type": "code",
   "execution_count": 17,
   "id": "65ab9a2a",
   "metadata": {
    "execution": {
     "iopub.execute_input": "2023-11-05T13:41:06.910230Z",
     "iopub.status.busy": "2023-11-05T13:41:06.909814Z",
     "iopub.status.idle": "2023-11-05T13:41:06.916229Z",
     "shell.execute_reply": "2023-11-05T13:41:06.915384Z"
    },
    "papermill": {
     "duration": 0.038957,
     "end_time": "2023-11-05T13:41:06.918385",
     "exception": false,
     "start_time": "2023-11-05T13:41:06.879428",
     "status": "completed"
    },
    "tags": []
   },
   "outputs": [
    {
     "data": {
      "text/plain": [
       "array([0, 4, 6, 7, 6])"
      ]
     },
     "execution_count": 17,
     "metadata": {},
     "output_type": "execute_result"
    }
   ],
   "source": [
    "#When we say 0:5, it means we went from 0 to 5, including 0 but not including 5. So, it selects the 0th, 1st, 2nd, 3rd, and 4th elements.\n",
    "a[0:5]"
   ]
  },
  {
   "cell_type": "code",
   "execution_count": 18,
   "id": "9c154399",
   "metadata": {
    "execution": {
     "iopub.execute_input": "2023-11-05T13:41:06.979825Z",
     "iopub.status.busy": "2023-11-05T13:41:06.979451Z",
     "iopub.status.idle": "2023-11-05T13:41:06.986141Z",
     "shell.execute_reply": "2023-11-05T13:41:06.985120Z"
    },
    "papermill": {
     "duration": 0.04108,
     "end_time": "2023-11-05T13:41:06.988562",
     "exception": false,
     "start_time": "2023-11-05T13:41:06.947482",
     "status": "completed"
    },
    "tags": []
   },
   "outputs": [
    {
     "data": {
      "text/plain": [
       "array([999,   4,   6,   7,   6,   7,   4,   0,   3,   2])"
      ]
     },
     "execution_count": 18,
     "metadata": {},
     "output_type": "execute_result"
    }
   ],
   "source": [
    "a[0] = 999   # With this assignment, we are changing our first value to 999.\n",
    "a"
   ]
  },
  {
   "cell_type": "code",
   "execution_count": 19,
   "id": "07750206",
   "metadata": {
    "execution": {
     "iopub.execute_input": "2023-11-05T13:41:07.049735Z",
     "iopub.status.busy": "2023-11-05T13:41:07.049293Z",
     "iopub.status.idle": "2023-11-05T13:41:07.056771Z",
     "shell.execute_reply": "2023-11-05T13:41:07.055939Z"
    },
    "papermill": {
     "duration": 0.040663,
     "end_time": "2023-11-05T13:41:07.058829",
     "exception": false,
     "start_time": "2023-11-05T13:41:07.018166",
     "status": "completed"
    },
    "tags": []
   },
   "outputs": [
    {
     "data": {
      "text/plain": [
       "array([[9, 2, 1, 5, 6],\n",
       "       [0, 1, 9, 5, 5],\n",
       "       [9, 4, 1, 1, 2]])"
      ]
     },
     "execution_count": 19,
     "metadata": {},
     "output_type": "execute_result"
    }
   ],
   "source": [
    "#We created a 3x5 array of random numbers from 0 to 10.\n",
    "m = np.random.randint(10, size=(3,5))\n",
    "m"
   ]
  },
  {
   "cell_type": "code",
   "execution_count": 20,
   "id": "e3fc47dd",
   "metadata": {
    "execution": {
     "iopub.execute_input": "2023-11-05T13:41:07.119360Z",
     "iopub.status.busy": "2023-11-05T13:41:07.118911Z",
     "iopub.status.idle": "2023-11-05T13:41:07.124898Z",
     "shell.execute_reply": "2023-11-05T13:41:07.124109Z"
    },
    "papermill": {
     "duration": 0.039015,
     "end_time": "2023-11-05T13:41:07.127300",
     "exception": false,
     "start_time": "2023-11-05T13:41:07.088285",
     "status": "completed"
    },
    "tags": []
   },
   "outputs": [
    {
     "data": {
      "text/plain": [
       "9"
      ]
     },
     "execution_count": 20,
     "metadata": {},
     "output_type": "execute_result"
    }
   ],
   "source": [
    "#If we want to access the first expression, before the comma represents the rows, and after the comma represents the columns.\n",
    "m[0,0]"
   ]
  },
  {
   "cell_type": "code",
   "execution_count": 21,
   "id": "0967065e",
   "metadata": {
    "execution": {
     "iopub.execute_input": "2023-11-05T13:41:07.188895Z",
     "iopub.status.busy": "2023-11-05T13:41:07.188521Z",
     "iopub.status.idle": "2023-11-05T13:41:07.196007Z",
     "shell.execute_reply": "2023-11-05T13:41:07.194905Z"
    },
    "papermill": {
     "duration": 0.041414,
     "end_time": "2023-11-05T13:41:07.198455",
     "exception": false,
     "start_time": "2023-11-05T13:41:07.157041",
     "status": "completed"
    },
    "tags": []
   },
   "outputs": [
    {
     "data": {
      "text/plain": [
       "1"
      ]
     },
     "execution_count": 21,
     "metadata": {},
     "output_type": "execute_result"
    }
   ],
   "source": [
    "m[2,3] # 2nd row, 3rd column\""
   ]
  },
  {
   "cell_type": "code",
   "execution_count": 22,
   "id": "195469f3",
   "metadata": {
    "execution": {
     "iopub.execute_input": "2023-11-05T13:41:07.262432Z",
     "iopub.status.busy": "2023-11-05T13:41:07.262032Z",
     "iopub.status.idle": "2023-11-05T13:41:07.269461Z",
     "shell.execute_reply": "2023-11-05T13:41:07.268245Z"
    },
    "papermill": {
     "duration": 0.043074,
     "end_time": "2023-11-05T13:41:07.271898",
     "exception": false,
     "start_time": "2023-11-05T13:41:07.228824",
     "status": "completed"
    },
    "tags": []
   },
   "outputs": [
    {
     "data": {
      "text/plain": [
       "array([[9, 2, 1, 5, 6],\n",
       "       [0, 1, 9, 5, 5],\n",
       "       [9, 4, 1, 2, 2]])"
      ]
     },
     "execution_count": 22,
     "metadata": {},
     "output_type": "execute_result"
    }
   ],
   "source": [
    "#Numpy is a fixed-type array, so if we assign a float value to this list that we have previously assigned as an integer,\n",
    "#it will enter as an integer.\n",
    "m[2,3] = 2.9\n",
    "m"
   ]
  },
  {
   "cell_type": "code",
   "execution_count": 23,
   "id": "48244d9e",
   "metadata": {
    "execution": {
     "iopub.execute_input": "2023-11-05T13:41:07.333612Z",
     "iopub.status.busy": "2023-11-05T13:41:07.333225Z",
     "iopub.status.idle": "2023-11-05T13:41:07.340117Z",
     "shell.execute_reply": "2023-11-05T13:41:07.338985Z"
    },
    "papermill": {
     "duration": 0.040495,
     "end_time": "2023-11-05T13:41:07.342456",
     "exception": false,
     "start_time": "2023-11-05T13:41:07.301961",
     "status": "completed"
    },
    "tags": []
   },
   "outputs": [
    {
     "data": {
      "text/plain": [
       "array([9, 0, 9])"
      ]
     },
     "execution_count": 23,
     "metadata": {},
     "output_type": "execute_result"
    }
   ],
   "source": [
    "#We said select all rows with :, and we selected the given column with a comma.\n",
    "m[:,0]"
   ]
  },
  {
   "cell_type": "code",
   "execution_count": 24,
   "id": "bf942dd6",
   "metadata": {
    "execution": {
     "iopub.execute_input": "2023-11-05T13:41:07.406023Z",
     "iopub.status.busy": "2023-11-05T13:41:07.405625Z",
     "iopub.status.idle": "2023-11-05T13:41:07.412435Z",
     "shell.execute_reply": "2023-11-05T13:41:07.411632Z"
    },
    "papermill": {
     "duration": 0.040703,
     "end_time": "2023-11-05T13:41:07.414556",
     "exception": false,
     "start_time": "2023-11-05T13:41:07.373853",
     "status": "completed"
    },
    "tags": []
   },
   "outputs": [
    {
     "data": {
      "text/plain": [
       "array([0, 1, 9, 5, 5])"
      ]
     },
     "execution_count": 24,
     "metadata": {},
     "output_type": "execute_result"
    }
   ],
   "source": [
    "#To select the 1st row and all columns, we would write the following expression:\n",
    "m[1, : ]"
   ]
  },
  {
   "cell_type": "code",
   "execution_count": 25,
   "id": "11c75ab9",
   "metadata": {
    "execution": {
     "iopub.execute_input": "2023-11-05T13:41:07.477551Z",
     "iopub.status.busy": "2023-11-05T13:41:07.477172Z",
     "iopub.status.idle": "2023-11-05T13:41:07.484232Z",
     "shell.execute_reply": "2023-11-05T13:41:07.483112Z"
    },
    "papermill": {
     "duration": 0.041338,
     "end_time": "2023-11-05T13:41:07.486661",
     "exception": false,
     "start_time": "2023-11-05T13:41:07.445323",
     "status": "completed"
    },
    "tags": []
   },
   "outputs": [
    {
     "data": {
      "text/plain": [
       "array([[9, 2, 1],\n",
       "       [0, 1, 9]])"
      ]
     },
     "execution_count": 25,
     "metadata": {},
     "output_type": "execute_result"
    }
   ],
   "source": [
    "#We instructed to go from 0 to 2 in rows and from 0 to 3 in columns:\n",
    "m[0:2, 0:3]"
   ]
  },
  {
   "cell_type": "markdown",
   "id": "c6e39cdf",
   "metadata": {
    "papermill": {
     "duration": 0.03141,
     "end_time": "2023-11-05T13:41:07.548631",
     "exception": false,
     "start_time": "2023-11-05T13:41:07.517221",
     "status": "completed"
    },
    "tags": []
   },
   "source": [
    "<div style=\"border-radius:10px; border:#D0C2F0 solid; padding: 15px; background-color: #FFF0F4; font-size:100%; text-align:left\">\n",
    "\n",
    "<h3 align=\"left\"><font color='#5E5273'>🔍 What is Fancy index on Numpy?</font></h3>"
   ]
  },
  {
   "cell_type": "code",
   "execution_count": 26,
   "id": "42206734",
   "metadata": {
    "execution": {
     "iopub.execute_input": "2023-11-05T13:41:07.612504Z",
     "iopub.status.busy": "2023-11-05T13:41:07.611855Z",
     "iopub.status.idle": "2023-11-05T13:41:07.619648Z",
     "shell.execute_reply": "2023-11-05T13:41:07.618558Z"
    },
    "papermill": {
     "duration": 0.041773,
     "end_time": "2023-11-05T13:41:07.621983",
     "exception": false,
     "start_time": "2023-11-05T13:41:07.580210",
     "status": "completed"
    },
    "tags": []
   },
   "outputs": [
    {
     "data": {
      "text/plain": [
       "12"
      ]
     },
     "execution_count": 26,
     "metadata": {},
     "output_type": "execute_result"
    }
   ],
   "source": [
    "#We used the 'arange' expression to enter the values that will increase by 3 from 0 to 30 below.\n",
    "v= np.arange(0, 30, 3)\n",
    "\n",
    "#We selected the 4th index:\n",
    "v[4]"
   ]
  },
  {
   "cell_type": "code",
   "execution_count": 27,
   "id": "d3ecf6de",
   "metadata": {
    "execution": {
     "iopub.execute_input": "2023-11-05T13:41:07.685054Z",
     "iopub.status.busy": "2023-11-05T13:41:07.684650Z",
     "iopub.status.idle": "2023-11-05T13:41:07.692098Z",
     "shell.execute_reply": "2023-11-05T13:41:07.690936Z"
    },
    "papermill": {
     "duration": 0.041961,
     "end_time": "2023-11-05T13:41:07.694527",
     "exception": false,
     "start_time": "2023-11-05T13:41:07.652566",
     "status": "completed"
    },
    "tags": []
   },
   "outputs": [
    {
     "data": {
      "text/plain": [
       "array([3, 6, 9])"
      ]
     },
     "execution_count": 27,
     "metadata": {},
     "output_type": "execute_result"
    }
   ],
   "source": [
    "catch = [1,2,3] # We created a list with values 1-2-3.\n",
    "\n",
    "#When we put the list into a numpy array, it will return the values 1-2-3 from v, as those values exist in the list.\n",
    "v[catch]"
   ]
  },
  {
   "cell_type": "markdown",
   "id": "e72edb29",
   "metadata": {
    "papermill": {
     "duration": 0.031912,
     "end_time": "2023-11-05T13:41:07.757869",
     "exception": false,
     "start_time": "2023-11-05T13:41:07.725957",
     "status": "completed"
    },
    "tags": []
   },
   "source": [
    "<div style=\"border-radius:10px; border:#D0C2F0 solid; padding: 15px; background-color: #FFF0F4; font-size:100%; text-align:left\">\n",
    "\n",
    "<h3 align=\"left\"><font color='#5E5273'>🔍Can i do conditional operations in Numpy?</font></h3>"
   ]
  },
  {
   "cell_type": "code",
   "execution_count": 28,
   "id": "cfe4c1f4",
   "metadata": {
    "execution": {
     "iopub.execute_input": "2023-11-05T13:41:07.821714Z",
     "iopub.status.busy": "2023-11-05T13:41:07.821356Z",
     "iopub.status.idle": "2023-11-05T13:41:07.825861Z",
     "shell.execute_reply": "2023-11-05T13:41:07.824800Z"
    },
    "papermill": {
     "duration": 0.038623,
     "end_time": "2023-11-05T13:41:07.828138",
     "exception": false,
     "start_time": "2023-11-05T13:41:07.789515",
     "status": "completed"
    },
    "tags": []
   },
   "outputs": [],
   "source": [
    "#building array\n",
    "v=np.array([1,2,3,4,5])"
   ]
  },
  {
   "cell_type": "code",
   "execution_count": 29,
   "id": "4a682a45",
   "metadata": {
    "execution": {
     "iopub.execute_input": "2023-11-05T13:41:07.892047Z",
     "iopub.status.busy": "2023-11-05T13:41:07.891644Z",
     "iopub.status.idle": "2023-11-05T13:41:07.899554Z",
     "shell.execute_reply": "2023-11-05T13:41:07.898318Z"
    },
    "papermill": {
     "duration": 0.043291,
     "end_time": "2023-11-05T13:41:07.902021",
     "exception": false,
     "start_time": "2023-11-05T13:41:07.858730",
     "status": "completed"
    },
    "tags": []
   },
   "outputs": [
    {
     "data": {
      "text/plain": [
       "array([ True,  True, False, False, False])"
      ]
     },
     "execution_count": 29,
     "metadata": {},
     "output_type": "execute_result"
    }
   ],
   "source": [
    "v < 3 #We queried for values less than 3, and it returned true or false"
   ]
  },
  {
   "cell_type": "code",
   "execution_count": 30,
   "id": "cd843ce7",
   "metadata": {
    "execution": {
     "iopub.execute_input": "2023-11-05T13:41:07.978628Z",
     "iopub.status.busy": "2023-11-05T13:41:07.977850Z",
     "iopub.status.idle": "2023-11-05T13:41:07.985934Z",
     "shell.execute_reply": "2023-11-05T13:41:07.985094Z"
    },
    "papermill": {
     "duration": 0.050931,
     "end_time": "2023-11-05T13:41:07.988705",
     "exception": false,
     "start_time": "2023-11-05T13:41:07.937774",
     "status": "completed"
    },
    "tags": []
   },
   "outputs": [
    {
     "data": {
      "text/plain": [
       "array([1, 2])"
      ]
     },
     "execution_count": 30,
     "metadata": {},
     "output_type": "execute_result"
    }
   ],
   "source": [
    "v[v < 3] # When we send this command, it selects the values that are seen as true and does not select the values that are seen as false."
   ]
  },
  {
   "cell_type": "code",
   "execution_count": 31,
   "id": "fba23975",
   "metadata": {
    "execution": {
     "iopub.execute_input": "2023-11-05T13:41:08.057364Z",
     "iopub.status.busy": "2023-11-05T13:41:08.056904Z",
     "iopub.status.idle": "2023-11-05T13:41:08.064636Z",
     "shell.execute_reply": "2023-11-05T13:41:08.063470Z"
    },
    "papermill": {
     "duration": 0.043407,
     "end_time": "2023-11-05T13:41:08.067340",
     "exception": false,
     "start_time": "2023-11-05T13:41:08.023933",
     "status": "completed"
    },
    "tags": []
   },
   "outputs": [
    {
     "data": {
      "text/plain": [
       "array([4, 5])"
      ]
     },
     "execution_count": 31,
     "metadata": {},
     "output_type": "execute_result"
    }
   ],
   "source": [
    "v[v > 3] # values greater than 3"
   ]
  },
  {
   "cell_type": "code",
   "execution_count": 32,
   "id": "63818897",
   "metadata": {
    "execution": {
     "iopub.execute_input": "2023-11-05T13:41:08.135608Z",
     "iopub.status.busy": "2023-11-05T13:41:08.135206Z",
     "iopub.status.idle": "2023-11-05T13:41:08.142735Z",
     "shell.execute_reply": "2023-11-05T13:41:08.141637Z"
    },
    "papermill": {
     "duration": 0.043364,
     "end_time": "2023-11-05T13:41:08.145310",
     "exception": false,
     "start_time": "2023-11-05T13:41:08.101946",
     "status": "completed"
    },
    "tags": []
   },
   "outputs": [
    {
     "data": {
      "text/plain": [
       "array([1, 2, 4, 5])"
      ]
     },
     "execution_count": 32,
     "metadata": {},
     "output_type": "execute_result"
    }
   ],
   "source": [
    "v[v != 3] # all except 3"
   ]
  },
  {
   "cell_type": "code",
   "execution_count": 33,
   "id": "32d767b1",
   "metadata": {
    "execution": {
     "iopub.execute_input": "2023-11-05T13:41:08.215987Z",
     "iopub.status.busy": "2023-11-05T13:41:08.215575Z",
     "iopub.status.idle": "2023-11-05T13:41:08.222622Z",
     "shell.execute_reply": "2023-11-05T13:41:08.221489Z"
    },
    "papermill": {
     "duration": 0.045521,
     "end_time": "2023-11-05T13:41:08.225358",
     "exception": false,
     "start_time": "2023-11-05T13:41:08.179837",
     "status": "completed"
    },
    "tags": []
   },
   "outputs": [
    {
     "data": {
      "text/plain": [
       "array([3])"
      ]
     },
     "execution_count": 33,
     "metadata": {},
     "output_type": "execute_result"
    }
   ],
   "source": [
    "v[v == 3] # only 3"
   ]
  },
  {
   "cell_type": "code",
   "execution_count": 34,
   "id": "7d07f55f",
   "metadata": {
    "execution": {
     "iopub.execute_input": "2023-11-05T13:41:08.296278Z",
     "iopub.status.busy": "2023-11-05T13:41:08.295839Z",
     "iopub.status.idle": "2023-11-05T13:41:08.306406Z",
     "shell.execute_reply": "2023-11-05T13:41:08.304670Z"
    },
    "papermill": {
     "duration": 0.048714,
     "end_time": "2023-11-05T13:41:08.309541",
     "exception": false,
     "start_time": "2023-11-05T13:41:08.260827",
     "status": "completed"
    },
    "tags": []
   },
   "outputs": [
    {
     "data": {
      "text/plain": [
       "array([3, 4, 5])"
      ]
     },
     "execution_count": 34,
     "metadata": {},
     "output_type": "execute_result"
    }
   ],
   "source": [
    "v[v >= 3] # 3 and above"
   ]
  },
  {
   "cell_type": "markdown",
   "id": "5cf858cc",
   "metadata": {
    "papermill": {
     "duration": 0.03469,
     "end_time": "2023-11-05T13:41:08.384089",
     "exception": false,
     "start_time": "2023-11-05T13:41:08.349399",
     "status": "completed"
    },
    "tags": []
   },
   "source": [
    "<div style=\"border-radius:10px; border:#D0C2F0 solid; padding: 15px; background-color: #FFF0F4; font-size:100%; text-align:left\">\n",
    "\n",
    "<h3 align=\"left\"><font color='#5E5273'>🔍How can mathematical operations in Numpy ?</font></h3>"
   ]
  },
  {
   "cell_type": "code",
   "execution_count": 35,
   "id": "12ecd1ff",
   "metadata": {
    "execution": {
     "iopub.execute_input": "2023-11-05T13:41:08.458474Z",
     "iopub.status.busy": "2023-11-05T13:41:08.458058Z",
     "iopub.status.idle": "2023-11-05T13:41:08.465618Z",
     "shell.execute_reply": "2023-11-05T13:41:08.463986Z"
    },
    "papermill": {
     "duration": 0.047855,
     "end_time": "2023-11-05T13:41:08.468829",
     "exception": false,
     "start_time": "2023-11-05T13:41:08.420974",
     "status": "completed"
    },
    "tags": []
   },
   "outputs": [
    {
     "data": {
      "text/plain": [
       "array([0.2, 0.4, 0.6, 0.8, 1. ])"
      ]
     },
     "execution_count": 35,
     "metadata": {},
     "output_type": "execute_result"
    }
   ],
   "source": [
    "#When we say v / 5, it divides all elements by 5 and returns on the screen.\n",
    "v / 5"
   ]
  },
  {
   "cell_type": "code",
   "execution_count": 36,
   "id": "e6f828c5",
   "metadata": {
    "execution": {
     "iopub.execute_input": "2023-11-05T13:41:08.541218Z",
     "iopub.status.busy": "2023-11-05T13:41:08.539984Z",
     "iopub.status.idle": "2023-11-05T13:41:08.547544Z",
     "shell.execute_reply": "2023-11-05T13:41:08.546607Z"
    },
    "papermill": {
     "duration": 0.04627,
     "end_time": "2023-11-05T13:41:08.549896",
     "exception": false,
     "start_time": "2023-11-05T13:41:08.503626",
     "status": "completed"
    },
    "tags": []
   },
   "outputs": [
    {
     "data": {
      "text/plain": [
       "array([0.5, 1. , 1.5, 2. , 2.5])"
      ]
     },
     "execution_count": 36,
     "metadata": {},
     "output_type": "execute_result"
    }
   ],
   "source": [
    "#We multiplied v by 5 and then divided by 10.\n",
    "v * 5 / 10"
   ]
  },
  {
   "cell_type": "code",
   "execution_count": 37,
   "id": "1c4f4c12",
   "metadata": {
    "execution": {
     "iopub.execute_input": "2023-11-05T13:41:08.622380Z",
     "iopub.status.busy": "2023-11-05T13:41:08.620850Z",
     "iopub.status.idle": "2023-11-05T13:41:08.630646Z",
     "shell.execute_reply": "2023-11-05T13:41:08.629398Z"
    },
    "papermill": {
     "duration": 0.049201,
     "end_time": "2023-11-05T13:41:08.633229",
     "exception": false,
     "start_time": "2023-11-05T13:41:08.584028",
     "status": "completed"
    },
    "tags": []
   },
   "outputs": [
    {
     "data": {
      "text/plain": [
       "array([ 1,  4,  9, 16, 25])"
      ]
     },
     "execution_count": 37,
     "metadata": {},
     "output_type": "execute_result"
    }
   ],
   "source": [
    "#We take the square of v.\n",
    "v ** 2"
   ]
  },
  {
   "cell_type": "code",
   "execution_count": 38,
   "id": "491d7ffd",
   "metadata": {
    "execution": {
     "iopub.execute_input": "2023-11-05T13:41:08.703831Z",
     "iopub.status.busy": "2023-11-05T13:41:08.703018Z",
     "iopub.status.idle": "2023-11-05T13:41:08.710232Z",
     "shell.execute_reply": "2023-11-05T13:41:08.709202Z"
    },
    "papermill": {
     "duration": 0.043935,
     "end_time": "2023-11-05T13:41:08.712596",
     "exception": false,
     "start_time": "2023-11-05T13:41:08.668661",
     "status": "completed"
    },
    "tags": []
   },
   "outputs": [
    {
     "data": {
      "text/plain": [
       "array([0, 1, 2, 3, 4])"
      ]
     },
     "execution_count": 38,
     "metadata": {},
     "output_type": "execute_result"
    }
   ],
   "source": [
    "#Subtraction operation from v.\n",
    "v - 1"
   ]
  },
  {
   "cell_type": "code",
   "execution_count": 39,
   "id": "c68b81c1",
   "metadata": {
    "execution": {
     "iopub.execute_input": "2023-11-05T13:41:08.782849Z",
     "iopub.status.busy": "2023-11-05T13:41:08.781992Z",
     "iopub.status.idle": "2023-11-05T13:41:08.787444Z",
     "shell.execute_reply": "2023-11-05T13:41:08.786446Z"
    },
    "papermill": {
     "duration": 0.044491,
     "end_time": "2023-11-05T13:41:08.790210",
     "exception": false,
     "start_time": "2023-11-05T13:41:08.745719",
     "status": "completed"
    },
    "tags": []
   },
   "outputs": [],
   "source": [
    "#np.subtract: subtraction operation\n",
    "#np.add: addition operation\n",
    "#np.mean: mean operation\n",
    "#np.sum: sum operation\n",
    "#np.min: minimum value\n",
    "#np.max: maximum value\n",
    "#np.var: variance\n",
    "#These are the functions you can use to perform your operations without using the arithmetic operators."
   ]
  },
  {
   "cell_type": "markdown",
   "id": "80387107",
   "metadata": {
    "papermill": {
     "duration": 0.035206,
     "end_time": "2023-11-05T13:41:08.860106",
     "exception": false,
     "start_time": "2023-11-05T13:41:08.824900",
     "status": "completed"
    },
    "tags": []
   },
   "source": [
    "# <p style=\"border-radius:10px; border:#DEB887 solid; padding:25px; background-color: #FFFAF0; font-size:100%;color:#52017A;text-align:center;\"> Pandas</p>"
   ]
  },
  {
   "cell_type": "markdown",
   "id": "cc8bb327",
   "metadata": {
    "papermill": {
     "duration": 0.033329,
     "end_time": "2023-11-05T13:41:08.928833",
     "exception": false,
     "start_time": "2023-11-05T13:41:08.895504",
     "status": "completed"
    },
    "tags": []
   },
   "source": [
    "<div style=\"border-radius:10px; border:#D0C2F0 solid; padding: 15px; background-color: #FFF0F4; font-size:100%; text-align:left\">\n",
    "\n",
    "<h3 align=\"left\"><font color='#5E5273'>🔍 What is Pandas and why should i use Pandas ?</font></h3>"
   ]
  },
  {
   "cell_type": "markdown",
   "id": "b589e6c9",
   "metadata": {
    "papermill": {
     "duration": 0.036753,
     "end_time": "2023-11-05T13:41:09.002239",
     "exception": false,
     "start_time": "2023-11-05T13:41:08.965486",
     "status": "completed"
    },
    "tags": []
   },
   "source": [
    "### Pandas is the abbreviation for Panel Data. Pandas is a powerful open-source data analysis and manipulation library for Python. It is designed for efficient data analysis and processing. Unlike traditional data structures, Pandas provides DataFrame and Series objects that are ideal for handling structured data and time series data.\n",
    "\n",
    "* A pandas Series is a one-dimensional data type that contains index information.\n",
    "* A pandas DataFrame is a two-dimensional data type that contains index information."
   ]
  },
  {
   "cell_type": "code",
   "execution_count": 40,
   "id": "4478a177",
   "metadata": {
    "execution": {
     "iopub.execute_input": "2023-11-05T13:41:09.076171Z",
     "iopub.status.busy": "2023-11-05T13:41:09.075776Z",
     "iopub.status.idle": "2023-11-05T13:41:09.506555Z",
     "shell.execute_reply": "2023-11-05T13:41:09.505548Z"
    },
    "papermill": {
     "duration": 0.470816,
     "end_time": "2023-11-05T13:41:09.509310",
     "exception": false,
     "start_time": "2023-11-05T13:41:09.038494",
     "status": "completed"
    },
    "tags": []
   },
   "outputs": [],
   "source": [
    "#we can import pandas as pd \n",
    "import pandas as pd"
   ]
  },
  {
   "cell_type": "code",
   "execution_count": 41,
   "id": "c59fa384",
   "metadata": {
    "execution": {
     "iopub.execute_input": "2023-11-05T13:41:09.577952Z",
     "iopub.status.busy": "2023-11-05T13:41:09.577391Z",
     "iopub.status.idle": "2023-11-05T13:41:09.587279Z",
     "shell.execute_reply": "2023-11-05T13:41:09.586041Z"
    },
    "papermill": {
     "duration": 0.047033,
     "end_time": "2023-11-05T13:41:09.589716",
     "exception": false,
     "start_time": "2023-11-05T13:41:09.542683",
     "status": "completed"
    },
    "tags": []
   },
   "outputs": [
    {
     "data": {
      "text/plain": [
       "pandas.core.series.Series"
      ]
     },
     "execution_count": 41,
     "metadata": {},
     "output_type": "execute_result"
    }
   ],
   "source": [
    "s = pd.Series([10, 77, 12, 4, 5 ])\n",
    "type(s)"
   ]
  },
  {
   "cell_type": "code",
   "execution_count": 42,
   "id": "73281806",
   "metadata": {
    "execution": {
     "iopub.execute_input": "2023-11-05T13:41:09.660115Z",
     "iopub.status.busy": "2023-11-05T13:41:09.659681Z",
     "iopub.status.idle": "2023-11-05T13:41:09.669109Z",
     "shell.execute_reply": "2023-11-05T13:41:09.668155Z"
    },
    "papermill": {
     "duration": 0.047675,
     "end_time": "2023-11-05T13:41:09.671813",
     "exception": false,
     "start_time": "2023-11-05T13:41:09.624138",
     "status": "completed"
    },
    "tags": []
   },
   "outputs": [
    {
     "name": "stdout",
     "output_type": "stream",
     "text": [
      "show index information\n",
      "RangeIndex(start=0, stop=5, step=1)\n",
      "-------------------------\n",
      "show data type, 'int64'\n",
      "int64\n",
      "-------------------------\n",
      "show total number of elements\n",
      "5\n",
      "-------------------------\n",
      "show number of dimensions\n",
      "1\n",
      "-------------------------\n",
      "access the values inside\n",
      "[10 77 12  4  5]\n"
     ]
    }
   ],
   "source": [
    "#we can check index, dtype,size,ndim,values methods in one function\n",
    "def pandascheck(Series):\n",
    "    print(\"show index information\")\n",
    "    print(s.index)\n",
    "    print(\"-------------------------\")\n",
    "    print(\"show data type, 'int64'\")\n",
    "    print(s.dtype)   \n",
    "    print(\"-------------------------\")\n",
    "    print(\"show total number of elements\")\n",
    "    print(s.size)    \n",
    "    print(\"-------------------------\")\n",
    "    print(\"show number of dimensions\")\n",
    "    print(s.ndim)    \n",
    "    print(\"-------------------------\")\n",
    "    print(\"access the values inside\")\n",
    "    print(s.values) \n",
    "\n",
    "pandascheck(s)"
   ]
  },
  {
   "cell_type": "markdown",
   "id": "53b491b9",
   "metadata": {
    "papermill": {
     "duration": 0.034033,
     "end_time": "2023-11-05T13:41:09.739973",
     "exception": false,
     "start_time": "2023-11-05T13:41:09.705940",
     "status": "completed"
    },
    "tags": []
   },
   "source": [
    "<div style=\"border-radius:10px; border:#D0C2F0 solid; padding: 15px; background-color: #FFF0F4; font-size:100%; text-align:left\">\n",
    "\n",
    "<h3 align=\"left\"><font color='#5E5273'>🔍How can i read the data on Pandas ?</font></h3>"
   ]
  },
  {
   "cell_type": "code",
   "execution_count": 43,
   "id": "f042c751",
   "metadata": {
    "execution": {
     "iopub.execute_input": "2023-11-05T13:41:09.811130Z",
     "iopub.status.busy": "2023-11-05T13:41:09.810724Z",
     "iopub.status.idle": "2023-11-05T13:41:09.815436Z",
     "shell.execute_reply": "2023-11-05T13:41:09.814250Z"
    },
    "papermill": {
     "duration": 0.043208,
     "end_time": "2023-11-05T13:41:09.817698",
     "exception": false,
     "start_time": "2023-11-05T13:41:09.774490",
     "status": "completed"
    },
    "tags": []
   },
   "outputs": [],
   "source": [
    "# pd.read_csv(\"path of the csv folder\")\n",
    "# pd.read_excel(\"path of the excel folder\")\n",
    "# pd.read_json(\"path of the json folder\")"
   ]
  },
  {
   "cell_type": "markdown",
   "id": "214a4198",
   "metadata": {
    "papermill": {
     "duration": 0.033615,
     "end_time": "2023-11-05T13:41:09.884494",
     "exception": false,
     "start_time": "2023-11-05T13:41:09.850879",
     "status": "completed"
    },
    "tags": []
   },
   "source": [
    "<div style=\"border-radius:10px; border:#D0C2F0 solid; padding: 15px; background-color: #FFF0F4; font-size:100%; text-align:left\">\n",
    "\n",
    "<h3 align=\"left\"><font color='#5E5273'>🔍 Can we use Pandas methods to look at and explain any dataset?</font></h3>"
   ]
  },
  {
   "cell_type": "code",
   "execution_count": 44,
   "id": "a48ac05d",
   "metadata": {
    "execution": {
     "iopub.execute_input": "2023-11-05T13:41:09.957369Z",
     "iopub.status.busy": "2023-11-05T13:41:09.956825Z",
     "iopub.status.idle": "2023-11-05T13:41:09.985548Z",
     "shell.execute_reply": "2023-11-05T13:41:09.984370Z"
    },
    "papermill": {
     "duration": 0.071515,
     "end_time": "2023-11-05T13:41:09.988499",
     "exception": false,
     "start_time": "2023-11-05T13:41:09.916984",
     "status": "completed"
    },
    "tags": []
   },
   "outputs": [],
   "source": [
    "#we are taking df by read_csv method and the path of the our dataset\n",
    "df = pd.read_csv(\"/kaggle/input/titanic/train.csv\")"
   ]
  },
  {
   "cell_type": "code",
   "execution_count": 45,
   "id": "21077f83",
   "metadata": {
    "execution": {
     "iopub.execute_input": "2023-11-05T13:41:10.060539Z",
     "iopub.status.busy": "2023-11-05T13:41:10.060168Z",
     "iopub.status.idle": "2023-11-05T13:41:10.086382Z",
     "shell.execute_reply": "2023-11-05T13:41:10.083894Z"
    },
    "papermill": {
     "duration": 0.064946,
     "end_time": "2023-11-05T13:41:10.089956",
     "exception": false,
     "start_time": "2023-11-05T13:41:10.025010",
     "status": "completed"
    },
    "tags": []
   },
   "outputs": [
    {
     "data": {
      "text/html": [
       "<div>\n",
       "<style scoped>\n",
       "    .dataframe tbody tr th:only-of-type {\n",
       "        vertical-align: middle;\n",
       "    }\n",
       "\n",
       "    .dataframe tbody tr th {\n",
       "        vertical-align: top;\n",
       "    }\n",
       "\n",
       "    .dataframe thead th {\n",
       "        text-align: right;\n",
       "    }\n",
       "</style>\n",
       "<table border=\"1\" class=\"dataframe\">\n",
       "  <thead>\n",
       "    <tr style=\"text-align: right;\">\n",
       "      <th></th>\n",
       "      <th>0</th>\n",
       "      <th>1</th>\n",
       "      <th>2</th>\n",
       "      <th>3</th>\n",
       "      <th>4</th>\n",
       "    </tr>\n",
       "  </thead>\n",
       "  <tbody>\n",
       "    <tr>\n",
       "      <th>PassengerId</th>\n",
       "      <td>1</td>\n",
       "      <td>2</td>\n",
       "      <td>3</td>\n",
       "      <td>4</td>\n",
       "      <td>5</td>\n",
       "    </tr>\n",
       "    <tr>\n",
       "      <th>Survived</th>\n",
       "      <td>0</td>\n",
       "      <td>1</td>\n",
       "      <td>1</td>\n",
       "      <td>1</td>\n",
       "      <td>0</td>\n",
       "    </tr>\n",
       "    <tr>\n",
       "      <th>Pclass</th>\n",
       "      <td>3</td>\n",
       "      <td>1</td>\n",
       "      <td>3</td>\n",
       "      <td>1</td>\n",
       "      <td>3</td>\n",
       "    </tr>\n",
       "    <tr>\n",
       "      <th>Name</th>\n",
       "      <td>Braund, Mr. Owen Harris</td>\n",
       "      <td>Cumings, Mrs. John Bradley (Florence Briggs Th...</td>\n",
       "      <td>Heikkinen, Miss. Laina</td>\n",
       "      <td>Futrelle, Mrs. Jacques Heath (Lily May Peel)</td>\n",
       "      <td>Allen, Mr. William Henry</td>\n",
       "    </tr>\n",
       "    <tr>\n",
       "      <th>Sex</th>\n",
       "      <td>male</td>\n",
       "      <td>female</td>\n",
       "      <td>female</td>\n",
       "      <td>female</td>\n",
       "      <td>male</td>\n",
       "    </tr>\n",
       "    <tr>\n",
       "      <th>Age</th>\n",
       "      <td>22.0</td>\n",
       "      <td>38.0</td>\n",
       "      <td>26.0</td>\n",
       "      <td>35.0</td>\n",
       "      <td>35.0</td>\n",
       "    </tr>\n",
       "    <tr>\n",
       "      <th>SibSp</th>\n",
       "      <td>1</td>\n",
       "      <td>1</td>\n",
       "      <td>0</td>\n",
       "      <td>1</td>\n",
       "      <td>0</td>\n",
       "    </tr>\n",
       "    <tr>\n",
       "      <th>Parch</th>\n",
       "      <td>0</td>\n",
       "      <td>0</td>\n",
       "      <td>0</td>\n",
       "      <td>0</td>\n",
       "      <td>0</td>\n",
       "    </tr>\n",
       "    <tr>\n",
       "      <th>Ticket</th>\n",
       "      <td>A/5 21171</td>\n",
       "      <td>PC 17599</td>\n",
       "      <td>STON/O2. 3101282</td>\n",
       "      <td>113803</td>\n",
       "      <td>373450</td>\n",
       "    </tr>\n",
       "    <tr>\n",
       "      <th>Fare</th>\n",
       "      <td>7.25</td>\n",
       "      <td>71.2833</td>\n",
       "      <td>7.925</td>\n",
       "      <td>53.1</td>\n",
       "      <td>8.05</td>\n",
       "    </tr>\n",
       "    <tr>\n",
       "      <th>Cabin</th>\n",
       "      <td>NaN</td>\n",
       "      <td>C85</td>\n",
       "      <td>NaN</td>\n",
       "      <td>C123</td>\n",
       "      <td>NaN</td>\n",
       "    </tr>\n",
       "    <tr>\n",
       "      <th>Embarked</th>\n",
       "      <td>S</td>\n",
       "      <td>C</td>\n",
       "      <td>S</td>\n",
       "      <td>S</td>\n",
       "      <td>S</td>\n",
       "    </tr>\n",
       "  </tbody>\n",
       "</table>\n",
       "</div>"
      ],
      "text/plain": [
       "                                   0  \\\n",
       "PassengerId                        1   \n",
       "Survived                           0   \n",
       "Pclass                             3   \n",
       "Name         Braund, Mr. Owen Harris   \n",
       "Sex                             male   \n",
       "Age                             22.0   \n",
       "SibSp                              1   \n",
       "Parch                              0   \n",
       "Ticket                     A/5 21171   \n",
       "Fare                            7.25   \n",
       "Cabin                            NaN   \n",
       "Embarked                           S   \n",
       "\n",
       "                                                             1  \\\n",
       "PassengerId                                                  2   \n",
       "Survived                                                     1   \n",
       "Pclass                                                       1   \n",
       "Name         Cumings, Mrs. John Bradley (Florence Briggs Th...   \n",
       "Sex                                                     female   \n",
       "Age                                                       38.0   \n",
       "SibSp                                                        1   \n",
       "Parch                                                        0   \n",
       "Ticket                                                PC 17599   \n",
       "Fare                                                   71.2833   \n",
       "Cabin                                                      C85   \n",
       "Embarked                                                     C   \n",
       "\n",
       "                                  2  \\\n",
       "PassengerId                       3   \n",
       "Survived                          1   \n",
       "Pclass                            3   \n",
       "Name         Heikkinen, Miss. Laina   \n",
       "Sex                          female   \n",
       "Age                            26.0   \n",
       "SibSp                             0   \n",
       "Parch                             0   \n",
       "Ticket             STON/O2. 3101282   \n",
       "Fare                          7.925   \n",
       "Cabin                           NaN   \n",
       "Embarked                          S   \n",
       "\n",
       "                                                        3  \\\n",
       "PassengerId                                             4   \n",
       "Survived                                                1   \n",
       "Pclass                                                  1   \n",
       "Name         Futrelle, Mrs. Jacques Heath (Lily May Peel)   \n",
       "Sex                                                female   \n",
       "Age                                                  35.0   \n",
       "SibSp                                                   1   \n",
       "Parch                                                   0   \n",
       "Ticket                                             113803   \n",
       "Fare                                                 53.1   \n",
       "Cabin                                                C123   \n",
       "Embarked                                                S   \n",
       "\n",
       "                                    4  \n",
       "PassengerId                         5  \n",
       "Survived                            0  \n",
       "Pclass                              3  \n",
       "Name         Allen, Mr. William Henry  \n",
       "Sex                              male  \n",
       "Age                              35.0  \n",
       "SibSp                               0  \n",
       "Parch                               0  \n",
       "Ticket                         373450  \n",
       "Fare                             8.05  \n",
       "Cabin                             NaN  \n",
       "Embarked                            S  "
      ]
     },
     "execution_count": 45,
     "metadata": {},
     "output_type": "execute_result"
    }
   ],
   "source": [
    "df.head().T #quick look at the first 5 indices for a quick glance"
   ]
  },
  {
   "cell_type": "code",
   "execution_count": 46,
   "id": "a67d0d77",
   "metadata": {
    "execution": {
     "iopub.execute_input": "2023-11-05T13:41:10.192245Z",
     "iopub.status.busy": "2023-11-05T13:41:10.191485Z",
     "iopub.status.idle": "2023-11-05T13:41:10.223306Z",
     "shell.execute_reply": "2023-11-05T13:41:10.222153Z"
    },
    "papermill": {
     "duration": 0.090584,
     "end_time": "2023-11-05T13:41:10.226353",
     "exception": false,
     "start_time": "2023-11-05T13:41:10.135769",
     "status": "completed"
    },
    "tags": []
   },
   "outputs": [
    {
     "data": {
      "text/html": [
       "<div>\n",
       "<style scoped>\n",
       "    .dataframe tbody tr th:only-of-type {\n",
       "        vertical-align: middle;\n",
       "    }\n",
       "\n",
       "    .dataframe tbody tr th {\n",
       "        vertical-align: top;\n",
       "    }\n",
       "\n",
       "    .dataframe thead th {\n",
       "        text-align: right;\n",
       "    }\n",
       "</style>\n",
       "<table border=\"1\" class=\"dataframe\">\n",
       "  <thead>\n",
       "    <tr style=\"text-align: right;\">\n",
       "      <th></th>\n",
       "      <th>PassengerId</th>\n",
       "      <th>Survived</th>\n",
       "      <th>Pclass</th>\n",
       "      <th>Name</th>\n",
       "      <th>Sex</th>\n",
       "      <th>Age</th>\n",
       "      <th>SibSp</th>\n",
       "      <th>Parch</th>\n",
       "      <th>Ticket</th>\n",
       "      <th>Fare</th>\n",
       "      <th>Cabin</th>\n",
       "      <th>Embarked</th>\n",
       "    </tr>\n",
       "  </thead>\n",
       "  <tbody>\n",
       "    <tr>\n",
       "      <th>886</th>\n",
       "      <td>887</td>\n",
       "      <td>0</td>\n",
       "      <td>2</td>\n",
       "      <td>Montvila, Rev. Juozas</td>\n",
       "      <td>male</td>\n",
       "      <td>27.0</td>\n",
       "      <td>0</td>\n",
       "      <td>0</td>\n",
       "      <td>211536</td>\n",
       "      <td>13.00</td>\n",
       "      <td>NaN</td>\n",
       "      <td>S</td>\n",
       "    </tr>\n",
       "    <tr>\n",
       "      <th>887</th>\n",
       "      <td>888</td>\n",
       "      <td>1</td>\n",
       "      <td>1</td>\n",
       "      <td>Graham, Miss. Margaret Edith</td>\n",
       "      <td>female</td>\n",
       "      <td>19.0</td>\n",
       "      <td>0</td>\n",
       "      <td>0</td>\n",
       "      <td>112053</td>\n",
       "      <td>30.00</td>\n",
       "      <td>B42</td>\n",
       "      <td>S</td>\n",
       "    </tr>\n",
       "    <tr>\n",
       "      <th>888</th>\n",
       "      <td>889</td>\n",
       "      <td>0</td>\n",
       "      <td>3</td>\n",
       "      <td>Johnston, Miss. Catherine Helen \"Carrie\"</td>\n",
       "      <td>female</td>\n",
       "      <td>NaN</td>\n",
       "      <td>1</td>\n",
       "      <td>2</td>\n",
       "      <td>W./C. 6607</td>\n",
       "      <td>23.45</td>\n",
       "      <td>NaN</td>\n",
       "      <td>S</td>\n",
       "    </tr>\n",
       "    <tr>\n",
       "      <th>889</th>\n",
       "      <td>890</td>\n",
       "      <td>1</td>\n",
       "      <td>1</td>\n",
       "      <td>Behr, Mr. Karl Howell</td>\n",
       "      <td>male</td>\n",
       "      <td>26.0</td>\n",
       "      <td>0</td>\n",
       "      <td>0</td>\n",
       "      <td>111369</td>\n",
       "      <td>30.00</td>\n",
       "      <td>C148</td>\n",
       "      <td>C</td>\n",
       "    </tr>\n",
       "    <tr>\n",
       "      <th>890</th>\n",
       "      <td>891</td>\n",
       "      <td>0</td>\n",
       "      <td>3</td>\n",
       "      <td>Dooley, Mr. Patrick</td>\n",
       "      <td>male</td>\n",
       "      <td>32.0</td>\n",
       "      <td>0</td>\n",
       "      <td>0</td>\n",
       "      <td>370376</td>\n",
       "      <td>7.75</td>\n",
       "      <td>NaN</td>\n",
       "      <td>Q</td>\n",
       "    </tr>\n",
       "  </tbody>\n",
       "</table>\n",
       "</div>"
      ],
      "text/plain": [
       "     PassengerId  Survived  Pclass                                      Name  \\\n",
       "886          887         0       2                     Montvila, Rev. Juozas   \n",
       "887          888         1       1              Graham, Miss. Margaret Edith   \n",
       "888          889         0       3  Johnston, Miss. Catherine Helen \"Carrie\"   \n",
       "889          890         1       1                     Behr, Mr. Karl Howell   \n",
       "890          891         0       3                       Dooley, Mr. Patrick   \n",
       "\n",
       "        Sex   Age  SibSp  Parch      Ticket   Fare Cabin Embarked  \n",
       "886    male  27.0      0      0      211536  13.00   NaN        S  \n",
       "887  female  19.0      0      0      112053  30.00   B42        S  \n",
       "888  female   NaN      1      2  W./C. 6607  23.45   NaN        S  \n",
       "889    male  26.0      0      0      111369  30.00  C148        C  \n",
       "890    male  32.0      0      0      370376   7.75   NaN        Q  "
      ]
     },
     "execution_count": 46,
     "metadata": {},
     "output_type": "execute_result"
    }
   ],
   "source": [
    "df.tail() #last 5 values"
   ]
  },
  {
   "cell_type": "code",
   "execution_count": 47,
   "id": "96f4789b",
   "metadata": {
    "execution": {
     "iopub.execute_input": "2023-11-05T13:41:10.298248Z",
     "iopub.status.busy": "2023-11-05T13:41:10.297803Z",
     "iopub.status.idle": "2023-11-05T13:41:10.304180Z",
     "shell.execute_reply": "2023-11-05T13:41:10.303353Z"
    },
    "papermill": {
     "duration": 0.043998,
     "end_time": "2023-11-05T13:41:10.306557",
     "exception": false,
     "start_time": "2023-11-05T13:41:10.262559",
     "status": "completed"
    },
    "tags": []
   },
   "outputs": [
    {
     "data": {
      "text/plain": [
       "(891, 12)"
      ]
     },
     "execution_count": 47,
     "metadata": {},
     "output_type": "execute_result"
    }
   ],
   "source": [
    "df.shape #information about rows and columns"
   ]
  },
  {
   "cell_type": "code",
   "execution_count": 48,
   "id": "60381ead",
   "metadata": {
    "execution": {
     "iopub.execute_input": "2023-11-05T13:41:10.389049Z",
     "iopub.status.busy": "2023-11-05T13:41:10.388119Z",
     "iopub.status.idle": "2023-11-05T13:41:10.418820Z",
     "shell.execute_reply": "2023-11-05T13:41:10.416765Z"
    },
    "papermill": {
     "duration": 0.083328,
     "end_time": "2023-11-05T13:41:10.423262",
     "exception": false,
     "start_time": "2023-11-05T13:41:10.339934",
     "status": "completed"
    },
    "tags": []
   },
   "outputs": [
    {
     "name": "stdout",
     "output_type": "stream",
     "text": [
      "<class 'pandas.core.frame.DataFrame'>\n",
      "RangeIndex: 891 entries, 0 to 890\n",
      "Data columns (total 12 columns):\n",
      " #   Column       Non-Null Count  Dtype  \n",
      "---  ------       --------------  -----  \n",
      " 0   PassengerId  891 non-null    int64  \n",
      " 1   Survived     891 non-null    int64  \n",
      " 2   Pclass       891 non-null    int64  \n",
      " 3   Name         891 non-null    object \n",
      " 4   Sex          891 non-null    object \n",
      " 5   Age          714 non-null    float64\n",
      " 6   SibSp        891 non-null    int64  \n",
      " 7   Parch        891 non-null    int64  \n",
      " 8   Ticket       891 non-null    object \n",
      " 9   Fare         891 non-null    float64\n",
      " 10  Cabin        204 non-null    object \n",
      " 11  Embarked     889 non-null    object \n",
      "dtypes: float64(2), int64(5), object(5)\n",
      "memory usage: 83.7+ KB\n"
     ]
    }
   ],
   "source": [
    "df.info() #variables, variable types, and if there are any null values"
   ]
  },
  {
   "cell_type": "code",
   "execution_count": 49,
   "id": "54fc1bb3",
   "metadata": {
    "execution": {
     "iopub.execute_input": "2023-11-05T13:41:10.497253Z",
     "iopub.status.busy": "2023-11-05T13:41:10.496013Z",
     "iopub.status.idle": "2023-11-05T13:41:10.505379Z",
     "shell.execute_reply": "2023-11-05T13:41:10.504093Z"
    },
    "papermill": {
     "duration": 0.047803,
     "end_time": "2023-11-05T13:41:10.507857",
     "exception": false,
     "start_time": "2023-11-05T13:41:10.460054",
     "status": "completed"
    },
    "tags": []
   },
   "outputs": [
    {
     "data": {
      "text/plain": [
       "Index(['PassengerId', 'Survived', 'Pclass', 'Name', 'Sex', 'Age', 'SibSp',\n",
       "       'Parch', 'Ticket', 'Fare', 'Cabin', 'Embarked'],\n",
       "      dtype='object')"
      ]
     },
     "execution_count": 49,
     "metadata": {},
     "output_type": "execute_result"
    }
   ],
   "source": [
    "df.columns #names of the variables"
   ]
  },
  {
   "cell_type": "code",
   "execution_count": 50,
   "id": "dd8c2e57",
   "metadata": {
    "execution": {
     "iopub.execute_input": "2023-11-05T13:41:10.581015Z",
     "iopub.status.busy": "2023-11-05T13:41:10.579949Z",
     "iopub.status.idle": "2023-11-05T13:41:10.587381Z",
     "shell.execute_reply": "2023-11-05T13:41:10.586152Z"
    },
    "papermill": {
     "duration": 0.045699,
     "end_time": "2023-11-05T13:41:10.589816",
     "exception": false,
     "start_time": "2023-11-05T13:41:10.544117",
     "status": "completed"
    },
    "tags": []
   },
   "outputs": [
    {
     "data": {
      "text/plain": [
       "RangeIndex(start=0, stop=891, step=1)"
      ]
     },
     "execution_count": 50,
     "metadata": {},
     "output_type": "execute_result"
    }
   ],
   "source": [
    "df.index #index information"
   ]
  },
  {
   "cell_type": "code",
   "execution_count": 51,
   "id": "d6cd84fa",
   "metadata": {
    "execution": {
     "iopub.execute_input": "2023-11-05T13:41:10.660176Z",
     "iopub.status.busy": "2023-11-05T13:41:10.659036Z",
     "iopub.status.idle": "2023-11-05T13:41:10.698005Z",
     "shell.execute_reply": "2023-11-05T13:41:10.696695Z"
    },
    "papermill": {
     "duration": 0.076982,
     "end_time": "2023-11-05T13:41:10.700694",
     "exception": false,
     "start_time": "2023-11-05T13:41:10.623712",
     "status": "completed"
    },
    "tags": []
   },
   "outputs": [
    {
     "data": {
      "text/html": [
       "<div>\n",
       "<style scoped>\n",
       "    .dataframe tbody tr th:only-of-type {\n",
       "        vertical-align: middle;\n",
       "    }\n",
       "\n",
       "    .dataframe tbody tr th {\n",
       "        vertical-align: top;\n",
       "    }\n",
       "\n",
       "    .dataframe thead th {\n",
       "        text-align: right;\n",
       "    }\n",
       "</style>\n",
       "<table border=\"1\" class=\"dataframe\">\n",
       "  <thead>\n",
       "    <tr style=\"text-align: right;\">\n",
       "      <th></th>\n",
       "      <th>count</th>\n",
       "      <th>mean</th>\n",
       "      <th>std</th>\n",
       "      <th>min</th>\n",
       "      <th>25%</th>\n",
       "      <th>50%</th>\n",
       "      <th>75%</th>\n",
       "      <th>max</th>\n",
       "    </tr>\n",
       "  </thead>\n",
       "  <tbody>\n",
       "    <tr>\n",
       "      <th>PassengerId</th>\n",
       "      <td>891.0</td>\n",
       "      <td>446.000000</td>\n",
       "      <td>257.353842</td>\n",
       "      <td>1.00</td>\n",
       "      <td>223.5000</td>\n",
       "      <td>446.0000</td>\n",
       "      <td>668.5</td>\n",
       "      <td>891.0000</td>\n",
       "    </tr>\n",
       "    <tr>\n",
       "      <th>Survived</th>\n",
       "      <td>891.0</td>\n",
       "      <td>0.383838</td>\n",
       "      <td>0.486592</td>\n",
       "      <td>0.00</td>\n",
       "      <td>0.0000</td>\n",
       "      <td>0.0000</td>\n",
       "      <td>1.0</td>\n",
       "      <td>1.0000</td>\n",
       "    </tr>\n",
       "    <tr>\n",
       "      <th>Pclass</th>\n",
       "      <td>891.0</td>\n",
       "      <td>2.308642</td>\n",
       "      <td>0.836071</td>\n",
       "      <td>1.00</td>\n",
       "      <td>2.0000</td>\n",
       "      <td>3.0000</td>\n",
       "      <td>3.0</td>\n",
       "      <td>3.0000</td>\n",
       "    </tr>\n",
       "    <tr>\n",
       "      <th>Age</th>\n",
       "      <td>714.0</td>\n",
       "      <td>29.699118</td>\n",
       "      <td>14.526497</td>\n",
       "      <td>0.42</td>\n",
       "      <td>20.1250</td>\n",
       "      <td>28.0000</td>\n",
       "      <td>38.0</td>\n",
       "      <td>80.0000</td>\n",
       "    </tr>\n",
       "    <tr>\n",
       "      <th>SibSp</th>\n",
       "      <td>891.0</td>\n",
       "      <td>0.523008</td>\n",
       "      <td>1.102743</td>\n",
       "      <td>0.00</td>\n",
       "      <td>0.0000</td>\n",
       "      <td>0.0000</td>\n",
       "      <td>1.0</td>\n",
       "      <td>8.0000</td>\n",
       "    </tr>\n",
       "    <tr>\n",
       "      <th>Parch</th>\n",
       "      <td>891.0</td>\n",
       "      <td>0.381594</td>\n",
       "      <td>0.806057</td>\n",
       "      <td>0.00</td>\n",
       "      <td>0.0000</td>\n",
       "      <td>0.0000</td>\n",
       "      <td>0.0</td>\n",
       "      <td>6.0000</td>\n",
       "    </tr>\n",
       "    <tr>\n",
       "      <th>Fare</th>\n",
       "      <td>891.0</td>\n",
       "      <td>32.204208</td>\n",
       "      <td>49.693429</td>\n",
       "      <td>0.00</td>\n",
       "      <td>7.9104</td>\n",
       "      <td>14.4542</td>\n",
       "      <td>31.0</td>\n",
       "      <td>512.3292</td>\n",
       "    </tr>\n",
       "  </tbody>\n",
       "</table>\n",
       "</div>"
      ],
      "text/plain": [
       "             count        mean         std   min       25%       50%    75%  \\\n",
       "PassengerId  891.0  446.000000  257.353842  1.00  223.5000  446.0000  668.5   \n",
       "Survived     891.0    0.383838    0.486592  0.00    0.0000    0.0000    1.0   \n",
       "Pclass       891.0    2.308642    0.836071  1.00    2.0000    3.0000    3.0   \n",
       "Age          714.0   29.699118   14.526497  0.42   20.1250   28.0000   38.0   \n",
       "SibSp        891.0    0.523008    1.102743  0.00    0.0000    0.0000    1.0   \n",
       "Parch        891.0    0.381594    0.806057  0.00    0.0000    0.0000    0.0   \n",
       "Fare         891.0   32.204208   49.693429  0.00    7.9104   14.4542   31.0   \n",
       "\n",
       "                  max  \n",
       "PassengerId  891.0000  \n",
       "Survived       1.0000  \n",
       "Pclass         3.0000  \n",
       "Age           80.0000  \n",
       "SibSp          8.0000  \n",
       "Parch          6.0000  \n",
       "Fare         512.3292  "
      ]
     },
     "execution_count": 51,
     "metadata": {},
     "output_type": "execute_result"
    }
   ],
   "source": [
    "df.describe().T #summary statistics of numerical information"
   ]
  },
  {
   "cell_type": "code",
   "execution_count": 52,
   "id": "4fc60823",
   "metadata": {
    "execution": {
     "iopub.execute_input": "2023-11-05T13:41:10.771391Z",
     "iopub.status.busy": "2023-11-05T13:41:10.770961Z",
     "iopub.status.idle": "2023-11-05T13:41:10.779017Z",
     "shell.execute_reply": "2023-11-05T13:41:10.777839Z"
    },
    "papermill": {
     "duration": 0.046435,
     "end_time": "2023-11-05T13:41:10.781533",
     "exception": false,
     "start_time": "2023-11-05T13:41:10.735098",
     "status": "completed"
    },
    "tags": []
   },
   "outputs": [
    {
     "data": {
      "text/plain": [
       "True"
      ]
     },
     "execution_count": 52,
     "metadata": {},
     "output_type": "execute_result"
    }
   ],
   "source": [
    "df.isnull().values.any() #checked for any missing values"
   ]
  },
  {
   "cell_type": "code",
   "execution_count": 53,
   "id": "6e3186ef",
   "metadata": {
    "execution": {
     "iopub.execute_input": "2023-11-05T13:41:10.853265Z",
     "iopub.status.busy": "2023-11-05T13:41:10.852859Z",
     "iopub.status.idle": "2023-11-05T13:41:10.862875Z",
     "shell.execute_reply": "2023-11-05T13:41:10.861684Z"
    },
    "papermill": {
     "duration": 0.04892,
     "end_time": "2023-11-05T13:41:10.865277",
     "exception": false,
     "start_time": "2023-11-05T13:41:10.816357",
     "status": "completed"
    },
    "tags": []
   },
   "outputs": [
    {
     "data": {
      "text/plain": [
       "PassengerId      0\n",
       "Survived         0\n",
       "Pclass           0\n",
       "Name             0\n",
       "Sex              0\n",
       "Age            177\n",
       "SibSp            0\n",
       "Parch            0\n",
       "Ticket           0\n",
       "Fare             0\n",
       "Cabin          687\n",
       "Embarked         2\n",
       "dtype: int64"
      ]
     },
     "execution_count": 53,
     "metadata": {},
     "output_type": "execute_result"
    }
   ],
   "source": [
    "df.isnull().sum() #checked for the number of null values in each variable"
   ]
  },
  {
   "cell_type": "code",
   "execution_count": 54,
   "id": "9bf6d5c9",
   "metadata": {
    "execution": {
     "iopub.execute_input": "2023-11-05T13:41:10.937501Z",
     "iopub.status.busy": "2023-11-05T13:41:10.937120Z",
     "iopub.status.idle": "2023-11-05T13:41:10.945769Z",
     "shell.execute_reply": "2023-11-05T13:41:10.944866Z"
    },
    "papermill": {
     "duration": 0.047262,
     "end_time": "2023-11-05T13:41:10.947927",
     "exception": false,
     "start_time": "2023-11-05T13:41:10.900665",
     "status": "completed"
    },
    "tags": []
   },
   "outputs": [
    {
     "data": {
      "text/plain": [
       "Sex\n",
       "male      577\n",
       "female    314\n",
       "Name: count, dtype: int64"
      ]
     },
     "execution_count": 54,
     "metadata": {},
     "output_type": "execute_result"
    }
   ],
   "source": [
    "df[\"Sex\"].value_counts() #checked the number of males and females in the sex variable"
   ]
  },
  {
   "cell_type": "markdown",
   "id": "2ec9012b",
   "metadata": {
    "papermill": {
     "duration": 0.035472,
     "end_time": "2023-11-05T13:41:11.020097",
     "exception": false,
     "start_time": "2023-11-05T13:41:10.984625",
     "status": "completed"
    },
    "tags": []
   },
   "source": [
    "<div style=\"border-radius:10px; border:#D0C2F0 solid; padding: 15px; background-color: #FFF0F4; font-size:100%; text-align:left\">\n",
    "\n",
    "<h3 align=\"left\"><font color='#5E5273'>🔍 Can i select index that i want with using Pandas?</font></h3>"
   ]
  },
  {
   "cell_type": "code",
   "execution_count": 55,
   "id": "887f52d8",
   "metadata": {
    "execution": {
     "iopub.execute_input": "2023-11-05T13:41:11.094027Z",
     "iopub.status.busy": "2023-11-05T13:41:11.093182Z",
     "iopub.status.idle": "2023-11-05T13:41:11.117611Z",
     "shell.execute_reply": "2023-11-05T13:41:11.116283Z"
    },
    "papermill": {
     "duration": 0.065534,
     "end_time": "2023-11-05T13:41:11.120520",
     "exception": false,
     "start_time": "2023-11-05T13:41:11.054986",
     "status": "completed"
    },
    "tags": []
   },
   "outputs": [
    {
     "data": {
      "text/html": [
       "<div>\n",
       "<style scoped>\n",
       "    .dataframe tbody tr th:only-of-type {\n",
       "        vertical-align: middle;\n",
       "    }\n",
       "\n",
       "    .dataframe tbody tr th {\n",
       "        vertical-align: top;\n",
       "    }\n",
       "\n",
       "    .dataframe thead th {\n",
       "        text-align: right;\n",
       "    }\n",
       "</style>\n",
       "<table border=\"1\" class=\"dataframe\">\n",
       "  <thead>\n",
       "    <tr style=\"text-align: right;\">\n",
       "      <th></th>\n",
       "      <th>PassengerId</th>\n",
       "      <th>Survived</th>\n",
       "      <th>Pclass</th>\n",
       "      <th>Name</th>\n",
       "      <th>Sex</th>\n",
       "      <th>Age</th>\n",
       "      <th>SibSp</th>\n",
       "      <th>Parch</th>\n",
       "      <th>Ticket</th>\n",
       "      <th>Fare</th>\n",
       "      <th>Cabin</th>\n",
       "      <th>Embarked</th>\n",
       "    </tr>\n",
       "  </thead>\n",
       "  <tbody>\n",
       "    <tr>\n",
       "      <th>0</th>\n",
       "      <td>1</td>\n",
       "      <td>0</td>\n",
       "      <td>3</td>\n",
       "      <td>Braund, Mr. Owen Harris</td>\n",
       "      <td>male</td>\n",
       "      <td>22.0</td>\n",
       "      <td>1</td>\n",
       "      <td>0</td>\n",
       "      <td>A/5 21171</td>\n",
       "      <td>7.2500</td>\n",
       "      <td>NaN</td>\n",
       "      <td>S</td>\n",
       "    </tr>\n",
       "    <tr>\n",
       "      <th>1</th>\n",
       "      <td>2</td>\n",
       "      <td>1</td>\n",
       "      <td>1</td>\n",
       "      <td>Cumings, Mrs. John Bradley (Florence Briggs Th...</td>\n",
       "      <td>female</td>\n",
       "      <td>38.0</td>\n",
       "      <td>1</td>\n",
       "      <td>0</td>\n",
       "      <td>PC 17599</td>\n",
       "      <td>71.2833</td>\n",
       "      <td>C85</td>\n",
       "      <td>C</td>\n",
       "    </tr>\n",
       "    <tr>\n",
       "      <th>2</th>\n",
       "      <td>3</td>\n",
       "      <td>1</td>\n",
       "      <td>3</td>\n",
       "      <td>Heikkinen, Miss. Laina</td>\n",
       "      <td>female</td>\n",
       "      <td>26.0</td>\n",
       "      <td>0</td>\n",
       "      <td>0</td>\n",
       "      <td>STON/O2. 3101282</td>\n",
       "      <td>7.9250</td>\n",
       "      <td>NaN</td>\n",
       "      <td>S</td>\n",
       "    </tr>\n",
       "    <tr>\n",
       "      <th>3</th>\n",
       "      <td>4</td>\n",
       "      <td>1</td>\n",
       "      <td>1</td>\n",
       "      <td>Futrelle, Mrs. Jacques Heath (Lily May Peel)</td>\n",
       "      <td>female</td>\n",
       "      <td>35.0</td>\n",
       "      <td>1</td>\n",
       "      <td>0</td>\n",
       "      <td>113803</td>\n",
       "      <td>53.1000</td>\n",
       "      <td>C123</td>\n",
       "      <td>S</td>\n",
       "    </tr>\n",
       "    <tr>\n",
       "      <th>4</th>\n",
       "      <td>5</td>\n",
       "      <td>0</td>\n",
       "      <td>3</td>\n",
       "      <td>Allen, Mr. William Henry</td>\n",
       "      <td>male</td>\n",
       "      <td>35.0</td>\n",
       "      <td>0</td>\n",
       "      <td>0</td>\n",
       "      <td>373450</td>\n",
       "      <td>8.0500</td>\n",
       "      <td>NaN</td>\n",
       "      <td>S</td>\n",
       "    </tr>\n",
       "    <tr>\n",
       "      <th>5</th>\n",
       "      <td>6</td>\n",
       "      <td>0</td>\n",
       "      <td>3</td>\n",
       "      <td>Moran, Mr. James</td>\n",
       "      <td>male</td>\n",
       "      <td>NaN</td>\n",
       "      <td>0</td>\n",
       "      <td>0</td>\n",
       "      <td>330877</td>\n",
       "      <td>8.4583</td>\n",
       "      <td>NaN</td>\n",
       "      <td>Q</td>\n",
       "    </tr>\n",
       "    <tr>\n",
       "      <th>6</th>\n",
       "      <td>7</td>\n",
       "      <td>0</td>\n",
       "      <td>1</td>\n",
       "      <td>McCarthy, Mr. Timothy J</td>\n",
       "      <td>male</td>\n",
       "      <td>54.0</td>\n",
       "      <td>0</td>\n",
       "      <td>0</td>\n",
       "      <td>17463</td>\n",
       "      <td>51.8625</td>\n",
       "      <td>E46</td>\n",
       "      <td>S</td>\n",
       "    </tr>\n",
       "    <tr>\n",
       "      <th>7</th>\n",
       "      <td>8</td>\n",
       "      <td>0</td>\n",
       "      <td>3</td>\n",
       "      <td>Palsson, Master. Gosta Leonard</td>\n",
       "      <td>male</td>\n",
       "      <td>2.0</td>\n",
       "      <td>3</td>\n",
       "      <td>1</td>\n",
       "      <td>349909</td>\n",
       "      <td>21.0750</td>\n",
       "      <td>NaN</td>\n",
       "      <td>S</td>\n",
       "    </tr>\n",
       "    <tr>\n",
       "      <th>8</th>\n",
       "      <td>9</td>\n",
       "      <td>1</td>\n",
       "      <td>3</td>\n",
       "      <td>Johnson, Mrs. Oscar W (Elisabeth Vilhelmina Berg)</td>\n",
       "      <td>female</td>\n",
       "      <td>27.0</td>\n",
       "      <td>0</td>\n",
       "      <td>2</td>\n",
       "      <td>347742</td>\n",
       "      <td>11.1333</td>\n",
       "      <td>NaN</td>\n",
       "      <td>S</td>\n",
       "    </tr>\n",
       "    <tr>\n",
       "      <th>9</th>\n",
       "      <td>10</td>\n",
       "      <td>1</td>\n",
       "      <td>2</td>\n",
       "      <td>Nasser, Mrs. Nicholas (Adele Achem)</td>\n",
       "      <td>female</td>\n",
       "      <td>14.0</td>\n",
       "      <td>1</td>\n",
       "      <td>0</td>\n",
       "      <td>237736</td>\n",
       "      <td>30.0708</td>\n",
       "      <td>NaN</td>\n",
       "      <td>C</td>\n",
       "    </tr>\n",
       "    <tr>\n",
       "      <th>10</th>\n",
       "      <td>11</td>\n",
       "      <td>1</td>\n",
       "      <td>3</td>\n",
       "      <td>Sandstrom, Miss. Marguerite Rut</td>\n",
       "      <td>female</td>\n",
       "      <td>4.0</td>\n",
       "      <td>1</td>\n",
       "      <td>1</td>\n",
       "      <td>PP 9549</td>\n",
       "      <td>16.7000</td>\n",
       "      <td>G6</td>\n",
       "      <td>S</td>\n",
       "    </tr>\n",
       "    <tr>\n",
       "      <th>11</th>\n",
       "      <td>12</td>\n",
       "      <td>1</td>\n",
       "      <td>1</td>\n",
       "      <td>Bonnell, Miss. Elizabeth</td>\n",
       "      <td>female</td>\n",
       "      <td>58.0</td>\n",
       "      <td>0</td>\n",
       "      <td>0</td>\n",
       "      <td>113783</td>\n",
       "      <td>26.5500</td>\n",
       "      <td>C103</td>\n",
       "      <td>S</td>\n",
       "    </tr>\n",
       "    <tr>\n",
       "      <th>12</th>\n",
       "      <td>13</td>\n",
       "      <td>0</td>\n",
       "      <td>3</td>\n",
       "      <td>Saundercock, Mr. William Henry</td>\n",
       "      <td>male</td>\n",
       "      <td>20.0</td>\n",
       "      <td>0</td>\n",
       "      <td>0</td>\n",
       "      <td>A/5. 2151</td>\n",
       "      <td>8.0500</td>\n",
       "      <td>NaN</td>\n",
       "      <td>S</td>\n",
       "    </tr>\n",
       "  </tbody>\n",
       "</table>\n",
       "</div>"
      ],
      "text/plain": [
       "    PassengerId  Survived  Pclass  \\\n",
       "0             1         0       3   \n",
       "1             2         1       1   \n",
       "2             3         1       3   \n",
       "3             4         1       1   \n",
       "4             5         0       3   \n",
       "5             6         0       3   \n",
       "6             7         0       1   \n",
       "7             8         0       3   \n",
       "8             9         1       3   \n",
       "9            10         1       2   \n",
       "10           11         1       3   \n",
       "11           12         1       1   \n",
       "12           13         0       3   \n",
       "\n",
       "                                                 Name     Sex   Age  SibSp  \\\n",
       "0                             Braund, Mr. Owen Harris    male  22.0      1   \n",
       "1   Cumings, Mrs. John Bradley (Florence Briggs Th...  female  38.0      1   \n",
       "2                              Heikkinen, Miss. Laina  female  26.0      0   \n",
       "3        Futrelle, Mrs. Jacques Heath (Lily May Peel)  female  35.0      1   \n",
       "4                            Allen, Mr. William Henry    male  35.0      0   \n",
       "5                                    Moran, Mr. James    male   NaN      0   \n",
       "6                             McCarthy, Mr. Timothy J    male  54.0      0   \n",
       "7                      Palsson, Master. Gosta Leonard    male   2.0      3   \n",
       "8   Johnson, Mrs. Oscar W (Elisabeth Vilhelmina Berg)  female  27.0      0   \n",
       "9                 Nasser, Mrs. Nicholas (Adele Achem)  female  14.0      1   \n",
       "10                    Sandstrom, Miss. Marguerite Rut  female   4.0      1   \n",
       "11                           Bonnell, Miss. Elizabeth  female  58.0      0   \n",
       "12                     Saundercock, Mr. William Henry    male  20.0      0   \n",
       "\n",
       "    Parch            Ticket     Fare Cabin Embarked  \n",
       "0       0         A/5 21171   7.2500   NaN        S  \n",
       "1       0          PC 17599  71.2833   C85        C  \n",
       "2       0  STON/O2. 3101282   7.9250   NaN        S  \n",
       "3       0            113803  53.1000  C123        S  \n",
       "4       0            373450   8.0500   NaN        S  \n",
       "5       0            330877   8.4583   NaN        Q  \n",
       "6       0             17463  51.8625   E46        S  \n",
       "7       1            349909  21.0750   NaN        S  \n",
       "8       2            347742  11.1333   NaN        S  \n",
       "9       0            237736  30.0708   NaN        C  \n",
       "10      1           PP 9549  16.7000    G6        S  \n",
       "11      0            113783  26.5500  C103        S  \n",
       "12      0         A/5. 2151   8.0500   NaN        S  "
      ]
     },
     "execution_count": 55,
     "metadata": {},
     "output_type": "execute_result"
    }
   ],
   "source": [
    "df[0:13] #goes from 0 to 13"
   ]
  },
  {
   "cell_type": "code",
   "execution_count": 56,
   "id": "5a0b0f4e",
   "metadata": {
    "execution": {
     "iopub.execute_input": "2023-11-05T13:41:11.196003Z",
     "iopub.status.busy": "2023-11-05T13:41:11.195284Z",
     "iopub.status.idle": "2023-11-05T13:41:11.214537Z",
     "shell.execute_reply": "2023-11-05T13:41:11.213713Z"
    },
    "papermill": {
     "duration": 0.06031,
     "end_time": "2023-11-05T13:41:11.216967",
     "exception": false,
     "start_time": "2023-11-05T13:41:11.156657",
     "status": "completed"
    },
    "tags": []
   },
   "outputs": [
    {
     "data": {
      "text/html": [
       "<div>\n",
       "<style scoped>\n",
       "    .dataframe tbody tr th:only-of-type {\n",
       "        vertical-align: middle;\n",
       "    }\n",
       "\n",
       "    .dataframe tbody tr th {\n",
       "        vertical-align: top;\n",
       "    }\n",
       "\n",
       "    .dataframe thead th {\n",
       "        text-align: right;\n",
       "    }\n",
       "</style>\n",
       "<table border=\"1\" class=\"dataframe\">\n",
       "  <thead>\n",
       "    <tr style=\"text-align: right;\">\n",
       "      <th></th>\n",
       "      <th>PassengerId</th>\n",
       "      <th>Survived</th>\n",
       "      <th>Pclass</th>\n",
       "      <th>Name</th>\n",
       "      <th>Sex</th>\n",
       "      <th>Age</th>\n",
       "      <th>SibSp</th>\n",
       "      <th>Parch</th>\n",
       "      <th>Ticket</th>\n",
       "      <th>Fare</th>\n",
       "      <th>Cabin</th>\n",
       "      <th>Embarked</th>\n",
       "    </tr>\n",
       "  </thead>\n",
       "  <tbody>\n",
       "    <tr>\n",
       "      <th>1</th>\n",
       "      <td>2</td>\n",
       "      <td>1</td>\n",
       "      <td>1</td>\n",
       "      <td>Cumings, Mrs. John Bradley (Florence Briggs Th...</td>\n",
       "      <td>female</td>\n",
       "      <td>38.0</td>\n",
       "      <td>1</td>\n",
       "      <td>0</td>\n",
       "      <td>PC 17599</td>\n",
       "      <td>71.2833</td>\n",
       "      <td>C85</td>\n",
       "      <td>C</td>\n",
       "    </tr>\n",
       "    <tr>\n",
       "      <th>2</th>\n",
       "      <td>3</td>\n",
       "      <td>1</td>\n",
       "      <td>3</td>\n",
       "      <td>Heikkinen, Miss. Laina</td>\n",
       "      <td>female</td>\n",
       "      <td>26.0</td>\n",
       "      <td>0</td>\n",
       "      <td>0</td>\n",
       "      <td>STON/O2. 3101282</td>\n",
       "      <td>7.9250</td>\n",
       "      <td>NaN</td>\n",
       "      <td>S</td>\n",
       "    </tr>\n",
       "    <tr>\n",
       "      <th>3</th>\n",
       "      <td>4</td>\n",
       "      <td>1</td>\n",
       "      <td>1</td>\n",
       "      <td>Futrelle, Mrs. Jacques Heath (Lily May Peel)</td>\n",
       "      <td>female</td>\n",
       "      <td>35.0</td>\n",
       "      <td>1</td>\n",
       "      <td>0</td>\n",
       "      <td>113803</td>\n",
       "      <td>53.1000</td>\n",
       "      <td>C123</td>\n",
       "      <td>S</td>\n",
       "    </tr>\n",
       "    <tr>\n",
       "      <th>4</th>\n",
       "      <td>5</td>\n",
       "      <td>0</td>\n",
       "      <td>3</td>\n",
       "      <td>Allen, Mr. William Henry</td>\n",
       "      <td>male</td>\n",
       "      <td>35.0</td>\n",
       "      <td>0</td>\n",
       "      <td>0</td>\n",
       "      <td>373450</td>\n",
       "      <td>8.0500</td>\n",
       "      <td>NaN</td>\n",
       "      <td>S</td>\n",
       "    </tr>\n",
       "    <tr>\n",
       "      <th>5</th>\n",
       "      <td>6</td>\n",
       "      <td>0</td>\n",
       "      <td>3</td>\n",
       "      <td>Moran, Mr. James</td>\n",
       "      <td>male</td>\n",
       "      <td>NaN</td>\n",
       "      <td>0</td>\n",
       "      <td>0</td>\n",
       "      <td>330877</td>\n",
       "      <td>8.4583</td>\n",
       "      <td>NaN</td>\n",
       "      <td>Q</td>\n",
       "    </tr>\n",
       "  </tbody>\n",
       "</table>\n",
       "</div>"
      ],
      "text/plain": [
       "   PassengerId  Survived  Pclass  \\\n",
       "1            2         1       1   \n",
       "2            3         1       3   \n",
       "3            4         1       1   \n",
       "4            5         0       3   \n",
       "5            6         0       3   \n",
       "\n",
       "                                                Name     Sex   Age  SibSp  \\\n",
       "1  Cumings, Mrs. John Bradley (Florence Briggs Th...  female  38.0      1   \n",
       "2                             Heikkinen, Miss. Laina  female  26.0      0   \n",
       "3       Futrelle, Mrs. Jacques Heath (Lily May Peel)  female  35.0      1   \n",
       "4                           Allen, Mr. William Henry    male  35.0      0   \n",
       "5                                   Moran, Mr. James    male   NaN      0   \n",
       "\n",
       "   Parch            Ticket     Fare Cabin Embarked  \n",
       "1      0          PC 17599  71.2833   C85        C  \n",
       "2      0  STON/O2. 3101282   7.9250   NaN        S  \n",
       "3      0            113803  53.1000  C123        S  \n",
       "4      0            373450   8.0500   NaN        S  \n",
       "5      0            330877   8.4583   NaN        Q  "
      ]
     },
     "execution_count": 56,
     "metadata": {},
     "output_type": "execute_result"
    }
   ],
   "source": [
    "df.drop(0, axis=0).head() #dropped the 0th value, not permanent, but for it to be permanent, you need to write inplace=true"
   ]
  },
  {
   "cell_type": "code",
   "execution_count": 57,
   "id": "b122f6f0",
   "metadata": {
    "execution": {
     "iopub.execute_input": "2023-11-05T13:41:11.293043Z",
     "iopub.status.busy": "2023-11-05T13:41:11.292345Z",
     "iopub.status.idle": "2023-11-05T13:41:11.312729Z",
     "shell.execute_reply": "2023-11-05T13:41:11.311805Z"
    },
    "papermill": {
     "duration": 0.06181,
     "end_time": "2023-11-05T13:41:11.315163",
     "exception": false,
     "start_time": "2023-11-05T13:41:11.253353",
     "status": "completed"
    },
    "tags": []
   },
   "outputs": [
    {
     "data": {
      "text/html": [
       "<div>\n",
       "<style scoped>\n",
       "    .dataframe tbody tr th:only-of-type {\n",
       "        vertical-align: middle;\n",
       "    }\n",
       "\n",
       "    .dataframe tbody tr th {\n",
       "        vertical-align: top;\n",
       "    }\n",
       "\n",
       "    .dataframe thead th {\n",
       "        text-align: right;\n",
       "    }\n",
       "</style>\n",
       "<table border=\"1\" class=\"dataframe\">\n",
       "  <thead>\n",
       "    <tr style=\"text-align: right;\">\n",
       "      <th></th>\n",
       "      <th>PassengerId</th>\n",
       "      <th>Survived</th>\n",
       "      <th>Pclass</th>\n",
       "      <th>Name</th>\n",
       "      <th>Sex</th>\n",
       "      <th>SibSp</th>\n",
       "      <th>Parch</th>\n",
       "      <th>Ticket</th>\n",
       "      <th>Fare</th>\n",
       "      <th>Cabin</th>\n",
       "      <th>Embarked</th>\n",
       "    </tr>\n",
       "    <tr>\n",
       "      <th>Age</th>\n",
       "      <th></th>\n",
       "      <th></th>\n",
       "      <th></th>\n",
       "      <th></th>\n",
       "      <th></th>\n",
       "      <th></th>\n",
       "      <th></th>\n",
       "      <th></th>\n",
       "      <th></th>\n",
       "      <th></th>\n",
       "      <th></th>\n",
       "    </tr>\n",
       "  </thead>\n",
       "  <tbody>\n",
       "    <tr>\n",
       "      <th>22.0</th>\n",
       "      <td>1</td>\n",
       "      <td>0</td>\n",
       "      <td>3</td>\n",
       "      <td>Braund, Mr. Owen Harris</td>\n",
       "      <td>male</td>\n",
       "      <td>1</td>\n",
       "      <td>0</td>\n",
       "      <td>A/5 21171</td>\n",
       "      <td>7.2500</td>\n",
       "      <td>NaN</td>\n",
       "      <td>S</td>\n",
       "    </tr>\n",
       "    <tr>\n",
       "      <th>38.0</th>\n",
       "      <td>2</td>\n",
       "      <td>1</td>\n",
       "      <td>1</td>\n",
       "      <td>Cumings, Mrs. John Bradley (Florence Briggs Th...</td>\n",
       "      <td>female</td>\n",
       "      <td>1</td>\n",
       "      <td>0</td>\n",
       "      <td>PC 17599</td>\n",
       "      <td>71.2833</td>\n",
       "      <td>C85</td>\n",
       "      <td>C</td>\n",
       "    </tr>\n",
       "    <tr>\n",
       "      <th>26.0</th>\n",
       "      <td>3</td>\n",
       "      <td>1</td>\n",
       "      <td>3</td>\n",
       "      <td>Heikkinen, Miss. Laina</td>\n",
       "      <td>female</td>\n",
       "      <td>0</td>\n",
       "      <td>0</td>\n",
       "      <td>STON/O2. 3101282</td>\n",
       "      <td>7.9250</td>\n",
       "      <td>NaN</td>\n",
       "      <td>S</td>\n",
       "    </tr>\n",
       "    <tr>\n",
       "      <th>35.0</th>\n",
       "      <td>4</td>\n",
       "      <td>1</td>\n",
       "      <td>1</td>\n",
       "      <td>Futrelle, Mrs. Jacques Heath (Lily May Peel)</td>\n",
       "      <td>female</td>\n",
       "      <td>1</td>\n",
       "      <td>0</td>\n",
       "      <td>113803</td>\n",
       "      <td>53.1000</td>\n",
       "      <td>C123</td>\n",
       "      <td>S</td>\n",
       "    </tr>\n",
       "    <tr>\n",
       "      <th>35.0</th>\n",
       "      <td>5</td>\n",
       "      <td>0</td>\n",
       "      <td>3</td>\n",
       "      <td>Allen, Mr. William Henry</td>\n",
       "      <td>male</td>\n",
       "      <td>0</td>\n",
       "      <td>0</td>\n",
       "      <td>373450</td>\n",
       "      <td>8.0500</td>\n",
       "      <td>NaN</td>\n",
       "      <td>S</td>\n",
       "    </tr>\n",
       "  </tbody>\n",
       "</table>\n",
       "</div>"
      ],
      "text/plain": [
       "      PassengerId  Survived  Pclass  \\\n",
       "Age                                   \n",
       "22.0            1         0       3   \n",
       "38.0            2         1       1   \n",
       "26.0            3         1       3   \n",
       "35.0            4         1       1   \n",
       "35.0            5         0       3   \n",
       "\n",
       "                                                   Name     Sex  SibSp  Parch  \\\n",
       "Age                                                                             \n",
       "22.0                            Braund, Mr. Owen Harris    male      1      0   \n",
       "38.0  Cumings, Mrs. John Bradley (Florence Briggs Th...  female      1      0   \n",
       "26.0                             Heikkinen, Miss. Laina  female      0      0   \n",
       "35.0       Futrelle, Mrs. Jacques Heath (Lily May Peel)  female      1      0   \n",
       "35.0                           Allen, Mr. William Henry    male      0      0   \n",
       "\n",
       "                Ticket     Fare Cabin Embarked  \n",
       "Age                                             \n",
       "22.0         A/5 21171   7.2500   NaN        S  \n",
       "38.0          PC 17599  71.2833   C85        C  \n",
       "26.0  STON/O2. 3101282   7.9250   NaN        S  \n",
       "35.0            113803  53.1000  C123        S  \n",
       "35.0            373450   8.0500   NaN        S  "
      ]
     },
     "execution_count": 57,
     "metadata": {},
     "output_type": "execute_result"
    }
   ],
   "source": [
    "#Convert the variable to index = for example, assigning age to index\n",
    "df.index = df[\"Age\"]\n",
    "df.drop(\"Age\", axis=1, inplace=True)\n",
    "df.head()"
   ]
  },
  {
   "cell_type": "code",
   "execution_count": 58,
   "id": "ed12ebb6",
   "metadata": {
    "execution": {
     "iopub.execute_input": "2023-11-05T13:41:11.391178Z",
     "iopub.status.busy": "2023-11-05T13:41:11.390498Z",
     "iopub.status.idle": "2023-11-05T13:41:11.395861Z",
     "shell.execute_reply": "2023-11-05T13:41:11.394558Z"
    },
    "papermill": {
     "duration": 0.046016,
     "end_time": "2023-11-05T13:41:11.398316",
     "exception": false,
     "start_time": "2023-11-05T13:41:11.352300",
     "status": "completed"
    },
    "tags": []
   },
   "outputs": [],
   "source": [
    "#Convert index to variable\n",
    "# df.[\"Age\"] = df.index #we put the age, which we made an index, back into the dataframe\n",
    "df.reset_index(inplace=True) # another way to delete the age variable in the index"
   ]
  },
  {
   "cell_type": "code",
   "execution_count": 59,
   "id": "a7feeec5",
   "metadata": {
    "execution": {
     "iopub.execute_input": "2023-11-05T13:41:11.474800Z",
     "iopub.status.busy": "2023-11-05T13:41:11.473876Z",
     "iopub.status.idle": "2023-11-05T13:41:11.491991Z",
     "shell.execute_reply": "2023-11-05T13:41:11.490858Z"
    },
    "papermill": {
     "duration": 0.060045,
     "end_time": "2023-11-05T13:41:11.494803",
     "exception": false,
     "start_time": "2023-11-05T13:41:11.434758",
     "status": "completed"
    },
    "tags": []
   },
   "outputs": [
    {
     "data": {
      "text/html": [
       "<div>\n",
       "<style scoped>\n",
       "    .dataframe tbody tr th:only-of-type {\n",
       "        vertical-align: middle;\n",
       "    }\n",
       "\n",
       "    .dataframe tbody tr th {\n",
       "        vertical-align: top;\n",
       "    }\n",
       "\n",
       "    .dataframe thead th {\n",
       "        text-align: right;\n",
       "    }\n",
       "</style>\n",
       "<table border=\"1\" class=\"dataframe\">\n",
       "  <thead>\n",
       "    <tr style=\"text-align: right;\">\n",
       "      <th></th>\n",
       "      <th>Age</th>\n",
       "      <th>PassengerId</th>\n",
       "      <th>Survived</th>\n",
       "      <th>Pclass</th>\n",
       "      <th>Name</th>\n",
       "      <th>Sex</th>\n",
       "      <th>SibSp</th>\n",
       "      <th>Parch</th>\n",
       "      <th>Ticket</th>\n",
       "      <th>Fare</th>\n",
       "      <th>Cabin</th>\n",
       "      <th>Embarked</th>\n",
       "    </tr>\n",
       "  </thead>\n",
       "  <tbody>\n",
       "    <tr>\n",
       "      <th>0</th>\n",
       "      <td>22.0</td>\n",
       "      <td>1</td>\n",
       "      <td>0</td>\n",
       "      <td>3</td>\n",
       "      <td>Braund, Mr. Owen Harris</td>\n",
       "      <td>male</td>\n",
       "      <td>1</td>\n",
       "      <td>0</td>\n",
       "      <td>A/5 21171</td>\n",
       "      <td>7.2500</td>\n",
       "      <td>NaN</td>\n",
       "      <td>S</td>\n",
       "    </tr>\n",
       "    <tr>\n",
       "      <th>1</th>\n",
       "      <td>38.0</td>\n",
       "      <td>2</td>\n",
       "      <td>1</td>\n",
       "      <td>1</td>\n",
       "      <td>Cumings, Mrs. John Bradley (Florence Briggs Th...</td>\n",
       "      <td>female</td>\n",
       "      <td>1</td>\n",
       "      <td>0</td>\n",
       "      <td>PC 17599</td>\n",
       "      <td>71.2833</td>\n",
       "      <td>C85</td>\n",
       "      <td>C</td>\n",
       "    </tr>\n",
       "    <tr>\n",
       "      <th>2</th>\n",
       "      <td>26.0</td>\n",
       "      <td>3</td>\n",
       "      <td>1</td>\n",
       "      <td>3</td>\n",
       "      <td>Heikkinen, Miss. Laina</td>\n",
       "      <td>female</td>\n",
       "      <td>0</td>\n",
       "      <td>0</td>\n",
       "      <td>STON/O2. 3101282</td>\n",
       "      <td>7.9250</td>\n",
       "      <td>NaN</td>\n",
       "      <td>S</td>\n",
       "    </tr>\n",
       "  </tbody>\n",
       "</table>\n",
       "</div>"
      ],
      "text/plain": [
       "    Age  PassengerId  Survived  Pclass  \\\n",
       "0  22.0            1         0       3   \n",
       "1  38.0            2         1       1   \n",
       "2  26.0            3         1       3   \n",
       "\n",
       "                                                Name     Sex  SibSp  Parch  \\\n",
       "0                            Braund, Mr. Owen Harris    male      1      0   \n",
       "1  Cumings, Mrs. John Bradley (Florence Briggs Th...  female      1      0   \n",
       "2                             Heikkinen, Miss. Laina  female      0      0   \n",
       "\n",
       "             Ticket     Fare Cabin Embarked  \n",
       "0         A/5 21171   7.2500   NaN        S  \n",
       "1          PC 17599  71.2833   C85        C  \n",
       "2  STON/O2. 3101282   7.9250   NaN        S  "
      ]
     },
     "execution_count": 59,
     "metadata": {},
     "output_type": "execute_result"
    }
   ],
   "source": [
    "#iloc = integer based selection   # selects based on the index\n",
    "df.iloc[0:3]   # goes from 0 to 3"
   ]
  },
  {
   "cell_type": "code",
   "execution_count": 60,
   "id": "c708f9b4",
   "metadata": {
    "execution": {
     "iopub.execute_input": "2023-11-05T13:41:11.577049Z",
     "iopub.status.busy": "2023-11-05T13:41:11.576258Z",
     "iopub.status.idle": "2023-11-05T13:41:11.583884Z",
     "shell.execute_reply": "2023-11-05T13:41:11.582943Z"
    },
    "papermill": {
     "duration": 0.052314,
     "end_time": "2023-11-05T13:41:11.586504",
     "exception": false,
     "start_time": "2023-11-05T13:41:11.534190",
     "status": "completed"
    },
    "tags": []
   },
   "outputs": [
    {
     "data": {
      "text/plain": [
       "1"
      ]
     },
     "execution_count": 60,
     "metadata": {},
     "output_type": "execute_result"
    }
   ],
   "source": [
    "df.iloc[0,1]"
   ]
  },
  {
   "cell_type": "code",
   "execution_count": 61,
   "id": "b5226c40",
   "metadata": {
    "execution": {
     "iopub.execute_input": "2023-11-05T13:41:11.663322Z",
     "iopub.status.busy": "2023-11-05T13:41:11.662533Z",
     "iopub.status.idle": "2023-11-05T13:41:11.680325Z",
     "shell.execute_reply": "2023-11-05T13:41:11.679091Z"
    },
    "papermill": {
     "duration": 0.058658,
     "end_time": "2023-11-05T13:41:11.682934",
     "exception": false,
     "start_time": "2023-11-05T13:41:11.624276",
     "status": "completed"
    },
    "tags": []
   },
   "outputs": [
    {
     "data": {
      "text/html": [
       "<div>\n",
       "<style scoped>\n",
       "    .dataframe tbody tr th:only-of-type {\n",
       "        vertical-align: middle;\n",
       "    }\n",
       "\n",
       "    .dataframe tbody tr th {\n",
       "        vertical-align: top;\n",
       "    }\n",
       "\n",
       "    .dataframe thead th {\n",
       "        text-align: right;\n",
       "    }\n",
       "</style>\n",
       "<table border=\"1\" class=\"dataframe\">\n",
       "  <thead>\n",
       "    <tr style=\"text-align: right;\">\n",
       "      <th></th>\n",
       "      <th>Age</th>\n",
       "      <th>PassengerId</th>\n",
       "      <th>Survived</th>\n",
       "      <th>Pclass</th>\n",
       "      <th>Name</th>\n",
       "      <th>Sex</th>\n",
       "      <th>SibSp</th>\n",
       "      <th>Parch</th>\n",
       "      <th>Ticket</th>\n",
       "      <th>Fare</th>\n",
       "      <th>Cabin</th>\n",
       "      <th>Embarked</th>\n",
       "    </tr>\n",
       "  </thead>\n",
       "  <tbody>\n",
       "    <tr>\n",
       "      <th>0</th>\n",
       "      <td>22.0</td>\n",
       "      <td>1</td>\n",
       "      <td>0</td>\n",
       "      <td>3</td>\n",
       "      <td>Braund, Mr. Owen Harris</td>\n",
       "      <td>male</td>\n",
       "      <td>1</td>\n",
       "      <td>0</td>\n",
       "      <td>A/5 21171</td>\n",
       "      <td>7.2500</td>\n",
       "      <td>NaN</td>\n",
       "      <td>S</td>\n",
       "    </tr>\n",
       "    <tr>\n",
       "      <th>1</th>\n",
       "      <td>38.0</td>\n",
       "      <td>2</td>\n",
       "      <td>1</td>\n",
       "      <td>1</td>\n",
       "      <td>Cumings, Mrs. John Bradley (Florence Briggs Th...</td>\n",
       "      <td>female</td>\n",
       "      <td>1</td>\n",
       "      <td>0</td>\n",
       "      <td>PC 17599</td>\n",
       "      <td>71.2833</td>\n",
       "      <td>C85</td>\n",
       "      <td>C</td>\n",
       "    </tr>\n",
       "    <tr>\n",
       "      <th>2</th>\n",
       "      <td>26.0</td>\n",
       "      <td>3</td>\n",
       "      <td>1</td>\n",
       "      <td>3</td>\n",
       "      <td>Heikkinen, Miss. Laina</td>\n",
       "      <td>female</td>\n",
       "      <td>0</td>\n",
       "      <td>0</td>\n",
       "      <td>STON/O2. 3101282</td>\n",
       "      <td>7.9250</td>\n",
       "      <td>NaN</td>\n",
       "      <td>S</td>\n",
       "    </tr>\n",
       "    <tr>\n",
       "      <th>3</th>\n",
       "      <td>35.0</td>\n",
       "      <td>4</td>\n",
       "      <td>1</td>\n",
       "      <td>1</td>\n",
       "      <td>Futrelle, Mrs. Jacques Heath (Lily May Peel)</td>\n",
       "      <td>female</td>\n",
       "      <td>1</td>\n",
       "      <td>0</td>\n",
       "      <td>113803</td>\n",
       "      <td>53.1000</td>\n",
       "      <td>C123</td>\n",
       "      <td>S</td>\n",
       "    </tr>\n",
       "  </tbody>\n",
       "</table>\n",
       "</div>"
      ],
      "text/plain": [
       "    Age  PassengerId  Survived  Pclass  \\\n",
       "0  22.0            1         0       3   \n",
       "1  38.0            2         1       1   \n",
       "2  26.0            3         1       3   \n",
       "3  35.0            4         1       1   \n",
       "\n",
       "                                                Name     Sex  SibSp  Parch  \\\n",
       "0                            Braund, Mr. Owen Harris    male      1      0   \n",
       "1  Cumings, Mrs. John Bradley (Florence Briggs Th...  female      1      0   \n",
       "2                             Heikkinen, Miss. Laina  female      0      0   \n",
       "3       Futrelle, Mrs. Jacques Heath (Lily May Peel)  female      1      0   \n",
       "\n",
       "             Ticket     Fare Cabin Embarked  \n",
       "0         A/5 21171   7.2500   NaN        S  \n",
       "1          PC 17599  71.2833   C85        C  \n",
       "2  STON/O2. 3101282   7.9250   NaN        S  \n",
       "3            113803  53.1000  C123        S  "
      ]
     },
     "execution_count": 61,
     "metadata": {},
     "output_type": "execute_result"
    }
   ],
   "source": [
    "#loc: label based selection       # selects columns\n",
    "df.loc[0:3]"
   ]
  },
  {
   "cell_type": "code",
   "execution_count": 62,
   "id": "08bb9feb",
   "metadata": {
    "execution": {
     "iopub.execute_input": "2023-11-05T13:41:11.759082Z",
     "iopub.status.busy": "2023-11-05T13:41:11.758677Z",
     "iopub.status.idle": "2023-11-05T13:41:11.767130Z",
     "shell.execute_reply": "2023-11-05T13:41:11.765983Z"
    },
    "papermill": {
     "duration": 0.04905,
     "end_time": "2023-11-05T13:41:11.769436",
     "exception": false,
     "start_time": "2023-11-05T13:41:11.720386",
     "status": "completed"
    },
    "tags": []
   },
   "outputs": [
    {
     "data": {
      "text/plain": [
       "0    3\n",
       "1    1\n",
       "2    3\n",
       "3    1\n",
       "Name: Pclass, dtype: int64"
      ]
     },
     "execution_count": 62,
     "metadata": {},
     "output_type": "execute_result"
    }
   ],
   "source": [
    "df.loc[0:3, \"Pclass\"] #navigated through the Pclass variable from 0 to 3"
   ]
  },
  {
   "cell_type": "code",
   "execution_count": 63,
   "id": "3881b493",
   "metadata": {
    "execution": {
     "iopub.execute_input": "2023-11-05T13:41:11.845530Z",
     "iopub.status.busy": "2023-11-05T13:41:11.845142Z",
     "iopub.status.idle": "2023-11-05T13:41:11.864560Z",
     "shell.execute_reply": "2023-11-05T13:41:11.863431Z"
    },
    "papermill": {
     "duration": 0.06006,
     "end_time": "2023-11-05T13:41:11.866995",
     "exception": false,
     "start_time": "2023-11-05T13:41:11.806935",
     "status": "completed"
    },
    "tags": []
   },
   "outputs": [
    {
     "data": {
      "text/html": [
       "<div>\n",
       "<style scoped>\n",
       "    .dataframe tbody tr th:only-of-type {\n",
       "        vertical-align: middle;\n",
       "    }\n",
       "\n",
       "    .dataframe tbody tr th {\n",
       "        vertical-align: top;\n",
       "    }\n",
       "\n",
       "    .dataframe thead th {\n",
       "        text-align: right;\n",
       "    }\n",
       "</style>\n",
       "<table border=\"1\" class=\"dataframe\">\n",
       "  <thead>\n",
       "    <tr style=\"text-align: right;\">\n",
       "      <th></th>\n",
       "      <th>Age</th>\n",
       "      <th>PassengerId</th>\n",
       "      <th>Survived</th>\n",
       "      <th>Pclass</th>\n",
       "      <th>Name</th>\n",
       "      <th>Sex</th>\n",
       "      <th>SibSp</th>\n",
       "      <th>Parch</th>\n",
       "      <th>Ticket</th>\n",
       "      <th>Fare</th>\n",
       "      <th>Cabin</th>\n",
       "      <th>Embarked</th>\n",
       "    </tr>\n",
       "  </thead>\n",
       "  <tbody>\n",
       "    <tr>\n",
       "      <th>6</th>\n",
       "      <td>54.0</td>\n",
       "      <td>7</td>\n",
       "      <td>0</td>\n",
       "      <td>1</td>\n",
       "      <td>McCarthy, Mr. Timothy J</td>\n",
       "      <td>male</td>\n",
       "      <td>0</td>\n",
       "      <td>0</td>\n",
       "      <td>17463</td>\n",
       "      <td>51.8625</td>\n",
       "      <td>E46</td>\n",
       "      <td>S</td>\n",
       "    </tr>\n",
       "    <tr>\n",
       "      <th>11</th>\n",
       "      <td>58.0</td>\n",
       "      <td>12</td>\n",
       "      <td>1</td>\n",
       "      <td>1</td>\n",
       "      <td>Bonnell, Miss. Elizabeth</td>\n",
       "      <td>female</td>\n",
       "      <td>0</td>\n",
       "      <td>0</td>\n",
       "      <td>113783</td>\n",
       "      <td>26.5500</td>\n",
       "      <td>C103</td>\n",
       "      <td>S</td>\n",
       "    </tr>\n",
       "    <tr>\n",
       "      <th>15</th>\n",
       "      <td>55.0</td>\n",
       "      <td>16</td>\n",
       "      <td>1</td>\n",
       "      <td>2</td>\n",
       "      <td>Hewlett, Mrs. (Mary D Kingcome)</td>\n",
       "      <td>female</td>\n",
       "      <td>0</td>\n",
       "      <td>0</td>\n",
       "      <td>248706</td>\n",
       "      <td>16.0000</td>\n",
       "      <td>NaN</td>\n",
       "      <td>S</td>\n",
       "    </tr>\n",
       "    <tr>\n",
       "      <th>33</th>\n",
       "      <td>66.0</td>\n",
       "      <td>34</td>\n",
       "      <td>0</td>\n",
       "      <td>2</td>\n",
       "      <td>Wheadon, Mr. Edward H</td>\n",
       "      <td>male</td>\n",
       "      <td>0</td>\n",
       "      <td>0</td>\n",
       "      <td>C.A. 24579</td>\n",
       "      <td>10.5000</td>\n",
       "      <td>NaN</td>\n",
       "      <td>S</td>\n",
       "    </tr>\n",
       "    <tr>\n",
       "      <th>54</th>\n",
       "      <td>65.0</td>\n",
       "      <td>55</td>\n",
       "      <td>0</td>\n",
       "      <td>1</td>\n",
       "      <td>Ostby, Mr. Engelhart Cornelius</td>\n",
       "      <td>male</td>\n",
       "      <td>0</td>\n",
       "      <td>1</td>\n",
       "      <td>113509</td>\n",
       "      <td>61.9792</td>\n",
       "      <td>B30</td>\n",
       "      <td>C</td>\n",
       "    </tr>\n",
       "  </tbody>\n",
       "</table>\n",
       "</div>"
      ],
      "text/plain": [
       "     Age  PassengerId  Survived  Pclass                              Name  \\\n",
       "6   54.0            7         0       1           McCarthy, Mr. Timothy J   \n",
       "11  58.0           12         1       1          Bonnell, Miss. Elizabeth   \n",
       "15  55.0           16         1       2  Hewlett, Mrs. (Mary D Kingcome)    \n",
       "33  66.0           34         0       2             Wheadon, Mr. Edward H   \n",
       "54  65.0           55         0       1    Ostby, Mr. Engelhart Cornelius   \n",
       "\n",
       "       Sex  SibSp  Parch      Ticket     Fare Cabin Embarked  \n",
       "6     male      0      0       17463  51.8625   E46        S  \n",
       "11  female      0      0      113783  26.5500  C103        S  \n",
       "15  female      0      0      248706  16.0000   NaN        S  \n",
       "33    male      0      0  C.A. 24579  10.5000   NaN        S  \n",
       "54    male      0      1      113509  61.9792   B30        C  "
      ]
     },
     "execution_count": 63,
     "metadata": {},
     "output_type": "execute_result"
    }
   ],
   "source": [
    "df[df[\"Age\"]>50].head()  #people older than 50"
   ]
  },
  {
   "cell_type": "code",
   "execution_count": 64,
   "id": "01f10f6b",
   "metadata": {
    "execution": {
     "iopub.execute_input": "2023-11-05T13:41:11.945859Z",
     "iopub.status.busy": "2023-11-05T13:41:11.944554Z",
     "iopub.status.idle": "2023-11-05T13:41:11.955705Z",
     "shell.execute_reply": "2023-11-05T13:41:11.954538Z"
    },
    "papermill": {
     "duration": 0.053835,
     "end_time": "2023-11-05T13:41:11.959880",
     "exception": false,
     "start_time": "2023-11-05T13:41:11.906045",
     "status": "completed"
    },
    "tags": []
   },
   "outputs": [
    {
     "data": {
      "text/plain": [
       "64"
      ]
     },
     "execution_count": 64,
     "metadata": {},
     "output_type": "execute_result"
    }
   ],
   "source": [
    "df[df[\"Age\"]>50][\"Age\"].count()  #number of people older than 50"
   ]
  },
  {
   "cell_type": "code",
   "execution_count": 65,
   "id": "63b54c3f",
   "metadata": {
    "execution": {
     "iopub.execute_input": "2023-11-05T13:41:12.042735Z",
     "iopub.status.busy": "2023-11-05T13:41:12.042293Z",
     "iopub.status.idle": "2023-11-05T13:41:12.056871Z",
     "shell.execute_reply": "2023-11-05T13:41:12.055762Z"
    },
    "papermill": {
     "duration": 0.059181,
     "end_time": "2023-11-05T13:41:12.059205",
     "exception": false,
     "start_time": "2023-11-05T13:41:12.000024",
     "status": "completed"
    },
    "tags": []
   },
   "outputs": [
    {
     "data": {
      "text/html": [
       "<div>\n",
       "<style scoped>\n",
       "    .dataframe tbody tr th:only-of-type {\n",
       "        vertical-align: middle;\n",
       "    }\n",
       "\n",
       "    .dataframe tbody tr th {\n",
       "        vertical-align: top;\n",
       "    }\n",
       "\n",
       "    .dataframe thead th {\n",
       "        text-align: right;\n",
       "    }\n",
       "</style>\n",
       "<table border=\"1\" class=\"dataframe\">\n",
       "  <thead>\n",
       "    <tr style=\"text-align: right;\">\n",
       "      <th></th>\n",
       "      <th>Age</th>\n",
       "      <th>Pclass</th>\n",
       "    </tr>\n",
       "  </thead>\n",
       "  <tbody>\n",
       "    <tr>\n",
       "      <th>6</th>\n",
       "      <td>54.0</td>\n",
       "      <td>1</td>\n",
       "    </tr>\n",
       "    <tr>\n",
       "      <th>11</th>\n",
       "      <td>58.0</td>\n",
       "      <td>1</td>\n",
       "    </tr>\n",
       "    <tr>\n",
       "      <th>15</th>\n",
       "      <td>55.0</td>\n",
       "      <td>2</td>\n",
       "    </tr>\n",
       "    <tr>\n",
       "      <th>33</th>\n",
       "      <td>66.0</td>\n",
       "      <td>2</td>\n",
       "    </tr>\n",
       "    <tr>\n",
       "      <th>54</th>\n",
       "      <td>65.0</td>\n",
       "      <td>1</td>\n",
       "    </tr>\n",
       "  </tbody>\n",
       "</table>\n",
       "</div>"
      ],
      "text/plain": [
       "     Age  Pclass\n",
       "6   54.0       1\n",
       "11  58.0       1\n",
       "15  55.0       2\n",
       "33  66.0       2\n",
       "54  65.0       1"
      ]
     },
     "execution_count": 65,
     "metadata": {},
     "output_type": "execute_result"
    }
   ],
   "source": [
    "df.loc[df[\"Age\"]>50, [\"Age\",\"Pclass\"]].head()   #people older than 50 with their classes"
   ]
  },
  {
   "cell_type": "code",
   "execution_count": 66,
   "id": "20e3d893",
   "metadata": {
    "execution": {
     "iopub.execute_input": "2023-11-05T13:41:12.139923Z",
     "iopub.status.busy": "2023-11-05T13:41:12.139502Z",
     "iopub.status.idle": "2023-11-05T13:41:12.154548Z",
     "shell.execute_reply": "2023-11-05T13:41:12.153335Z"
    },
    "papermill": {
     "duration": 0.060028,
     "end_time": "2023-11-05T13:41:12.157977",
     "exception": false,
     "start_time": "2023-11-05T13:41:12.097949",
     "status": "completed"
    },
    "tags": []
   },
   "outputs": [
    {
     "data": {
      "text/html": [
       "<div>\n",
       "<style scoped>\n",
       "    .dataframe tbody tr th:only-of-type {\n",
       "        vertical-align: middle;\n",
       "    }\n",
       "\n",
       "    .dataframe tbody tr th {\n",
       "        vertical-align: top;\n",
       "    }\n",
       "\n",
       "    .dataframe thead th {\n",
       "        text-align: right;\n",
       "    }\n",
       "</style>\n",
       "<table border=\"1\" class=\"dataframe\">\n",
       "  <thead>\n",
       "    <tr style=\"text-align: right;\">\n",
       "      <th></th>\n",
       "      <th>Age</th>\n",
       "      <th>Pclass</th>\n",
       "    </tr>\n",
       "  </thead>\n",
       "  <tbody>\n",
       "    <tr>\n",
       "      <th>6</th>\n",
       "      <td>54.0</td>\n",
       "      <td>1</td>\n",
       "    </tr>\n",
       "    <tr>\n",
       "      <th>33</th>\n",
       "      <td>66.0</td>\n",
       "      <td>2</td>\n",
       "    </tr>\n",
       "    <tr>\n",
       "      <th>54</th>\n",
       "      <td>65.0</td>\n",
       "      <td>1</td>\n",
       "    </tr>\n",
       "    <tr>\n",
       "      <th>94</th>\n",
       "      <td>59.0</td>\n",
       "      <td>3</td>\n",
       "    </tr>\n",
       "    <tr>\n",
       "      <th>96</th>\n",
       "      <td>71.0</td>\n",
       "      <td>1</td>\n",
       "    </tr>\n",
       "  </tbody>\n",
       "</table>\n",
       "</div>"
      ],
      "text/plain": [
       "     Age  Pclass\n",
       "6   54.0       1\n",
       "33  66.0       2\n",
       "54  65.0       1\n",
       "94  59.0       3\n",
       "96  71.0       1"
      ]
     },
     "execution_count": 66,
     "metadata": {},
     "output_type": "execute_result"
    }
   ],
   "source": [
    "#people older than 50 and male\n",
    "df.loc[(df[\"Age\"]>50) & (df[\"Sex\"] == \"male\"), [\"Age\",\"Pclass\"]].head()\n",
    "#If there are multiple conditions, they should be enclosed in parentheses"
   ]
  },
  {
   "cell_type": "code",
   "execution_count": 67,
   "id": "c18ce4ef",
   "metadata": {
    "execution": {
     "iopub.execute_input": "2023-11-05T13:41:12.237519Z",
     "iopub.status.busy": "2023-11-05T13:41:12.236962Z",
     "iopub.status.idle": "2023-11-05T13:41:12.245608Z",
     "shell.execute_reply": "2023-11-05T13:41:12.244171Z"
    },
    "papermill": {
     "duration": 0.052082,
     "end_time": "2023-11-05T13:41:12.248887",
     "exception": false,
     "start_time": "2023-11-05T13:41:12.196805",
     "status": "completed"
    },
    "tags": []
   },
   "outputs": [
    {
     "data": {
      "text/plain": [
       "29.69911764705882"
      ]
     },
     "execution_count": 67,
     "metadata": {},
     "output_type": "execute_result"
    }
   ],
   "source": [
    "df[\"Age\"].mean()  #returns the mean age"
   ]
  },
  {
   "cell_type": "code",
   "execution_count": 68,
   "id": "55cda092",
   "metadata": {
    "execution": {
     "iopub.execute_input": "2023-11-05T13:41:12.331753Z",
     "iopub.status.busy": "2023-11-05T13:41:12.331317Z",
     "iopub.status.idle": "2023-11-05T13:41:12.345589Z",
     "shell.execute_reply": "2023-11-05T13:41:12.343174Z"
    },
    "papermill": {
     "duration": 0.059462,
     "end_time": "2023-11-05T13:41:12.349138",
     "exception": false,
     "start_time": "2023-11-05T13:41:12.289676",
     "status": "completed"
    },
    "tags": []
   },
   "outputs": [
    {
     "data": {
      "text/plain": [
       "Sex\n",
       "female    27.915709\n",
       "male      30.726645\n",
       "Name: Age, dtype: float64"
      ]
     },
     "execution_count": 68,
     "metadata": {},
     "output_type": "execute_result"
    }
   ],
   "source": [
    "df.groupby(\"Sex\")[\"Age\"].mean()   #mean of the age variable by gender"
   ]
  },
  {
   "cell_type": "code",
   "execution_count": 69,
   "id": "58b1447e",
   "metadata": {
    "execution": {
     "iopub.execute_input": "2023-11-05T13:41:12.433160Z",
     "iopub.status.busy": "2023-11-05T13:41:12.432751Z",
     "iopub.status.idle": "2023-11-05T13:41:12.450159Z",
     "shell.execute_reply": "2023-11-05T13:41:12.448937Z"
    },
    "papermill": {
     "duration": 0.063043,
     "end_time": "2023-11-05T13:41:12.452766",
     "exception": false,
     "start_time": "2023-11-05T13:41:12.389723",
     "status": "completed"
    },
    "tags": []
   },
   "outputs": [
    {
     "data": {
      "text/html": [
       "<div>\n",
       "<style scoped>\n",
       "    .dataframe tbody tr th:only-of-type {\n",
       "        vertical-align: middle;\n",
       "    }\n",
       "\n",
       "    .dataframe tbody tr th {\n",
       "        vertical-align: top;\n",
       "    }\n",
       "\n",
       "    .dataframe thead tr th {\n",
       "        text-align: left;\n",
       "    }\n",
       "\n",
       "    .dataframe thead tr:last-of-type th {\n",
       "        text-align: right;\n",
       "    }\n",
       "</style>\n",
       "<table border=\"1\" class=\"dataframe\">\n",
       "  <thead>\n",
       "    <tr>\n",
       "      <th></th>\n",
       "      <th colspan=\"2\" halign=\"left\">Age</th>\n",
       "    </tr>\n",
       "    <tr>\n",
       "      <th></th>\n",
       "      <th>mean</th>\n",
       "      <th>sum</th>\n",
       "    </tr>\n",
       "    <tr>\n",
       "      <th>Sex</th>\n",
       "      <th></th>\n",
       "      <th></th>\n",
       "    </tr>\n",
       "  </thead>\n",
       "  <tbody>\n",
       "    <tr>\n",
       "      <th>female</th>\n",
       "      <td>27.915709</td>\n",
       "      <td>7286.00</td>\n",
       "    </tr>\n",
       "    <tr>\n",
       "      <th>male</th>\n",
       "      <td>30.726645</td>\n",
       "      <td>13919.17</td>\n",
       "    </tr>\n",
       "  </tbody>\n",
       "</table>\n",
       "</div>"
      ],
      "text/plain": [
       "              Age          \n",
       "             mean       sum\n",
       "Sex                        \n",
       "female  27.915709   7286.00\n",
       "male    30.726645  13919.17"
      ]
     },
     "execution_count": 69,
     "metadata": {},
     "output_type": "execute_result"
    }
   ],
   "source": [
    "df.groupby(\"Sex\").agg({\"Age\" : [\"mean\",\"sum\"]})  #mean and sum of age variable by gender, more functions can be used"
   ]
  },
  {
   "cell_type": "code",
   "execution_count": 70,
   "id": "05890ac7",
   "metadata": {
    "execution": {
     "iopub.execute_input": "2023-11-05T13:41:12.533412Z",
     "iopub.status.busy": "2023-11-05T13:41:12.532944Z",
     "iopub.status.idle": "2023-11-05T13:41:12.552474Z",
     "shell.execute_reply": "2023-11-05T13:41:12.551089Z"
    },
    "papermill": {
     "duration": 0.063456,
     "end_time": "2023-11-05T13:41:12.555097",
     "exception": false,
     "start_time": "2023-11-05T13:41:12.491641",
     "status": "completed"
    },
    "tags": []
   },
   "outputs": [
    {
     "data": {
      "text/html": [
       "<div>\n",
       "<style scoped>\n",
       "    .dataframe tbody tr th:only-of-type {\n",
       "        vertical-align: middle;\n",
       "    }\n",
       "\n",
       "    .dataframe tbody tr th {\n",
       "        vertical-align: top;\n",
       "    }\n",
       "\n",
       "    .dataframe thead tr th {\n",
       "        text-align: left;\n",
       "    }\n",
       "\n",
       "    .dataframe thead tr:last-of-type th {\n",
       "        text-align: right;\n",
       "    }\n",
       "</style>\n",
       "<table border=\"1\" class=\"dataframe\">\n",
       "  <thead>\n",
       "    <tr>\n",
       "      <th></th>\n",
       "      <th colspan=\"2\" halign=\"left\">Age</th>\n",
       "      <th>Survived</th>\n",
       "    </tr>\n",
       "    <tr>\n",
       "      <th></th>\n",
       "      <th>mean</th>\n",
       "      <th>sum</th>\n",
       "      <th>mean</th>\n",
       "    </tr>\n",
       "    <tr>\n",
       "      <th>Sex</th>\n",
       "      <th></th>\n",
       "      <th></th>\n",
       "      <th></th>\n",
       "    </tr>\n",
       "  </thead>\n",
       "  <tbody>\n",
       "    <tr>\n",
       "      <th>female</th>\n",
       "      <td>27.915709</td>\n",
       "      <td>7286.00</td>\n",
       "      <td>0.742038</td>\n",
       "    </tr>\n",
       "    <tr>\n",
       "      <th>male</th>\n",
       "      <td>30.726645</td>\n",
       "      <td>13919.17</td>\n",
       "      <td>0.188908</td>\n",
       "    </tr>\n",
       "  </tbody>\n",
       "</table>\n",
       "</div>"
      ],
      "text/plain": [
       "              Age            Survived\n",
       "             mean       sum      mean\n",
       "Sex                                  \n",
       "female  27.915709   7286.00  0.742038\n",
       "male    30.726645  13919.17  0.188908"
      ]
     },
     "execution_count": 70,
     "metadata": {},
     "output_type": "execute_result"
    }
   ],
   "source": [
    "df.groupby(\"Sex\").agg({\"Age\" : [\"mean\",\"sum\"],\n",
    "                       \"Survived\": \"mean\"})  #mean and sum of age, and mean of survived variable by gender"
   ]
  },
  {
   "cell_type": "code",
   "execution_count": 71,
   "id": "05f58039",
   "metadata": {
    "execution": {
     "iopub.execute_input": "2023-11-05T13:41:12.639876Z",
     "iopub.status.busy": "2023-11-05T13:41:12.639440Z",
     "iopub.status.idle": "2023-11-05T13:41:12.658334Z",
     "shell.execute_reply": "2023-11-05T13:41:12.657215Z"
    },
    "papermill": {
     "duration": 0.064466,
     "end_time": "2023-11-05T13:41:12.660969",
     "exception": false,
     "start_time": "2023-11-05T13:41:12.596503",
     "status": "completed"
    },
    "tags": []
   },
   "outputs": [
    {
     "data": {
      "text/html": [
       "<div>\n",
       "<style scoped>\n",
       "    .dataframe tbody tr th:only-of-type {\n",
       "        vertical-align: middle;\n",
       "    }\n",
       "\n",
       "    .dataframe tbody tr th {\n",
       "        vertical-align: top;\n",
       "    }\n",
       "\n",
       "    .dataframe thead th {\n",
       "        text-align: right;\n",
       "    }\n",
       "</style>\n",
       "<table border=\"1\" class=\"dataframe\">\n",
       "  <thead>\n",
       "    <tr style=\"text-align: right;\">\n",
       "      <th></th>\n",
       "      <th></th>\n",
       "      <th>Age</th>\n",
       "      <th>Survived</th>\n",
       "    </tr>\n",
       "    <tr>\n",
       "      <th>Sex</th>\n",
       "      <th>Embarked</th>\n",
       "      <th></th>\n",
       "      <th></th>\n",
       "    </tr>\n",
       "  </thead>\n",
       "  <tbody>\n",
       "    <tr>\n",
       "      <th rowspan=\"3\" valign=\"top\">female</th>\n",
       "      <th>C</th>\n",
       "      <td>28.344262</td>\n",
       "      <td>0.876712</td>\n",
       "    </tr>\n",
       "    <tr>\n",
       "      <th>Q</th>\n",
       "      <td>24.291667</td>\n",
       "      <td>0.750000</td>\n",
       "    </tr>\n",
       "    <tr>\n",
       "      <th>S</th>\n",
       "      <td>27.771505</td>\n",
       "      <td>0.689655</td>\n",
       "    </tr>\n",
       "    <tr>\n",
       "      <th rowspan=\"3\" valign=\"top\">male</th>\n",
       "      <th>C</th>\n",
       "      <td>32.998841</td>\n",
       "      <td>0.305263</td>\n",
       "    </tr>\n",
       "    <tr>\n",
       "      <th>Q</th>\n",
       "      <td>30.937500</td>\n",
       "      <td>0.073171</td>\n",
       "    </tr>\n",
       "    <tr>\n",
       "      <th>S</th>\n",
       "      <td>30.291440</td>\n",
       "      <td>0.174603</td>\n",
       "    </tr>\n",
       "  </tbody>\n",
       "</table>\n",
       "</div>"
      ],
      "text/plain": [
       "                       Age  Survived\n",
       "Sex    Embarked                     \n",
       "female C         28.344262  0.876712\n",
       "       Q         24.291667  0.750000\n",
       "       S         27.771505  0.689655\n",
       "male   C         32.998841  0.305263\n",
       "       Q         30.937500  0.073171\n",
       "       S         30.291440  0.174603"
      ]
     },
     "execution_count": 71,
     "metadata": {},
     "output_type": "execute_result"
    }
   ],
   "source": [
    "df.groupby([\"Sex\",\"Embarked\"]).agg({\"Age\" : \"mean\",\n",
    "                                       \"Survived\": \"mean\"})         # performed a groupby operation with 2 breakdowns"
   ]
  },
  {
   "cell_type": "code",
   "execution_count": 72,
   "id": "c93ffd36",
   "metadata": {
    "execution": {
     "iopub.execute_input": "2023-11-05T13:41:12.743515Z",
     "iopub.status.busy": "2023-11-05T13:41:12.743094Z",
     "iopub.status.idle": "2023-11-05T13:41:12.773427Z",
     "shell.execute_reply": "2023-11-05T13:41:12.771967Z"
    },
    "papermill": {
     "duration": 0.075207,
     "end_time": "2023-11-05T13:41:12.776847",
     "exception": false,
     "start_time": "2023-11-05T13:41:12.701640",
     "status": "completed"
    },
    "tags": []
   },
   "outputs": [
    {
     "data": {
      "text/html": [
       "<div>\n",
       "<style scoped>\n",
       "    .dataframe tbody tr th:only-of-type {\n",
       "        vertical-align: middle;\n",
       "    }\n",
       "\n",
       "    .dataframe tbody tr th {\n",
       "        vertical-align: top;\n",
       "    }\n",
       "\n",
       "    .dataframe thead th {\n",
       "        text-align: right;\n",
       "    }\n",
       "</style>\n",
       "<table border=\"1\" class=\"dataframe\">\n",
       "  <thead>\n",
       "    <tr style=\"text-align: right;\">\n",
       "      <th>Embarked</th>\n",
       "      <th>C</th>\n",
       "      <th>Q</th>\n",
       "      <th>S</th>\n",
       "    </tr>\n",
       "    <tr>\n",
       "      <th>Sex</th>\n",
       "      <th></th>\n",
       "      <th></th>\n",
       "      <th></th>\n",
       "    </tr>\n",
       "  </thead>\n",
       "  <tbody>\n",
       "    <tr>\n",
       "      <th>female</th>\n",
       "      <td>0.876712</td>\n",
       "      <td>0.750000</td>\n",
       "      <td>0.689655</td>\n",
       "    </tr>\n",
       "    <tr>\n",
       "      <th>male</th>\n",
       "      <td>0.305263</td>\n",
       "      <td>0.073171</td>\n",
       "      <td>0.174603</td>\n",
       "    </tr>\n",
       "  </tbody>\n",
       "</table>\n",
       "</div>"
      ],
      "text/plain": [
       "Embarked         C         Q         S\n",
       "Sex                                   \n",
       "female    0.876712  0.750000  0.689655\n",
       "male      0.305263  0.073171  0.174603"
      ]
     },
     "execution_count": 72,
     "metadata": {},
     "output_type": "execute_result"
    }
   ],
   "source": [
    "df.pivot_table(\"Survived\", \"Sex\",  \"Embarked\")  # takes the average as default at the intersection of cells"
   ]
  },
  {
   "cell_type": "code",
   "execution_count": 73,
   "id": "f599dd43",
   "metadata": {
    "execution": {
     "iopub.execute_input": "2023-11-05T13:41:12.863630Z",
     "iopub.status.busy": "2023-11-05T13:41:12.863243Z",
     "iopub.status.idle": "2023-11-05T13:41:12.887292Z",
     "shell.execute_reply": "2023-11-05T13:41:12.886112Z"
    },
    "papermill": {
     "duration": 0.070954,
     "end_time": "2023-11-05T13:41:12.889808",
     "exception": false,
     "start_time": "2023-11-05T13:41:12.818854",
     "status": "completed"
    },
    "tags": []
   },
   "outputs": [
    {
     "data": {
      "text/html": [
       "<div>\n",
       "<style scoped>\n",
       "    .dataframe tbody tr th:only-of-type {\n",
       "        vertical-align: middle;\n",
       "    }\n",
       "\n",
       "    .dataframe tbody tr th {\n",
       "        vertical-align: top;\n",
       "    }\n",
       "\n",
       "    .dataframe thead th {\n",
       "        text-align: right;\n",
       "    }\n",
       "</style>\n",
       "<table border=\"1\" class=\"dataframe\">\n",
       "  <thead>\n",
       "    <tr style=\"text-align: right;\">\n",
       "      <th>Embarked</th>\n",
       "      <th>C</th>\n",
       "      <th>Q</th>\n",
       "      <th>S</th>\n",
       "    </tr>\n",
       "    <tr>\n",
       "      <th>Sex</th>\n",
       "      <th></th>\n",
       "      <th></th>\n",
       "      <th></th>\n",
       "    </tr>\n",
       "  </thead>\n",
       "  <tbody>\n",
       "    <tr>\n",
       "      <th>female</th>\n",
       "      <td>0.331042</td>\n",
       "      <td>0.439155</td>\n",
       "      <td>0.463778</td>\n",
       "    </tr>\n",
       "    <tr>\n",
       "      <th>male</th>\n",
       "      <td>0.462962</td>\n",
       "      <td>0.263652</td>\n",
       "      <td>0.380058</td>\n",
       "    </tr>\n",
       "  </tbody>\n",
       "</table>\n",
       "</div>"
      ],
      "text/plain": [
       "Embarked         C         Q         S\n",
       "Sex                                   \n",
       "female    0.331042  0.439155  0.463778\n",
       "male      0.462962  0.263652  0.380058"
      ]
     },
     "execution_count": 73,
     "metadata": {},
     "output_type": "execute_result"
    }
   ],
   "source": [
    "df.pivot_table(\"Survived\", \"Sex\",  \"Embarked\", aggfunc=\"std\")  # took the standard deviation"
   ]
  },
  {
   "cell_type": "code",
   "execution_count": 74,
   "id": "743f5c6a",
   "metadata": {
    "execution": {
     "iopub.execute_input": "2023-11-05T13:41:12.974808Z",
     "iopub.status.busy": "2023-11-05T13:41:12.974440Z",
     "iopub.status.idle": "2023-11-05T13:41:12.989752Z",
     "shell.execute_reply": "2023-11-05T13:41:12.988534Z"
    },
    "papermill": {
     "duration": 0.060627,
     "end_time": "2023-11-05T13:41:12.992245",
     "exception": false,
     "start_time": "2023-11-05T13:41:12.931618",
     "status": "completed"
    },
    "tags": []
   },
   "outputs": [],
   "source": [
    "# We divided ages into 0-10, 11-18, 19-25, 26-40, 41-90 and assigned them to a new feature\n",
    "df[\"new_age\"] = pd.cut(df[\"Age\"],[0,10,18,25,40,90])\n",
    "# cut = assigns based on the given values, qcut = assigns based on percentile values"
   ]
  },
  {
   "cell_type": "code",
   "execution_count": 75,
   "id": "8ef30be0",
   "metadata": {
    "execution": {
     "iopub.execute_input": "2023-11-05T13:41:13.078148Z",
     "iopub.status.busy": "2023-11-05T13:41:13.077739Z",
     "iopub.status.idle": "2023-11-05T13:41:13.109228Z",
     "shell.execute_reply": "2023-11-05T13:41:13.108086Z"
    },
    "papermill": {
     "duration": 0.078551,
     "end_time": "2023-11-05T13:41:13.111862",
     "exception": false,
     "start_time": "2023-11-05T13:41:13.033311",
     "status": "completed"
    },
    "tags": []
   },
   "outputs": [
    {
     "data": {
      "text/html": [
       "<div>\n",
       "<style scoped>\n",
       "    .dataframe tbody tr th:only-of-type {\n",
       "        vertical-align: middle;\n",
       "    }\n",
       "\n",
       "    .dataframe tbody tr th {\n",
       "        vertical-align: top;\n",
       "    }\n",
       "\n",
       "    .dataframe thead th {\n",
       "        text-align: right;\n",
       "    }\n",
       "</style>\n",
       "<table border=\"1\" class=\"dataframe\">\n",
       "  <thead>\n",
       "    <tr style=\"text-align: right;\">\n",
       "      <th>new_age</th>\n",
       "      <th>(0, 10]</th>\n",
       "      <th>(10, 18]</th>\n",
       "      <th>(18, 25]</th>\n",
       "      <th>(25, 40]</th>\n",
       "      <th>(40, 90]</th>\n",
       "    </tr>\n",
       "    <tr>\n",
       "      <th>Sex</th>\n",
       "      <th></th>\n",
       "      <th></th>\n",
       "      <th></th>\n",
       "      <th></th>\n",
       "      <th></th>\n",
       "    </tr>\n",
       "  </thead>\n",
       "  <tbody>\n",
       "    <tr>\n",
       "      <th>female</th>\n",
       "      <td>0.612903</td>\n",
       "      <td>0.729730</td>\n",
       "      <td>0.759259</td>\n",
       "      <td>0.802198</td>\n",
       "      <td>0.770833</td>\n",
       "    </tr>\n",
       "    <tr>\n",
       "      <th>male</th>\n",
       "      <td>0.575758</td>\n",
       "      <td>0.131579</td>\n",
       "      <td>0.120370</td>\n",
       "      <td>0.220930</td>\n",
       "      <td>0.176471</td>\n",
       "    </tr>\n",
       "  </tbody>\n",
       "</table>\n",
       "</div>"
      ],
      "text/plain": [
       "new_age   (0, 10]  (10, 18]  (18, 25]  (25, 40]  (40, 90]\n",
       "Sex                                                      \n",
       "female   0.612903  0.729730  0.759259  0.802198  0.770833\n",
       "male     0.575758  0.131579  0.120370  0.220930  0.176471"
      ]
     },
     "execution_count": 75,
     "metadata": {},
     "output_type": "execute_result"
    }
   ],
   "source": [
    "df.pivot_table(\"Survived\",\"Sex\",\"new_age\")"
   ]
  },
  {
   "cell_type": "markdown",
   "id": "0d41a915",
   "metadata": {
    "papermill": {
     "duration": 0.041401,
     "end_time": "2023-11-05T13:41:13.195033",
     "exception": false,
     "start_time": "2023-11-05T13:41:13.153632",
     "status": "completed"
    },
    "tags": []
   },
   "source": [
    "<div style=\"border-radius:10px; border:#D0C2F0 solid; padding: 15px; background-color: #FFF0F4; font-size:100%; text-align:left\">\n",
    "\n",
    "<h3 align=\"left\"><font color='#5E5273'>🔍 Can we merge two dataframe with using Pandas?</font></h3>"
   ]
  },
  {
   "cell_type": "code",
   "execution_count": 76,
   "id": "84e0ec55",
   "metadata": {
    "execution": {
     "iopub.execute_input": "2023-11-05T13:41:13.282304Z",
     "iopub.status.busy": "2023-11-05T13:41:13.281875Z",
     "iopub.status.idle": "2023-11-05T13:41:13.295531Z",
     "shell.execute_reply": "2023-11-05T13:41:13.294598Z"
    },
    "papermill": {
     "duration": 0.063146,
     "end_time": "2023-11-05T13:41:13.297860",
     "exception": false,
     "start_time": "2023-11-05T13:41:13.234714",
     "status": "completed"
    },
    "tags": []
   },
   "outputs": [
    {
     "data": {
      "text/html": [
       "<div>\n",
       "<style scoped>\n",
       "    .dataframe tbody tr th:only-of-type {\n",
       "        vertical-align: middle;\n",
       "    }\n",
       "\n",
       "    .dataframe tbody tr th {\n",
       "        vertical-align: top;\n",
       "    }\n",
       "\n",
       "    .dataframe thead th {\n",
       "        text-align: right;\n",
       "    }\n",
       "</style>\n",
       "<table border=\"1\" class=\"dataframe\">\n",
       "  <thead>\n",
       "    <tr style=\"text-align: right;\">\n",
       "      <th></th>\n",
       "      <th>var1</th>\n",
       "      <th>var2</th>\n",
       "      <th>var3</th>\n",
       "    </tr>\n",
       "  </thead>\n",
       "  <tbody>\n",
       "    <tr>\n",
       "      <th>0</th>\n",
       "      <td>21</td>\n",
       "      <td>17</td>\n",
       "      <td>16</td>\n",
       "    </tr>\n",
       "    <tr>\n",
       "      <th>1</th>\n",
       "      <td>19</td>\n",
       "      <td>6</td>\n",
       "      <td>15</td>\n",
       "    </tr>\n",
       "    <tr>\n",
       "      <th>2</th>\n",
       "      <td>14</td>\n",
       "      <td>26</td>\n",
       "      <td>23</td>\n",
       "    </tr>\n",
       "    <tr>\n",
       "      <th>3</th>\n",
       "      <td>27</td>\n",
       "      <td>9</td>\n",
       "      <td>5</td>\n",
       "    </tr>\n",
       "    <tr>\n",
       "      <th>4</th>\n",
       "      <td>20</td>\n",
       "      <td>7</td>\n",
       "      <td>12</td>\n",
       "    </tr>\n",
       "    <tr>\n",
       "      <th>0</th>\n",
       "      <td>120</td>\n",
       "      <td>116</td>\n",
       "      <td>115</td>\n",
       "    </tr>\n",
       "    <tr>\n",
       "      <th>1</th>\n",
       "      <td>118</td>\n",
       "      <td>105</td>\n",
       "      <td>114</td>\n",
       "    </tr>\n",
       "    <tr>\n",
       "      <th>2</th>\n",
       "      <td>113</td>\n",
       "      <td>125</td>\n",
       "      <td>122</td>\n",
       "    </tr>\n",
       "    <tr>\n",
       "      <th>3</th>\n",
       "      <td>126</td>\n",
       "      <td>108</td>\n",
       "      <td>104</td>\n",
       "    </tr>\n",
       "    <tr>\n",
       "      <th>4</th>\n",
       "      <td>119</td>\n",
       "      <td>106</td>\n",
       "      <td>111</td>\n",
       "    </tr>\n",
       "  </tbody>\n",
       "</table>\n",
       "</div>"
      ],
      "text/plain": [
       "   var1  var2  var3\n",
       "0    21    17    16\n",
       "1    19     6    15\n",
       "2    14    26    23\n",
       "3    27     9     5\n",
       "4    20     7    12\n",
       "0   120   116   115\n",
       "1   118   105   114\n",
       "2   113   125   122\n",
       "3   126   108   104\n",
       "4   119   106   111"
      ]
     },
     "execution_count": 76,
     "metadata": {},
     "output_type": "execute_result"
    }
   ],
   "source": [
    "m = np.random.randint(1,30 , size=(5,3))\n",
    "df1 = pd.DataFrame(m, columns=[\"var1\",\"var2\",\"var3\"])\n",
    "df2 = df1+99\n",
    "# merging df1 and df2\n",
    "pd.concat([df1,df2])"
   ]
  },
  {
   "cell_type": "code",
   "execution_count": 77,
   "id": "83a4291e",
   "metadata": {
    "execution": {
     "iopub.execute_input": "2023-11-05T13:41:13.386567Z",
     "iopub.status.busy": "2023-11-05T13:41:13.385937Z",
     "iopub.status.idle": "2023-11-05T13:41:13.399417Z",
     "shell.execute_reply": "2023-11-05T13:41:13.398025Z"
    },
    "papermill": {
     "duration": 0.06126,
     "end_time": "2023-11-05T13:41:13.402038",
     "exception": false,
     "start_time": "2023-11-05T13:41:13.340778",
     "status": "completed"
    },
    "tags": []
   },
   "outputs": [
    {
     "data": {
      "text/html": [
       "<div>\n",
       "<style scoped>\n",
       "    .dataframe tbody tr th:only-of-type {\n",
       "        vertical-align: middle;\n",
       "    }\n",
       "\n",
       "    .dataframe tbody tr th {\n",
       "        vertical-align: top;\n",
       "    }\n",
       "\n",
       "    .dataframe thead th {\n",
       "        text-align: right;\n",
       "    }\n",
       "</style>\n",
       "<table border=\"1\" class=\"dataframe\">\n",
       "  <thead>\n",
       "    <tr style=\"text-align: right;\">\n",
       "      <th></th>\n",
       "      <th>var1</th>\n",
       "      <th>var2</th>\n",
       "      <th>var3</th>\n",
       "    </tr>\n",
       "  </thead>\n",
       "  <tbody>\n",
       "    <tr>\n",
       "      <th>0</th>\n",
       "      <td>21</td>\n",
       "      <td>17</td>\n",
       "      <td>16</td>\n",
       "    </tr>\n",
       "    <tr>\n",
       "      <th>1</th>\n",
       "      <td>19</td>\n",
       "      <td>6</td>\n",
       "      <td>15</td>\n",
       "    </tr>\n",
       "    <tr>\n",
       "      <th>2</th>\n",
       "      <td>14</td>\n",
       "      <td>26</td>\n",
       "      <td>23</td>\n",
       "    </tr>\n",
       "    <tr>\n",
       "      <th>3</th>\n",
       "      <td>27</td>\n",
       "      <td>9</td>\n",
       "      <td>5</td>\n",
       "    </tr>\n",
       "    <tr>\n",
       "      <th>4</th>\n",
       "      <td>20</td>\n",
       "      <td>7</td>\n",
       "      <td>12</td>\n",
       "    </tr>\n",
       "    <tr>\n",
       "      <th>5</th>\n",
       "      <td>120</td>\n",
       "      <td>116</td>\n",
       "      <td>115</td>\n",
       "    </tr>\n",
       "    <tr>\n",
       "      <th>6</th>\n",
       "      <td>118</td>\n",
       "      <td>105</td>\n",
       "      <td>114</td>\n",
       "    </tr>\n",
       "    <tr>\n",
       "      <th>7</th>\n",
       "      <td>113</td>\n",
       "      <td>125</td>\n",
       "      <td>122</td>\n",
       "    </tr>\n",
       "    <tr>\n",
       "      <th>8</th>\n",
       "      <td>126</td>\n",
       "      <td>108</td>\n",
       "      <td>104</td>\n",
       "    </tr>\n",
       "    <tr>\n",
       "      <th>9</th>\n",
       "      <td>119</td>\n",
       "      <td>106</td>\n",
       "      <td>111</td>\n",
       "    </tr>\n",
       "  </tbody>\n",
       "</table>\n",
       "</div>"
      ],
      "text/plain": [
       "   var1  var2  var3\n",
       "0    21    17    16\n",
       "1    19     6    15\n",
       "2    14    26    23\n",
       "3    27     9     5\n",
       "4    20     7    12\n",
       "5   120   116   115\n",
       "6   118   105   114\n",
       "7   113   125   122\n",
       "8   126   108   104\n",
       "9   119   106   111"
      ]
     },
     "execution_count": 77,
     "metadata": {},
     "output_type": "execute_result"
    }
   ],
   "source": [
    "# using ignore index to remove different indices of the two lists and make a single index\n",
    "pd.concat([df1,df2], ignore_index=True)"
   ]
  },
  {
   "cell_type": "code",
   "execution_count": 78,
   "id": "a1d30cf6",
   "metadata": {
    "execution": {
     "iopub.execute_input": "2023-11-05T13:41:13.492833Z",
     "iopub.status.busy": "2023-11-05T13:41:13.492377Z",
     "iopub.status.idle": "2023-11-05T13:41:13.519359Z",
     "shell.execute_reply": "2023-11-05T13:41:13.517527Z"
    },
    "papermill": {
     "duration": 0.075167,
     "end_time": "2023-11-05T13:41:13.522299",
     "exception": false,
     "start_time": "2023-11-05T13:41:13.447132",
     "status": "completed"
    },
    "tags": []
   },
   "outputs": [
    {
     "data": {
      "text/html": [
       "<div>\n",
       "<style scoped>\n",
       "    .dataframe tbody tr th:only-of-type {\n",
       "        vertical-align: middle;\n",
       "    }\n",
       "\n",
       "    .dataframe tbody tr th {\n",
       "        vertical-align: top;\n",
       "    }\n",
       "\n",
       "    .dataframe thead th {\n",
       "        text-align: right;\n",
       "    }\n",
       "</style>\n",
       "<table border=\"1\" class=\"dataframe\">\n",
       "  <thead>\n",
       "    <tr style=\"text-align: right;\">\n",
       "      <th></th>\n",
       "      <th>employees</th>\n",
       "      <th>group</th>\n",
       "      <th>start_date</th>\n",
       "    </tr>\n",
       "  </thead>\n",
       "  <tbody>\n",
       "    <tr>\n",
       "      <th>0</th>\n",
       "      <td>john</td>\n",
       "      <td>accounting</td>\n",
       "      <td>2010</td>\n",
       "    </tr>\n",
       "    <tr>\n",
       "      <th>1</th>\n",
       "      <td>dennis</td>\n",
       "      <td>engineering</td>\n",
       "      <td>2009</td>\n",
       "    </tr>\n",
       "    <tr>\n",
       "      <th>2</th>\n",
       "      <td>mark</td>\n",
       "      <td>engineering</td>\n",
       "      <td>2014</td>\n",
       "    </tr>\n",
       "    <tr>\n",
       "      <th>3</th>\n",
       "      <td>maria</td>\n",
       "      <td>hr</td>\n",
       "      <td>2019</td>\n",
       "    </tr>\n",
       "  </tbody>\n",
       "</table>\n",
       "</div>"
      ],
      "text/plain": [
       "  employees        group  start_date\n",
       "0      john   accounting        2010\n",
       "1    dennis  engineering        2009\n",
       "2      mark  engineering        2014\n",
       "3     maria           hr        2019"
      ]
     },
     "execution_count": 78,
     "metadata": {},
     "output_type": "execute_result"
    }
   ],
   "source": [
    "df1 = pd.DataFrame({\"employees\": [\"john\", \"dennis\",\"mark\",\"maria\"],\n",
    "                    \"group\":  [\"accounting\",\"engineering\",\"engineering\",\"hr\"]})\n",
    "\n",
    "df2 = pd.DataFrame({\"employees\": [\"john\", \"dennis\",\"mark\",\"maria\"],\n",
    "                    \"start_date\":  [2010,2009,2014,2019]})\n",
    "\n",
    "# merges two groups based on employees\n",
    "pd.merge(df1,df2)"
   ]
  }
 ],
 "metadata": {
  "kernelspec": {
   "display_name": "Python 3",
   "language": "python",
   "name": "python3"
  },
  "language_info": {
   "codemirror_mode": {
    "name": "ipython",
    "version": 3
   },
   "file_extension": ".py",
   "mimetype": "text/x-python",
   "name": "python",
   "nbconvert_exporter": "python",
   "pygments_lexer": "ipython3",
   "version": "3.10.12"
  },
  "papermill": {
   "default_parameters": {},
   "duration": 12.624613,
   "end_time": "2023-11-05T13:41:14.088375",
   "environment_variables": {},
   "exception": null,
   "input_path": "__notebook__.ipynb",
   "output_path": "__notebook__.ipynb",
   "parameters": {},
   "start_time": "2023-11-05T13:41:01.463762",
   "version": "2.4.0"
  }
 },
 "nbformat": 4,
 "nbformat_minor": 5
}
