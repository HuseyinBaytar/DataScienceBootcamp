{
 "cells": [
  {
   "cell_type": "markdown",
   "id": "8910d61c",
   "metadata": {
    "papermill": {
     "duration": 0.018585,
     "end_time": "2023-11-06T15:46:45.461130",
     "exception": false,
     "start_time": "2023-11-06T15:46:45.442545",
     "status": "completed"
    },
    "tags": []
   },
   "source": [
    "# <p style=\"background-color:lightgray; font-family:verdana; font-size:250%; text-align:center; border-radius: 15px 20px;\">🟠CRM Analytics🟠</p>"
   ]
  },
  {
   "cell_type": "markdown",
   "id": "7736afb3",
   "metadata": {
    "papermill": {
     "duration": 0.018577,
     "end_time": "2023-11-06T15:46:45.498214",
     "exception": false,
     "start_time": "2023-11-06T15:46:45.479637",
     "status": "completed"
    },
    "tags": []
   },
   "source": [
    "# <p style=\"border-radius:10px; border:#DEB887 solid; padding:25px; background-color: #FFFAF0; font-size:100%;color:#52017A;text-align:center;\"> CRM </p>"
   ]
  },
  {
   "cell_type": "markdown",
   "id": "3ccfbbac",
   "metadata": {
    "papermill": {
     "duration": 0.017476,
     "end_time": "2023-11-06T15:46:45.534480",
     "exception": false,
     "start_time": "2023-11-06T15:46:45.517004",
     "status": "completed"
    },
    "tags": []
   },
   "source": [
    "<div style=\"border-radius:10px; border:#D0C2F0 solid; padding: 15px; background-color: #FFF0F4; font-size:100%; text-align:left\">\n",
    "\n",
    "<h3 align=\"left\"><font color='#5E5273'>🔍 What is CRM, What is CRM concepts and KPI's ? </font></h3>"
   ]
  },
  {
   "cell_type": "markdown",
   "id": "af6187e6",
   "metadata": {
    "papermill": {
     "duration": 0.017414,
     "end_time": "2023-11-06T15:46:45.569633",
     "exception": false,
     "start_time": "2023-11-06T15:46:45.552219",
     "status": "completed"
    },
    "tags": []
   },
   "source": [
    "## If there is a company, of course, it has customers. The management of the relationships with customers is called CRM.\n",
    "\n",
    "* **Customer lifecycle optimizations**\n",
    "for example we have got a website, the first step of the customer is entering the website. The second step is signing up for the site. The     third step is making a purchase. These are the initial steps of the customer lifecycle.\n",
    "\n",
    "* **Communication (language, color, visuals, campaigns)**\n",
    "It is the communication that will take place with the customer. For example, some companies make jokes on their customers via social media.\n",
    "\n",
    "* **Customer acquisition/finding efforts**\n",
    "It is about finding new customers, regardless of whether it is online or offline. Finding new customers is more costly than retaining existing ones. Therefore, a large part of CRM efforts are aimed at retaining existing customers, which are known as customer churn efforts.\n",
    "\n",
    "* **Cross-selling, upselling**\n",
    "For example, if a person buys a hamburger, they are offered fries (cross-sell). If they buy a cola, they are offered a larger size of the same drink (upsell). In summary, it is an attempt to make more sales.\n",
    "\n",
    "* **Customer segmentation efforts**\n",
    "When a brand addresses its customers, communicates with them, instead of treating them all the same, it can divide its customers into different segments and communicate more focused, useful, and efficiently. The basis of these efforts is that resources are limited, but there is a lot of work to be done. For example, if there are 1000 customers, and we want to retain them because finding new ones is more costly, it is quite logical to segment them to prioritize those that are most valuable to us, and those that might be slightly less so. When there is interaction between us and the customer, prioritizing the customers that will provide the most benefit to our company and proceeding accordingly is key.\n",
    "    \n",
    "    \n",
    "    \n",
    "CRM analytics efforts aim to make the entire customer relationship process more efficient based on data.\n"
   ]
  },
  {
   "cell_type": "markdown",
   "id": "0789bd79",
   "metadata": {
    "papermill": {
     "duration": 0.01739,
     "end_time": "2023-11-06T15:46:45.604750",
     "exception": false,
     "start_time": "2023-11-06T15:46:45.587360",
     "status": "completed"
    },
    "tags": []
   },
   "source": [
    "## KPI, Key Performance Indicators, refer to measurable critical indicators that help an organization achieve specific objectives. They are mathematical indicators used to evaluate the performance of companies, departments, or employees.\n",
    "    \n",
    "    \n",
    "* **Customer Acquisition Rate:** The percentage of customers acquired during a specific period.\n",
    "* **Customer Retention Rate:** The likelihood of a customer who has engaged with the company to make a repeat purchase or continue patronizing the company.\n",
    "* **Customer Churn Rate:** The rate at which existing customers leave the company.\n",
    "* **Conversion Rate:** In the context of an advertisement, if a thousand people see the ad and ten people click on it, the conversion rate is 10/1000.\n",
    "* **Growth Rate:** Goals set by companies at the beginning of the year or specific time periods.\n",
    "    \n",
    " ####   Analysis of Cohort\n",
    "\n",
    "* **cohort:** a group of people who share common characteristics.\n",
    "* **cohort analysis:** the analysis of the shared behavior of a group of people with common characteristics within a specific period of time.\n",
    "\n",
    "For example, churn: customers who share common characteristics with previously churned customers are more likely to churn."
   ]
  },
  {
   "cell_type": "markdown",
   "id": "3986e3be",
   "metadata": {
    "papermill": {
     "duration": 0.017339,
     "end_time": "2023-11-06T15:46:45.640089",
     "exception": false,
     "start_time": "2023-11-06T15:46:45.622750",
     "status": "completed"
    },
    "tags": []
   },
   "source": [
    "<center><span style=\"color:#f7c297;font-family:cursive;font-size:100%\"> -CRM- </span></center>\n",
    "<center><img src=\"https://i.imgur.com/5fdhxeZ.png\" width=\"800\" height=\"800\"></center>"
   ]
  },
  {
   "cell_type": "markdown",
   "id": "ea07ffa8",
   "metadata": {
    "papermill": {
     "duration": 0.017182,
     "end_time": "2023-11-06T15:46:45.674847",
     "exception": false,
     "start_time": "2023-11-06T15:46:45.657665",
     "status": "completed"
    },
    "tags": []
   },
   "source": [
    "# <p style=\"border-radius:10px; border:#DEB887 solid; padding:25px; background-color: #FFFAF0; font-size:100%;color:#52017A;text-align:center;\"> RFM Analysis </p>"
   ]
  },
  {
   "cell_type": "markdown",
   "id": "b065c93c",
   "metadata": {
    "papermill": {
     "duration": 0.020667,
     "end_time": "2023-11-06T15:46:45.713197",
     "exception": false,
     "start_time": "2023-11-06T15:46:45.692530",
     "status": "completed"
    },
    "tags": []
   },
   "source": [
    "# RFM Analysis is a technique used for customer segmentation. It involves the categorization of customers into groups based on their purchasing behavior, allowing the development of strategies tailored to these groups.\n",
    "\n",
    "## RFM Metrics\n",
    "\n",
    "**Recency:** Indicates how recently the customer made a purchase or interacted with us. For example, if one customer's value is 1 and another's is 10, a value of 1 is considered better, indicating a more recent purchase, especially when discussing daily transactions.\n",
    "\n",
    "**Frequency:** Refers to the number of purchases/transactions made by the customer.\n",
    "\n",
    "**Monetary Value:** Represents the monetary value that customers have left with us.\n",
    "\n",
    "For the Recency metric, a lower value is considered better, for Frequency, a higher value is optimal, and for Monetary, the highest value is considered the best. \n",
    "    \n",
    "We need to convert the RFM metrics into the same format to make comparisons, which leads to the computation of RFM scores."
   ]
  },
  {
   "cell_type": "code",
   "execution_count": 1,
   "id": "3083003b",
   "metadata": {
    "execution": {
     "iopub.execute_input": "2023-11-06T15:46:45.757331Z",
     "iopub.status.busy": "2023-11-06T15:46:45.756883Z",
     "iopub.status.idle": "2023-11-06T15:46:46.238777Z",
     "shell.execute_reply": "2023-11-06T15:46:46.236220Z"
    },
    "papermill": {
     "duration": 0.50782,
     "end_time": "2023-11-06T15:46:46.243091",
     "exception": false,
     "start_time": "2023-11-06T15:46:45.735271",
     "status": "completed"
    },
    "tags": []
   },
   "outputs": [],
   "source": [
    "import datetime as dt\n",
    "import pandas as pd"
   ]
  },
  {
   "cell_type": "code",
   "execution_count": 2,
   "id": "26ed81d7",
   "metadata": {
    "execution": {
     "iopub.execute_input": "2023-11-06T15:46:46.290015Z",
     "iopub.status.busy": "2023-11-06T15:46:46.289408Z",
     "iopub.status.idle": "2023-11-06T15:48:37.966853Z",
     "shell.execute_reply": "2023-11-06T15:48:37.965745Z"
    },
    "papermill": {
     "duration": 111.705167,
     "end_time": "2023-11-06T15:48:37.969929",
     "exception": false,
     "start_time": "2023-11-06T15:46:46.264762",
     "status": "completed"
    },
    "tags": []
   },
   "outputs": [],
   "source": [
    "df_ = pd.read_excel(r\"/kaggle/input/online-retail/online_retail_II.xlsx\" ,sheet_name=\"Year 2009-2010\")\n",
    "df = df_.copy()"
   ]
  },
  {
   "cell_type": "code",
   "execution_count": 3,
   "id": "ddacb0e7",
   "metadata": {
    "execution": {
     "iopub.execute_input": "2023-11-06T15:48:38.008928Z",
     "iopub.status.busy": "2023-11-06T15:48:38.007935Z",
     "iopub.status.idle": "2023-11-06T15:48:38.195474Z",
     "shell.execute_reply": "2023-11-06T15:48:38.194308Z"
    },
    "papermill": {
     "duration": 0.210245,
     "end_time": "2023-11-06T15:48:38.198671",
     "exception": false,
     "start_time": "2023-11-06T15:48:37.988426",
     "status": "completed"
    },
    "tags": []
   },
   "outputs": [
    {
     "data": {
      "text/html": [
       "<div>\n",
       "<style scoped>\n",
       "    .dataframe tbody tr th:only-of-type {\n",
       "        vertical-align: middle;\n",
       "    }\n",
       "\n",
       "    .dataframe tbody tr th {\n",
       "        vertical-align: top;\n",
       "    }\n",
       "\n",
       "    .dataframe thead th {\n",
       "        text-align: right;\n",
       "    }\n",
       "</style>\n",
       "<table border=\"1\" class=\"dataframe\">\n",
       "  <thead>\n",
       "    <tr style=\"text-align: right;\">\n",
       "      <th></th>\n",
       "      <th>Invoice</th>\n",
       "      <th>StockCode</th>\n",
       "      <th>Description</th>\n",
       "      <th>Quantity</th>\n",
       "      <th>InvoiceDate</th>\n",
       "      <th>Price</th>\n",
       "      <th>Customer ID</th>\n",
       "      <th>Country</th>\n",
       "    </tr>\n",
       "  </thead>\n",
       "  <tbody>\n",
       "    <tr>\n",
       "      <th>0</th>\n",
       "      <td>489434</td>\n",
       "      <td>85048</td>\n",
       "      <td>15CM CHRISTMAS GLASS BALL 20 LIGHTS</td>\n",
       "      <td>12</td>\n",
       "      <td>2009-12-01 07:45:00</td>\n",
       "      <td>6.95</td>\n",
       "      <td>13085.0</td>\n",
       "      <td>United Kingdom</td>\n",
       "    </tr>\n",
       "    <tr>\n",
       "      <th>1</th>\n",
       "      <td>489434</td>\n",
       "      <td>79323P</td>\n",
       "      <td>PINK CHERRY LIGHTS</td>\n",
       "      <td>12</td>\n",
       "      <td>2009-12-01 07:45:00</td>\n",
       "      <td>6.75</td>\n",
       "      <td>13085.0</td>\n",
       "      <td>United Kingdom</td>\n",
       "    </tr>\n",
       "    <tr>\n",
       "      <th>2</th>\n",
       "      <td>489434</td>\n",
       "      <td>79323W</td>\n",
       "      <td>WHITE CHERRY LIGHTS</td>\n",
       "      <td>12</td>\n",
       "      <td>2009-12-01 07:45:00</td>\n",
       "      <td>6.75</td>\n",
       "      <td>13085.0</td>\n",
       "      <td>United Kingdom</td>\n",
       "    </tr>\n",
       "    <tr>\n",
       "      <th>3</th>\n",
       "      <td>489434</td>\n",
       "      <td>22041</td>\n",
       "      <td>RECORD FRAME 7\" SINGLE SIZE</td>\n",
       "      <td>48</td>\n",
       "      <td>2009-12-01 07:45:00</td>\n",
       "      <td>2.10</td>\n",
       "      <td>13085.0</td>\n",
       "      <td>United Kingdom</td>\n",
       "    </tr>\n",
       "    <tr>\n",
       "      <th>4</th>\n",
       "      <td>489434</td>\n",
       "      <td>21232</td>\n",
       "      <td>STRAWBERRY CERAMIC TRINKET BOX</td>\n",
       "      <td>24</td>\n",
       "      <td>2009-12-01 07:45:00</td>\n",
       "      <td>1.25</td>\n",
       "      <td>13085.0</td>\n",
       "      <td>United Kingdom</td>\n",
       "    </tr>\n",
       "  </tbody>\n",
       "</table>\n",
       "</div>"
      ],
      "text/plain": [
       "  Invoice StockCode                          Description  Quantity  \\\n",
       "0  489434     85048  15CM CHRISTMAS GLASS BALL 20 LIGHTS        12   \n",
       "1  489434    79323P                   PINK CHERRY LIGHTS        12   \n",
       "2  489434    79323W                  WHITE CHERRY LIGHTS        12   \n",
       "3  489434     22041         RECORD FRAME 7\" SINGLE SIZE         48   \n",
       "4  489434     21232       STRAWBERRY CERAMIC TRINKET BOX        24   \n",
       "\n",
       "          InvoiceDate  Price  Customer ID         Country  \n",
       "0 2009-12-01 07:45:00   6.95      13085.0  United Kingdom  \n",
       "1 2009-12-01 07:45:00   6.75      13085.0  United Kingdom  \n",
       "2 2009-12-01 07:45:00   6.75      13085.0  United Kingdom  \n",
       "3 2009-12-01 07:45:00   2.10      13085.0  United Kingdom  \n",
       "4 2009-12-01 07:45:00   1.25      13085.0  United Kingdom  "
      ]
     },
     "execution_count": 3,
     "metadata": {},
     "output_type": "execute_result"
    }
   ],
   "source": [
    "df.head()"
   ]
  },
  {
   "cell_type": "code",
   "execution_count": 4,
   "id": "a1e9bda5",
   "metadata": {
    "execution": {
     "iopub.execute_input": "2023-11-06T15:48:38.307292Z",
     "iopub.status.busy": "2023-11-06T15:48:38.306196Z",
     "iopub.status.idle": "2023-11-06T15:48:38.345048Z",
     "shell.execute_reply": "2023-11-06T15:48:38.343669Z"
    },
    "papermill": {
     "duration": 0.061232,
     "end_time": "2023-11-06T15:48:38.347994",
     "exception": false,
     "start_time": "2023-11-06T15:48:38.286762",
     "status": "completed"
    },
    "tags": []
   },
   "outputs": [
    {
     "data": {
      "text/plain": [
       "4681"
      ]
     },
     "execution_count": 4,
     "metadata": {},
     "output_type": "execute_result"
    }
   ],
   "source": [
    "#Unique product count.\n",
    "df[\"Description\"].nunique()"
   ]
  },
  {
   "cell_type": "code",
   "execution_count": 5,
   "id": "d973b10a",
   "metadata": {
    "execution": {
     "iopub.execute_input": "2023-11-06T15:48:38.391211Z",
     "iopub.status.busy": "2023-11-06T15:48:38.390403Z",
     "iopub.status.idle": "2023-11-06T15:48:38.476485Z",
     "shell.execute_reply": "2023-11-06T15:48:38.475233Z"
    },
    "papermill": {
     "duration": 0.111661,
     "end_time": "2023-11-06T15:48:38.479133",
     "exception": false,
     "start_time": "2023-11-06T15:48:38.367472",
     "status": "completed"
    },
    "tags": []
   },
   "outputs": [
    {
     "data": {
      "text/plain": [
       "Description\n",
       "WHITE HANGING HEART T-LIGHT HOLDER     3549\n",
       "REGENCY CAKESTAND 3 TIER               2212\n",
       "STRAWBERRY CERAMIC TRINKET BOX         1843\n",
       "PACK OF 72 RETRO SPOT CAKE CASES       1466\n",
       "ASSORTED COLOUR BIRD ORNAMENT          1457\n",
       "                                       ... \n",
       "stock credited from royal yacht inc       1\n",
       "VINTAGE METAL CAKE STAND CREAM            1\n",
       "BLUE BAROQUE FLOCK CANDLE HOLDER          1\n",
       "S/4 HEART CRYSTAL FRIDGE MAGNETS          1\n",
       "dotcom email                              1\n",
       "Name: count, Length: 4681, dtype: int64"
      ]
     },
     "execution_count": 5,
     "metadata": {},
     "output_type": "execute_result"
    }
   ],
   "source": [
    "#How many of each product are there? #How many times did these unique products appear on the invoice?\n",
    "df[\"Description\"].value_counts()"
   ]
  },
  {
   "cell_type": "code",
   "execution_count": 6,
   "id": "3fdcc593",
   "metadata": {
    "execution": {
     "iopub.execute_input": "2023-11-06T15:48:38.519086Z",
     "iopub.status.busy": "2023-11-06T15:48:38.518186Z",
     "iopub.status.idle": "2023-11-06T15:48:38.647787Z",
     "shell.execute_reply": "2023-11-06T15:48:38.646617Z"
    },
    "papermill": {
     "duration": 0.153144,
     "end_time": "2023-11-06T15:48:38.650537",
     "exception": false,
     "start_time": "2023-11-06T15:48:38.497393",
     "status": "completed"
    },
    "tags": []
   },
   "outputs": [
    {
     "data": {
      "text/html": [
       "<div>\n",
       "<style scoped>\n",
       "    .dataframe tbody tr th:only-of-type {\n",
       "        vertical-align: middle;\n",
       "    }\n",
       "\n",
       "    .dataframe tbody tr th {\n",
       "        vertical-align: top;\n",
       "    }\n",
       "\n",
       "    .dataframe thead th {\n",
       "        text-align: right;\n",
       "    }\n",
       "</style>\n",
       "<table border=\"1\" class=\"dataframe\">\n",
       "  <thead>\n",
       "    <tr style=\"text-align: right;\">\n",
       "      <th></th>\n",
       "      <th>Quantity</th>\n",
       "    </tr>\n",
       "    <tr>\n",
       "      <th>Description</th>\n",
       "      <th></th>\n",
       "    </tr>\n",
       "  </thead>\n",
       "  <tbody>\n",
       "    <tr>\n",
       "      <th>WHITE HANGING HEART T-LIGHT HOLDER</th>\n",
       "      <td>57733</td>\n",
       "    </tr>\n",
       "    <tr>\n",
       "      <th>WORLD WAR 2 GLIDERS ASSTD DESIGNS</th>\n",
       "      <td>54698</td>\n",
       "    </tr>\n",
       "    <tr>\n",
       "      <th>BROCADE RING PURSE</th>\n",
       "      <td>47647</td>\n",
       "    </tr>\n",
       "    <tr>\n",
       "      <th>PACK OF 72 RETRO SPOT CAKE CASES</th>\n",
       "      <td>46106</td>\n",
       "    </tr>\n",
       "    <tr>\n",
       "      <th>ASSORTED COLOUR BIRD ORNAMENT</th>\n",
       "      <td>44925</td>\n",
       "    </tr>\n",
       "  </tbody>\n",
       "</table>\n",
       "</div>"
      ],
      "text/plain": [
       "                                    Quantity\n",
       "Description                                 \n",
       "WHITE HANGING HEART T-LIGHT HOLDER     57733\n",
       "WORLD WAR 2 GLIDERS ASSTD DESIGNS      54698\n",
       "BROCADE RING PURSE                     47647\n",
       "PACK OF 72 RETRO SPOT CAKE CASES       46106\n",
       "ASSORTED COLOUR BIRD ORNAMENT          44925"
      ]
     },
     "execution_count": 6,
     "metadata": {},
     "output_type": "execute_result"
    }
   ],
   "source": [
    "#Which product is the most ordered? #How many units of each of these unique products were sold?\n",
    "df.groupby(\"Description\").agg({\"Quantity\": \"sum\"}).sort_values(\"Quantity\", ascending=False).head()"
   ]
  },
  {
   "cell_type": "code",
   "execution_count": 7,
   "id": "1ce8e807",
   "metadata": {
    "execution": {
     "iopub.execute_input": "2023-11-06T15:48:38.691620Z",
     "iopub.status.busy": "2023-11-06T15:48:38.691050Z",
     "iopub.status.idle": "2023-11-06T15:48:38.735186Z",
     "shell.execute_reply": "2023-11-06T15:48:38.734188Z"
    },
    "papermill": {
     "duration": 0.067858,
     "end_time": "2023-11-06T15:48:38.737642",
     "exception": false,
     "start_time": "2023-11-06T15:48:38.669784",
     "status": "completed"
    },
    "tags": []
   },
   "outputs": [
    {
     "data": {
      "text/plain": [
       "28816"
      ]
     },
     "execution_count": 7,
     "metadata": {},
     "output_type": "execute_result"
    }
   ],
   "source": [
    "#How many invoices were issued?\n",
    "df[\"Invoice\"].nunique()"
   ]
  },
  {
   "cell_type": "code",
   "execution_count": 8,
   "id": "3f6a61e6",
   "metadata": {
    "execution": {
     "iopub.execute_input": "2023-11-06T15:48:38.781786Z",
     "iopub.status.busy": "2023-11-06T15:48:38.780962Z",
     "iopub.status.idle": "2023-11-06T15:48:38.977975Z",
     "shell.execute_reply": "2023-11-06T15:48:38.976829Z"
    },
    "papermill": {
     "duration": 0.22222,
     "end_time": "2023-11-06T15:48:38.980628",
     "exception": false,
     "start_time": "2023-11-06T15:48:38.758408",
     "status": "completed"
    },
    "tags": []
   },
   "outputs": [
    {
     "data": {
      "text/html": [
       "<div>\n",
       "<style scoped>\n",
       "    .dataframe tbody tr th:only-of-type {\n",
       "        vertical-align: middle;\n",
       "    }\n",
       "\n",
       "    .dataframe tbody tr th {\n",
       "        vertical-align: top;\n",
       "    }\n",
       "\n",
       "    .dataframe thead th {\n",
       "        text-align: right;\n",
       "    }\n",
       "</style>\n",
       "<table border=\"1\" class=\"dataframe\">\n",
       "  <thead>\n",
       "    <tr style=\"text-align: right;\">\n",
       "      <th></th>\n",
       "      <th>TotalPrice</th>\n",
       "    </tr>\n",
       "    <tr>\n",
       "      <th>Invoice</th>\n",
       "      <th></th>\n",
       "    </tr>\n",
       "  </thead>\n",
       "  <tbody>\n",
       "    <tr>\n",
       "      <th>489434</th>\n",
       "      <td>505.30</td>\n",
       "    </tr>\n",
       "    <tr>\n",
       "      <th>489435</th>\n",
       "      <td>145.80</td>\n",
       "    </tr>\n",
       "    <tr>\n",
       "      <th>489436</th>\n",
       "      <td>630.33</td>\n",
       "    </tr>\n",
       "    <tr>\n",
       "      <th>489437</th>\n",
       "      <td>310.75</td>\n",
       "    </tr>\n",
       "    <tr>\n",
       "      <th>489438</th>\n",
       "      <td>2286.24</td>\n",
       "    </tr>\n",
       "  </tbody>\n",
       "</table>\n",
       "</div>"
      ],
      "text/plain": [
       "         TotalPrice\n",
       "Invoice            \n",
       "489434       505.30\n",
       "489435       145.80\n",
       "489436       630.33\n",
       "489437       310.75\n",
       "489438      2286.24"
      ]
     },
     "execution_count": 8,
     "metadata": {},
     "output_type": "execute_result"
    }
   ],
   "source": [
    "#How much revenue was earned per invoice?\n",
    "#We found the total price by multiplying the quantity of products sold by their respective prices.\n",
    "df[\"TotalPrice\"] = df[\"Quantity\"] * df[\"Price\"]\n",
    "\n",
    "#To calculate how much was paid per invoice, we take the invoice to the groupby and sum the total price.\n",
    "df.groupby(\"Invoice\").agg({\"TotalPrice\": \"sum\"}).head()"
   ]
  },
  {
   "cell_type": "code",
   "execution_count": 9,
   "id": "1ffc81f9",
   "metadata": {
    "execution": {
     "iopub.execute_input": "2023-11-06T15:48:39.021147Z",
     "iopub.status.busy": "2023-11-06T15:48:39.020718Z",
     "iopub.status.idle": "2023-11-06T15:48:40.186558Z",
     "shell.execute_reply": "2023-11-06T15:48:40.185132Z"
    },
    "papermill": {
     "duration": 1.190633,
     "end_time": "2023-11-06T15:48:40.190720",
     "exception": false,
     "start_time": "2023-11-06T15:48:39.000087",
     "status": "completed"
    },
    "tags": []
   },
   "outputs": [],
   "source": [
    "#Since the customer IDs are missing, we can delete them. Without customer IDs, we cannot segment them.\n",
    "df.dropna(inplace=True) # We dropped the empty ones from our dataframe.\n",
    "\n",
    "#Expressions starting with C in the invoice represent returns.\n",
    "#Since the price cannot be negative, these must be due to returns. We need to remove them from the dataframe.\n",
    "df = df[~df[\"Invoice\"].str.contains(\"C\", na=False)]"
   ]
  },
  {
   "cell_type": "code",
   "execution_count": 10,
   "id": "f71c96f0",
   "metadata": {
    "execution": {
     "iopub.execute_input": "2023-11-06T15:48:40.233267Z",
     "iopub.status.busy": "2023-11-06T15:48:40.232333Z",
     "iopub.status.idle": "2023-11-06T15:48:40.242246Z",
     "shell.execute_reply": "2023-11-06T15:48:40.241068Z"
    },
    "papermill": {
     "duration": 0.034888,
     "end_time": "2023-11-06T15:48:40.245193",
     "exception": false,
     "start_time": "2023-11-06T15:48:40.210305",
     "status": "completed"
    },
    "tags": []
   },
   "outputs": [
    {
     "data": {
      "text/plain": [
       "Timestamp('2010-12-09 20:01:00')"
      ]
     },
     "execution_count": 10,
     "metadata": {},
     "output_type": "execute_result"
    }
   ],
   "source": [
    "#Since the dataset dates back to the 2010s and we were not there at that time, we need to pretend that we are analyzing it as if it were two days later.\n",
    "today_date = dt.datetime(2010, 12, 11)\n",
    "df[\"InvoiceDate\"].max()"
   ]
  },
  {
   "cell_type": "code",
   "execution_count": 11,
   "id": "029f14d2",
   "metadata": {
    "execution": {
     "iopub.execute_input": "2023-11-06T15:48:40.286109Z",
     "iopub.status.busy": "2023-11-06T15:48:40.285674Z",
     "iopub.status.idle": "2023-11-06T15:48:41.999801Z",
     "shell.execute_reply": "2023-11-06T15:48:41.998502Z"
    },
    "papermill": {
     "duration": 1.739497,
     "end_time": "2023-11-06T15:48:42.004175",
     "exception": false,
     "start_time": "2023-11-06T15:48:40.264678",
     "status": "completed"
    },
    "tags": []
   },
   "outputs": [
    {
     "data": {
      "text/html": [
       "<div>\n",
       "<style scoped>\n",
       "    .dataframe tbody tr th:only-of-type {\n",
       "        vertical-align: middle;\n",
       "    }\n",
       "\n",
       "    .dataframe tbody tr th {\n",
       "        vertical-align: top;\n",
       "    }\n",
       "\n",
       "    .dataframe thead th {\n",
       "        text-align: right;\n",
       "    }\n",
       "</style>\n",
       "<table border=\"1\" class=\"dataframe\">\n",
       "  <thead>\n",
       "    <tr style=\"text-align: right;\">\n",
       "      <th></th>\n",
       "      <th>InvoiceDate</th>\n",
       "      <th>Invoice</th>\n",
       "      <th>TotalPrice</th>\n",
       "    </tr>\n",
       "    <tr>\n",
       "      <th>Customer ID</th>\n",
       "      <th></th>\n",
       "      <th></th>\n",
       "      <th></th>\n",
       "    </tr>\n",
       "  </thead>\n",
       "  <tbody>\n",
       "    <tr>\n",
       "      <th>12346.0</th>\n",
       "      <td>165</td>\n",
       "      <td>11</td>\n",
       "      <td>372.86</td>\n",
       "    </tr>\n",
       "    <tr>\n",
       "      <th>12347.0</th>\n",
       "      <td>3</td>\n",
       "      <td>2</td>\n",
       "      <td>1323.32</td>\n",
       "    </tr>\n",
       "    <tr>\n",
       "      <th>12348.0</th>\n",
       "      <td>74</td>\n",
       "      <td>1</td>\n",
       "      <td>222.16</td>\n",
       "    </tr>\n",
       "    <tr>\n",
       "      <th>12349.0</th>\n",
       "      <td>43</td>\n",
       "      <td>3</td>\n",
       "      <td>2671.14</td>\n",
       "    </tr>\n",
       "    <tr>\n",
       "      <th>12351.0</th>\n",
       "      <td>11</td>\n",
       "      <td>1</td>\n",
       "      <td>300.93</td>\n",
       "    </tr>\n",
       "  </tbody>\n",
       "</table>\n",
       "</div>"
      ],
      "text/plain": [
       "             InvoiceDate  Invoice  TotalPrice\n",
       "Customer ID                                  \n",
       "12346.0              165       11      372.86\n",
       "12347.0                3        2     1323.32\n",
       "12348.0               74        1      222.16\n",
       "12349.0               43        3     2671.14\n",
       "12351.0               11        1      300.93"
      ]
     },
     "execution_count": 11,
     "metadata": {},
     "output_type": "execute_result"
    }
   ],
   "source": [
    "#To find Recency, we need to find the maximum date for each customer after taking the groupby from the today date, and then subtract it from \n",
    "#the today date.\n",
    "#For Frequency, after taking the groupby by customerID, if we go to the unique invoice count for each customer, we can find how many \n",
    "#purchases the customer made.\n",
    "#For Monetary, after taking the groupby by customerID, if we take the sum of the total prices, we can find how much each customer left.\n",
    "rfm = df.groupby(\"Customer ID\").agg({'InvoiceDate': lambda date: (today_date - date.max()).days,\n",
    "                                     'Invoice' : lambda num: num.nunique(),\n",
    "                                     'TotalPrice': lambda TotalPrice: TotalPrice.sum()})\n",
    "\n",
    "rfm.head()"
   ]
  },
  {
   "cell_type": "code",
   "execution_count": 12,
   "id": "5fd5f83d",
   "metadata": {
    "execution": {
     "iopub.execute_input": "2023-11-06T15:48:42.045504Z",
     "iopub.status.busy": "2023-11-06T15:48:42.045037Z",
     "iopub.status.idle": "2023-11-06T15:48:42.052755Z",
     "shell.execute_reply": "2023-11-06T15:48:42.051391Z"
    },
    "papermill": {
     "duration": 0.031645,
     "end_time": "2023-11-06T15:48:42.055676",
     "exception": false,
     "start_time": "2023-11-06T15:48:42.024031",
     "status": "completed"
    },
    "tags": []
   },
   "outputs": [],
   "source": [
    "rfm.columns = ['Recency', 'Frequency', 'Monetary']\n",
    "rfm = rfm[rfm[\"Monetary\"] > 0 ]"
   ]
  },
  {
   "cell_type": "code",
   "execution_count": 13,
   "id": "4a618b51",
   "metadata": {
    "execution": {
     "iopub.execute_input": "2023-11-06T15:48:42.098083Z",
     "iopub.status.busy": "2023-11-06T15:48:42.097659Z",
     "iopub.status.idle": "2023-11-06T15:48:42.125925Z",
     "shell.execute_reply": "2023-11-06T15:48:42.124577Z"
    },
    "papermill": {
     "duration": 0.053848,
     "end_time": "2023-11-06T15:48:42.129091",
     "exception": false,
     "start_time": "2023-11-06T15:48:42.075243",
     "status": "completed"
    },
    "tags": []
   },
   "outputs": [],
   "source": [
    "#Recency = inverse\n",
    "#Frequency and Monetary = direct\n",
    "#That is, a high score is a bad result for Recency, and a high score is a good result for Frequency and Monetary.\n",
    "\n",
    "rfm[\"recency_score\"] = pd.qcut(rfm['Recency'], 5, labels=[5, 4, 3, 2, 1])\n",
    "#If we divide it into 5 with qcut between 0-100, for example, 0-20, 20-40, 40-60, 60-80, 80-100, the scoring in recency will\n",
    "#be such that 1 is good and 5 is bad.\n",
    "\n",
    "rfm[\"monetary_score\"] = pd.qcut(rfm['Monetary'], 5, labels=[1, 2, 3, 4, 5])\n",
    "#1 is good and 5 is bad for monetary.\n",
    "\n",
    "#A higher value is valuable in frequency, we used the rank method as first because there are similar values, we said take the first one you see.\n",
    "rfm[\"frequency_score\"] = pd.qcut(rfm['Frequency'].rank(method=\"first\"), 5, labels=[1, 2, 3, 4, 5])"
   ]
  },
  {
   "cell_type": "code",
   "execution_count": 14,
   "id": "8f72ef2b",
   "metadata": {
    "execution": {
     "iopub.execute_input": "2023-11-06T15:48:42.173762Z",
     "iopub.status.busy": "2023-11-06T15:48:42.173324Z",
     "iopub.status.idle": "2023-11-06T15:48:42.183334Z",
     "shell.execute_reply": "2023-11-06T15:48:42.181933Z"
    },
    "papermill": {
     "duration": 0.038075,
     "end_time": "2023-11-06T15:48:42.187598",
     "exception": false,
     "start_time": "2023-11-06T15:48:42.149523",
     "status": "completed"
    },
    "tags": []
   },
   "outputs": [],
   "source": [
    "rfm[\"RFM_SCORE\"] = (rfm['recency_score'].astype(str) +\n",
    "                    rfm['frequency_score'].astype(str))"
   ]
  },
  {
   "cell_type": "code",
   "execution_count": 15,
   "id": "88114d28",
   "metadata": {
    "execution": {
     "iopub.execute_input": "2023-11-06T15:48:42.230888Z",
     "iopub.status.busy": "2023-11-06T15:48:42.230407Z",
     "iopub.status.idle": "2023-11-06T15:48:42.335948Z",
     "shell.execute_reply": "2023-11-06T15:48:42.334945Z"
    },
    "papermill": {
     "duration": 0.131779,
     "end_time": "2023-11-06T15:48:42.339681",
     "exception": false,
     "start_time": "2023-11-06T15:48:42.207902",
     "status": "completed"
    },
    "tags": []
   },
   "outputs": [],
   "source": [
    "seg_map = {\n",
    "    r'[1-2][1-2]': 'hibernating',\n",
    "    r'[1-2][3-4]': 'at_risk',\n",
    "    r'[1-2]5': 'cant_loose',\n",
    "    r'3[1-2]': 'about_to_sleep',\n",
    "    r'33': 'need_attention',\n",
    "    r'[3-4][4-5]': 'loyal_customers',\n",
    "    r'41': 'promising',\n",
    "    r'51': 'new_customers',\n",
    "    r'[4-5][2-3]': 'potential_loyalist',\n",
    "    r'5[4-5]': 'champions',\n",
    "}\n",
    "\n",
    "\n",
    "rfm['segment'] = rfm['RFM_SCORE'].replace(seg_map, regex=True)"
   ]
  },
  {
   "cell_type": "code",
   "execution_count": 16,
   "id": "7c499dff",
   "metadata": {
    "execution": {
     "iopub.execute_input": "2023-11-06T15:48:42.389301Z",
     "iopub.status.busy": "2023-11-06T15:48:42.388374Z",
     "iopub.status.idle": "2023-11-06T15:48:42.422193Z",
     "shell.execute_reply": "2023-11-06T15:48:42.420967Z"
    },
    "papermill": {
     "duration": 0.061285,
     "end_time": "2023-11-06T15:48:42.425218",
     "exception": false,
     "start_time": "2023-11-06T15:48:42.363933",
     "status": "completed"
    },
    "tags": []
   },
   "outputs": [
    {
     "data": {
      "text/html": [
       "<div>\n",
       "<style scoped>\n",
       "    .dataframe tbody tr th:only-of-type {\n",
       "        vertical-align: middle;\n",
       "    }\n",
       "\n",
       "    .dataframe tbody tr th {\n",
       "        vertical-align: top;\n",
       "    }\n",
       "\n",
       "    .dataframe thead tr th {\n",
       "        text-align: left;\n",
       "    }\n",
       "\n",
       "    .dataframe thead tr:last-of-type th {\n",
       "        text-align: right;\n",
       "    }\n",
       "</style>\n",
       "<table border=\"1\" class=\"dataframe\">\n",
       "  <thead>\n",
       "    <tr>\n",
       "      <th></th>\n",
       "      <th colspan=\"2\" halign=\"left\">Recency</th>\n",
       "      <th colspan=\"2\" halign=\"left\">Frequency</th>\n",
       "      <th colspan=\"2\" halign=\"left\">Monetary</th>\n",
       "    </tr>\n",
       "    <tr>\n",
       "      <th></th>\n",
       "      <th>mean</th>\n",
       "      <th>count</th>\n",
       "      <th>mean</th>\n",
       "      <th>count</th>\n",
       "      <th>mean</th>\n",
       "      <th>count</th>\n",
       "    </tr>\n",
       "    <tr>\n",
       "      <th>segment</th>\n",
       "      <th></th>\n",
       "      <th></th>\n",
       "      <th></th>\n",
       "      <th></th>\n",
       "      <th></th>\n",
       "      <th></th>\n",
       "    </tr>\n",
       "  </thead>\n",
       "  <tbody>\n",
       "    <tr>\n",
       "      <th>about_to_sleep</th>\n",
       "      <td>53.819242</td>\n",
       "      <td>343</td>\n",
       "      <td>1.201166</td>\n",
       "      <td>343</td>\n",
       "      <td>441.320000</td>\n",
       "      <td>343</td>\n",
       "    </tr>\n",
       "    <tr>\n",
       "      <th>at_risk</th>\n",
       "      <td>152.158756</td>\n",
       "      <td>611</td>\n",
       "      <td>3.073650</td>\n",
       "      <td>611</td>\n",
       "      <td>1188.878316</td>\n",
       "      <td>611</td>\n",
       "    </tr>\n",
       "    <tr>\n",
       "      <th>cant_loose</th>\n",
       "      <td>124.116883</td>\n",
       "      <td>77</td>\n",
       "      <td>9.116883</td>\n",
       "      <td>77</td>\n",
       "      <td>4099.450000</td>\n",
       "      <td>77</td>\n",
       "    </tr>\n",
       "    <tr>\n",
       "      <th>champions</th>\n",
       "      <td>7.119155</td>\n",
       "      <td>663</td>\n",
       "      <td>12.553544</td>\n",
       "      <td>663</td>\n",
       "      <td>6852.264167</td>\n",
       "      <td>663</td>\n",
       "    </tr>\n",
       "    <tr>\n",
       "      <th>hibernating</th>\n",
       "      <td>213.885714</td>\n",
       "      <td>1015</td>\n",
       "      <td>1.126108</td>\n",
       "      <td>1015</td>\n",
       "      <td>403.977836</td>\n",
       "      <td>1015</td>\n",
       "    </tr>\n",
       "    <tr>\n",
       "      <th>loyal_customers</th>\n",
       "      <td>36.287062</td>\n",
       "      <td>742</td>\n",
       "      <td>6.830189</td>\n",
       "      <td>742</td>\n",
       "      <td>2746.067353</td>\n",
       "      <td>742</td>\n",
       "    </tr>\n",
       "    <tr>\n",
       "      <th>need_attention</th>\n",
       "      <td>53.265700</td>\n",
       "      <td>207</td>\n",
       "      <td>2.449275</td>\n",
       "      <td>207</td>\n",
       "      <td>1060.357005</td>\n",
       "      <td>207</td>\n",
       "    </tr>\n",
       "    <tr>\n",
       "      <th>new_customers</th>\n",
       "      <td>8.580000</td>\n",
       "      <td>50</td>\n",
       "      <td>1.000000</td>\n",
       "      <td>50</td>\n",
       "      <td>386.199200</td>\n",
       "      <td>50</td>\n",
       "    </tr>\n",
       "    <tr>\n",
       "      <th>potential_loyalist</th>\n",
       "      <td>18.793037</td>\n",
       "      <td>517</td>\n",
       "      <td>2.017408</td>\n",
       "      <td>517</td>\n",
       "      <td>729.510986</td>\n",
       "      <td>517</td>\n",
       "    </tr>\n",
       "    <tr>\n",
       "      <th>promising</th>\n",
       "      <td>25.747126</td>\n",
       "      <td>87</td>\n",
       "      <td>1.000000</td>\n",
       "      <td>87</td>\n",
       "      <td>367.086782</td>\n",
       "      <td>87</td>\n",
       "    </tr>\n",
       "  </tbody>\n",
       "</table>\n",
       "</div>"
      ],
      "text/plain": [
       "                       Recency        Frequency           Monetary      \n",
       "                          mean count       mean count         mean count\n",
       "segment                                                                 \n",
       "about_to_sleep       53.819242   343   1.201166   343   441.320000   343\n",
       "at_risk             152.158756   611   3.073650   611  1188.878316   611\n",
       "cant_loose          124.116883    77   9.116883    77  4099.450000    77\n",
       "champions             7.119155   663  12.553544   663  6852.264167   663\n",
       "hibernating         213.885714  1015   1.126108  1015   403.977836  1015\n",
       "loyal_customers      36.287062   742   6.830189   742  2746.067353   742\n",
       "need_attention       53.265700   207   2.449275   207  1060.357005   207\n",
       "new_customers         8.580000    50   1.000000    50   386.199200    50\n",
       "potential_loyalist   18.793037   517   2.017408   517   729.510986   517\n",
       "promising            25.747126    87   1.000000    87   367.086782    87"
      ]
     },
     "execution_count": 16,
     "metadata": {},
     "output_type": "execute_result"
    }
   ],
   "source": [
    "rfm[[\"segment\",\"Recency\",\"Frequency\",\"Monetary\"]]. groupby(\"segment\").agg([\"mean\",\"count\"])"
   ]
  },
  {
   "cell_type": "markdown",
   "id": "bb454df6",
   "metadata": {
    "papermill": {
     "duration": 0.020408,
     "end_time": "2023-11-06T15:48:42.469091",
     "exception": false,
     "start_time": "2023-11-06T15:48:42.448683",
     "status": "completed"
    },
    "tags": []
   },
   "source": [
    "### <p style=\"font-family:JetBrains Mono; font-weight:bold; letter-spacing: 2px; color:#8581B8; font-size:140%; text-align:center;padding: 0px; border-bottom: 3px solid\">RF Table</p>\n",
    "# **<center> <img src=https://i.imgur.com/MYgXofm.png> <img> </center>**"
   ]
  },
  {
   "cell_type": "markdown",
   "id": "9a5d9bdf",
   "metadata": {
    "papermill": {
     "duration": 0.020966,
     "end_time": "2023-11-06T15:48:42.511044",
     "exception": false,
     "start_time": "2023-11-06T15:48:42.490078",
     "status": "completed"
    },
    "tags": []
   },
   "source": [
    "### Lets say we need our Champions id for the new promotions"
   ]
  },
  {
   "cell_type": "code",
   "execution_count": 17,
   "id": "6ac5a7ab",
   "metadata": {
    "execution": {
     "iopub.execute_input": "2023-11-06T15:48:42.561208Z",
     "iopub.status.busy": "2023-11-06T15:48:42.559489Z",
     "iopub.status.idle": "2023-11-06T15:48:42.580451Z",
     "shell.execute_reply": "2023-11-06T15:48:42.578896Z"
    },
    "papermill": {
     "duration": 0.04989,
     "end_time": "2023-11-06T15:48:42.583509",
     "exception": false,
     "start_time": "2023-11-06T15:48:42.533619",
     "status": "completed"
    },
    "tags": []
   },
   "outputs": [
    {
     "data": {
      "text/html": [
       "<div>\n",
       "<style scoped>\n",
       "    .dataframe tbody tr th:only-of-type {\n",
       "        vertical-align: middle;\n",
       "    }\n",
       "\n",
       "    .dataframe tbody tr th {\n",
       "        vertical-align: top;\n",
       "    }\n",
       "\n",
       "    .dataframe thead th {\n",
       "        text-align: right;\n",
       "    }\n",
       "</style>\n",
       "<table border=\"1\" class=\"dataframe\">\n",
       "  <thead>\n",
       "    <tr style=\"text-align: right;\">\n",
       "      <th></th>\n",
       "      <th>Recency</th>\n",
       "      <th>Frequency</th>\n",
       "      <th>Monetary</th>\n",
       "      <th>recency_score</th>\n",
       "      <th>monetary_score</th>\n",
       "      <th>frequency_score</th>\n",
       "      <th>RFM_SCORE</th>\n",
       "      <th>segment</th>\n",
       "    </tr>\n",
       "    <tr>\n",
       "      <th>Customer ID</th>\n",
       "      <th></th>\n",
       "      <th></th>\n",
       "      <th></th>\n",
       "      <th></th>\n",
       "      <th></th>\n",
       "      <th></th>\n",
       "      <th></th>\n",
       "      <th></th>\n",
       "    </tr>\n",
       "  </thead>\n",
       "  <tbody>\n",
       "    <tr>\n",
       "      <th>12360.0</th>\n",
       "      <td>15</td>\n",
       "      <td>5</td>\n",
       "      <td>1590.83</td>\n",
       "      <td>5</td>\n",
       "      <td>4</td>\n",
       "      <td>4</td>\n",
       "      <td>54</td>\n",
       "      <td>champions</td>\n",
       "    </tr>\n",
       "    <tr>\n",
       "      <th>12395.0</th>\n",
       "      <td>7</td>\n",
       "      <td>4</td>\n",
       "      <td>2048.64</td>\n",
       "      <td>5</td>\n",
       "      <td>4</td>\n",
       "      <td>4</td>\n",
       "      <td>54</td>\n",
       "      <td>champions</td>\n",
       "    </tr>\n",
       "    <tr>\n",
       "      <th>12415.0</th>\n",
       "      <td>11</td>\n",
       "      <td>7</td>\n",
       "      <td>19543.84</td>\n",
       "      <td>5</td>\n",
       "      <td>5</td>\n",
       "      <td>5</td>\n",
       "      <td>55</td>\n",
       "      <td>champions</td>\n",
       "    </tr>\n",
       "    <tr>\n",
       "      <th>12429.0</th>\n",
       "      <td>1</td>\n",
       "      <td>5</td>\n",
       "      <td>3735.51</td>\n",
       "      <td>5</td>\n",
       "      <td>5</td>\n",
       "      <td>4</td>\n",
       "      <td>54</td>\n",
       "      <td>champions</td>\n",
       "    </tr>\n",
       "    <tr>\n",
       "      <th>12431.0</th>\n",
       "      <td>9</td>\n",
       "      <td>13</td>\n",
       "      <td>4370.52</td>\n",
       "      <td>5</td>\n",
       "      <td>5</td>\n",
       "      <td>5</td>\n",
       "      <td>55</td>\n",
       "      <td>champions</td>\n",
       "    </tr>\n",
       "  </tbody>\n",
       "</table>\n",
       "</div>"
      ],
      "text/plain": [
       "             Recency  Frequency  Monetary recency_score monetary_score  \\\n",
       "Customer ID                                                              \n",
       "12360.0           15          5   1590.83             5              4   \n",
       "12395.0            7          4   2048.64             5              4   \n",
       "12415.0           11          7  19543.84             5              5   \n",
       "12429.0            1          5   3735.51             5              5   \n",
       "12431.0            9         13   4370.52             5              5   \n",
       "\n",
       "            frequency_score RFM_SCORE    segment  \n",
       "Customer ID                                       \n",
       "12360.0                   4        54  champions  \n",
       "12395.0                   4        54  champions  \n",
       "12415.0                   5        55  champions  \n",
       "12429.0                   4        54  champions  \n",
       "12431.0                   5        55  champions  "
      ]
     },
     "execution_count": 17,
     "metadata": {},
     "output_type": "execute_result"
    }
   ],
   "source": [
    "rfm[rfm[\"segment\"]== \"champions\"].head()"
   ]
  },
  {
   "cell_type": "code",
   "execution_count": 18,
   "id": "ee57ee84",
   "metadata": {
    "execution": {
     "iopub.execute_input": "2023-11-06T15:48:42.629472Z",
     "iopub.status.busy": "2023-11-06T15:48:42.628120Z",
     "iopub.status.idle": "2023-11-06T15:48:42.639733Z",
     "shell.execute_reply": "2023-11-06T15:48:42.638561Z"
    },
    "papermill": {
     "duration": 0.037021,
     "end_time": "2023-11-06T15:48:42.642426",
     "exception": false,
     "start_time": "2023-11-06T15:48:42.605405",
     "status": "completed"
    },
    "tags": []
   },
   "outputs": [
    {
     "data": {
      "text/plain": [
       "Index([12360.0, 12395.0, 12415.0, 12429.0, 12431.0, 12433.0, 12471.0, 12472.0,\n",
       "       12474.0, 12481.0,\n",
       "       ...\n",
       "       18144.0, 18168.0, 18170.0, 18219.0, 18225.0, 18226.0, 18229.0, 18245.0,\n",
       "       18259.0, 18260.0],\n",
       "      dtype='float64', name='Customer ID', length=663)"
      ]
     },
     "execution_count": 18,
     "metadata": {},
     "output_type": "execute_result"
    }
   ],
   "source": [
    "#here is their id's, we can make new promotions for them.\n",
    "rfm[rfm[\"segment\"]== \"champions\"].index"
   ]
  },
  {
   "cell_type": "markdown",
   "id": "65dece68",
   "metadata": {
    "papermill": {
     "duration": 0.020818,
     "end_time": "2023-11-06T15:48:42.684545",
     "exception": false,
     "start_time": "2023-11-06T15:48:42.663727",
     "status": "completed"
    },
    "tags": []
   },
   "source": [
    "# <p style=\"border-radius:10px; border:#DEB887 solid; padding:25px; background-color: #FFFAF0; font-size:100%;color:#52017A;text-align:center;\"> CLTV </p>"
   ]
  },
  {
   "cell_type": "markdown",
   "id": "9bee8ce5",
   "metadata": {
    "papermill": {
     "duration": 0.022325,
     "end_time": "2023-11-06T15:48:42.730576",
     "exception": false,
     "start_time": "2023-11-06T15:48:42.708251",
     "status": "completed"
    },
    "tags": []
   },
   "source": [
    "Customer Lifetime Value (CLTV) is the monetary value that a customer will bring to a company during the entire relationship-communication period established with the company.\n",
    "    \n",
    "\n",
    "CLTV is calculated as follows: CLTV = (customer value / churn rate) x profit margin.\n",
    "\n",
    "Ultimately, when rankings are made based on the calculated CLTV values for each customer and groups are formed by dividing at certain points based on CLTV values, our customers will be segmented.\n"
   ]
  },
  {
   "cell_type": "markdown",
   "id": "95a3dd1d",
   "metadata": {
    "papermill": {
     "duration": 0.021767,
     "end_time": "2023-11-06T15:48:42.775351",
     "exception": false,
     "start_time": "2023-11-06T15:48:42.753584",
     "status": "completed"
    },
    "tags": []
   },
   "source": [
    "<center><span style=\"color:#f7c297;font-family:cursive;font-size:100%\"> -CLTV- </span></center>\n",
    "<center><img src=\"https://i.imgur.com/08XSo1w.png\" width=\"800\" height=\"800\"></center>"
   ]
  },
  {
   "cell_type": "code",
   "execution_count": 19,
   "id": "94f3f81f",
   "metadata": {
    "execution": {
     "iopub.execute_input": "2023-11-06T15:48:42.821540Z",
     "iopub.status.busy": "2023-11-06T15:48:42.821146Z",
     "iopub.status.idle": "2023-11-06T15:48:44.200679Z",
     "shell.execute_reply": "2023-11-06T15:48:44.199276Z"
    },
    "papermill": {
     "duration": 1.406171,
     "end_time": "2023-11-06T15:48:44.203918",
     "exception": false,
     "start_time": "2023-11-06T15:48:42.797747",
     "status": "completed"
    },
    "tags": []
   },
   "outputs": [],
   "source": [
    "from sklearn.preprocessing import MinMaxScaler\n",
    "df = df_.copy()"
   ]
  },
  {
   "cell_type": "code",
   "execution_count": 20,
   "id": "d4f103cb",
   "metadata": {
    "execution": {
     "iopub.execute_input": "2023-11-06T15:48:44.248550Z",
     "iopub.status.busy": "2023-11-06T15:48:44.248136Z",
     "iopub.status.idle": "2023-11-06T15:48:45.649983Z",
     "shell.execute_reply": "2023-11-06T15:48:45.647914Z"
    },
    "papermill": {
     "duration": 1.427486,
     "end_time": "2023-11-06T15:48:45.652912",
     "exception": false,
     "start_time": "2023-11-06T15:48:44.225426",
     "status": "completed"
    },
    "tags": []
   },
   "outputs": [],
   "source": [
    "#preprossesing data\n",
    "df = df[~df[\"Invoice\"].str.contains(\"C\", na=False)]\n",
    "df = df[(df['Quantity'] > 0)]\n",
    "df.dropna(inplace=True)\n",
    "df[\"TotalPrice\"] = df[\"Quantity\"] * df[\"Price\"]"
   ]
  },
  {
   "cell_type": "code",
   "execution_count": 21,
   "id": "b23549ad",
   "metadata": {
    "execution": {
     "iopub.execute_input": "2023-11-06T15:48:45.699272Z",
     "iopub.status.busy": "2023-11-06T15:48:45.698799Z",
     "iopub.status.idle": "2023-11-06T15:48:47.234841Z",
     "shell.execute_reply": "2023-11-06T15:48:47.233503Z"
    },
    "papermill": {
     "duration": 1.56277,
     "end_time": "2023-11-06T15:48:47.238242",
     "exception": false,
     "start_time": "2023-11-06T15:48:45.675472",
     "status": "completed"
    },
    "tags": []
   },
   "outputs": [],
   "source": [
    "#We merged the invoices of IDs that made multiple purchases into a single ID.\n",
    "cltv_c = df.groupby('Customer ID').agg({'Invoice': lambda x: x.nunique(),\n",
    "                                        'Quantity': lambda x: x.sum(),\n",
    "                                        'TotalPrice': lambda x: x.sum()})"
   ]
  },
  {
   "cell_type": "code",
   "execution_count": 22,
   "id": "a8cfefed",
   "metadata": {
    "execution": {
     "iopub.execute_input": "2023-11-06T15:48:47.284242Z",
     "iopub.status.busy": "2023-11-06T15:48:47.283809Z",
     "iopub.status.idle": "2023-11-06T15:48:47.289745Z",
     "shell.execute_reply": "2023-11-06T15:48:47.288241Z"
    },
    "papermill": {
     "duration": 0.032445,
     "end_time": "2023-11-06T15:48:47.292463",
     "exception": false,
     "start_time": "2023-11-06T15:48:47.260018",
     "status": "completed"
    },
    "tags": []
   },
   "outputs": [],
   "source": [
    "#1. total transaction - the unique invoice count variable\n",
    "#2. total units purchased\n",
    "#3. total account value\n",
    "cltv_c.columns = ['total_transaction','total_unit','total_price']"
   ]
  },
  {
   "cell_type": "code",
   "execution_count": 23,
   "id": "408aaeae",
   "metadata": {
    "execution": {
     "iopub.execute_input": "2023-11-06T15:48:47.336016Z",
     "iopub.status.busy": "2023-11-06T15:48:47.335583Z",
     "iopub.status.idle": "2023-11-06T15:48:47.343408Z",
     "shell.execute_reply": "2023-11-06T15:48:47.341521Z"
    },
    "papermill": {
     "duration": 0.033037,
     "end_time": "2023-11-06T15:48:47.346377",
     "exception": false,
     "start_time": "2023-11-06T15:48:47.313340",
     "status": "completed"
    },
    "tags": []
   },
   "outputs": [],
   "source": [
    "#Average Order Value ( average_order_value = total_price/ total_transaction)\n",
    "cltv_c[\"average_order_value\"] = cltv_c[\"total_price\"] / cltv_c[\"total_transaction\"]"
   ]
  },
  {
   "cell_type": "code",
   "execution_count": 24,
   "id": "c2923cd4",
   "metadata": {
    "execution": {
     "iopub.execute_input": "2023-11-06T15:48:47.391692Z",
     "iopub.status.busy": "2023-11-06T15:48:47.391269Z",
     "iopub.status.idle": "2023-11-06T15:48:47.398083Z",
     "shell.execute_reply": "2023-11-06T15:48:47.396647Z"
    },
    "papermill": {
     "duration": 0.032802,
     "end_time": "2023-11-06T15:48:47.400629",
     "exception": false,
     "start_time": "2023-11-06T15:48:47.367827",
     "status": "completed"
    },
    "tags": []
   },
   "outputs": [],
   "source": [
    "# Purchase Frequency (total_transaction / total_number_of_customers)\n",
    "cltv_c[\"purchase_frequency\"] = cltv_c[\"total_transaction\"] / cltv_c.shape[0]"
   ]
  },
  {
   "cell_type": "code",
   "execution_count": 25,
   "id": "4e71473a",
   "metadata": {
    "execution": {
     "iopub.execute_input": "2023-11-06T15:48:47.444352Z",
     "iopub.status.busy": "2023-11-06T15:48:47.443909Z",
     "iopub.status.idle": "2023-11-06T15:48:47.452905Z",
     "shell.execute_reply": "2023-11-06T15:48:47.451206Z"
    },
    "papermill": {
     "duration": 0.034411,
     "end_time": "2023-11-06T15:48:47.455728",
     "exception": false,
     "start_time": "2023-11-06T15:48:47.421317",
     "status": "completed"
    },
    "tags": []
   },
   "outputs": [],
   "source": [
    "#4. Repeat RAte and Churn RAte  ( birden fazla alışveriş yapan müşteri sayısı / tüm müşteriler)\n",
    "repeat_rate = cltv_c[cltv_c[\"total_transaction\"]>1].shape[0] / cltv_c.shape[0]\n",
    "churn_rate = 1 - repeat_rate"
   ]
  },
  {
   "cell_type": "code",
   "execution_count": 26,
   "id": "9ed03321",
   "metadata": {
    "execution": {
     "iopub.execute_input": "2023-11-06T15:48:47.500394Z",
     "iopub.status.busy": "2023-11-06T15:48:47.499964Z",
     "iopub.status.idle": "2023-11-06T15:48:47.505647Z",
     "shell.execute_reply": "2023-11-06T15:48:47.504638Z"
    },
    "papermill": {
     "duration": 0.030614,
     "end_time": "2023-11-06T15:48:47.508338",
     "exception": false,
     "start_time": "2023-11-06T15:48:47.477724",
     "status": "completed"
    },
    "tags": []
   },
   "outputs": [],
   "source": [
    "# Profit Margin (profit_margin = total_price * 0.10)\n",
    "cltv_c['profit_margin']= cltv_c['total_price'] * 0.10"
   ]
  },
  {
   "cell_type": "code",
   "execution_count": 27,
   "id": "a1b306af",
   "metadata": {
    "execution": {
     "iopub.execute_input": "2023-11-06T15:48:47.551290Z",
     "iopub.status.busy": "2023-11-06T15:48:47.550894Z",
     "iopub.status.idle": "2023-11-06T15:48:47.557432Z",
     "shell.execute_reply": "2023-11-06T15:48:47.556284Z"
    },
    "papermill": {
     "duration": 0.030834,
     "end_time": "2023-11-06T15:48:47.559780",
     "exception": false,
     "start_time": "2023-11-06T15:48:47.528946",
     "status": "completed"
    },
    "tags": []
   },
   "outputs": [],
   "source": [
    "# Customer Value ( customer_value = average_order_value * purchase_frequency)\n",
    "cltv_c['customer_value'] = cltv_c['average_order_value'] * cltv_c['purchase_frequency']"
   ]
  },
  {
   "cell_type": "code",
   "execution_count": 28,
   "id": "44fd2b02",
   "metadata": {
    "execution": {
     "iopub.execute_input": "2023-11-06T15:48:47.605394Z",
     "iopub.status.busy": "2023-11-06T15:48:47.605014Z",
     "iopub.status.idle": "2023-11-06T15:48:47.626623Z",
     "shell.execute_reply": "2023-11-06T15:48:47.625404Z"
    },
    "papermill": {
     "duration": 0.046831,
     "end_time": "2023-11-06T15:48:47.629176",
     "exception": false,
     "start_time": "2023-11-06T15:48:47.582345",
     "status": "completed"
    },
    "tags": []
   },
   "outputs": [
    {
     "data": {
      "text/html": [
       "<div>\n",
       "<style scoped>\n",
       "    .dataframe tbody tr th:only-of-type {\n",
       "        vertical-align: middle;\n",
       "    }\n",
       "\n",
       "    .dataframe tbody tr th {\n",
       "        vertical-align: top;\n",
       "    }\n",
       "\n",
       "    .dataframe thead th {\n",
       "        text-align: right;\n",
       "    }\n",
       "</style>\n",
       "<table border=\"1\" class=\"dataframe\">\n",
       "  <thead>\n",
       "    <tr style=\"text-align: right;\">\n",
       "      <th></th>\n",
       "      <th>total_transaction</th>\n",
       "      <th>total_unit</th>\n",
       "      <th>total_price</th>\n",
       "      <th>average_order_value</th>\n",
       "      <th>purchase_frequency</th>\n",
       "      <th>profit_margin</th>\n",
       "      <th>customer_value</th>\n",
       "      <th>cltv</th>\n",
       "    </tr>\n",
       "    <tr>\n",
       "      <th>Customer ID</th>\n",
       "      <th></th>\n",
       "      <th></th>\n",
       "      <th></th>\n",
       "      <th></th>\n",
       "      <th></th>\n",
       "      <th></th>\n",
       "      <th></th>\n",
       "      <th></th>\n",
       "    </tr>\n",
       "  </thead>\n",
       "  <tbody>\n",
       "    <tr>\n",
       "      <th>18102.0</th>\n",
       "      <td>89</td>\n",
       "      <td>124216</td>\n",
       "      <td>349164.35</td>\n",
       "      <td>3923.194944</td>\n",
       "      <td>0.020631</td>\n",
       "      <td>34916.435</td>\n",
       "      <td>80.937494</td>\n",
       "      <td>8.579574e+06</td>\n",
       "    </tr>\n",
       "    <tr>\n",
       "      <th>14646.0</th>\n",
       "      <td>78</td>\n",
       "      <td>170342</td>\n",
       "      <td>248396.50</td>\n",
       "      <td>3184.570513</td>\n",
       "      <td>0.018081</td>\n",
       "      <td>24839.650</td>\n",
       "      <td>57.579161</td>\n",
       "      <td>4.342070e+06</td>\n",
       "    </tr>\n",
       "    <tr>\n",
       "      <th>14156.0</th>\n",
       "      <td>102</td>\n",
       "      <td>108107</td>\n",
       "      <td>196566.74</td>\n",
       "      <td>1927.124902</td>\n",
       "      <td>0.023644</td>\n",
       "      <td>19656.674</td>\n",
       "      <td>45.564845</td>\n",
       "      <td>2.719105e+06</td>\n",
       "    </tr>\n",
       "    <tr>\n",
       "      <th>14911.0</th>\n",
       "      <td>205</td>\n",
       "      <td>69722</td>\n",
       "      <td>152147.57</td>\n",
       "      <td>742.183268</td>\n",
       "      <td>0.047520</td>\n",
       "      <td>15214.757</td>\n",
       "      <td>35.268329</td>\n",
       "      <td>1.629056e+06</td>\n",
       "    </tr>\n",
       "    <tr>\n",
       "      <th>13694.0</th>\n",
       "      <td>94</td>\n",
       "      <td>125893</td>\n",
       "      <td>131443.19</td>\n",
       "      <td>1398.331809</td>\n",
       "      <td>0.021790</td>\n",
       "      <td>13144.319</td>\n",
       "      <td>30.468982</td>\n",
       "      <td>1.215856e+06</td>\n",
       "    </tr>\n",
       "  </tbody>\n",
       "</table>\n",
       "</div>"
      ],
      "text/plain": [
       "             total_transaction  total_unit  total_price  average_order_value  \\\n",
       "Customer ID                                                                    \n",
       "18102.0                     89      124216    349164.35          3923.194944   \n",
       "14646.0                     78      170342    248396.50          3184.570513   \n",
       "14156.0                    102      108107    196566.74          1927.124902   \n",
       "14911.0                    205       69722    152147.57           742.183268   \n",
       "13694.0                     94      125893    131443.19          1398.331809   \n",
       "\n",
       "             purchase_frequency  profit_margin  customer_value          cltv  \n",
       "Customer ID                                                                   \n",
       "18102.0                0.020631      34916.435       80.937494  8.579574e+06  \n",
       "14646.0                0.018081      24839.650       57.579161  4.342070e+06  \n",
       "14156.0                0.023644      19656.674       45.564845  2.719105e+06  \n",
       "14911.0                0.047520      15214.757       35.268329  1.629056e+06  \n",
       "13694.0                0.021790      13144.319       30.468982  1.215856e+06  "
      ]
     },
     "execution_count": 28,
     "metadata": {},
     "output_type": "execute_result"
    }
   ],
   "source": [
    "# Customer Lifetime Value (CLTV = (customer_value / churn_rate) x profit_margin)\n",
    "cltv_c[\"cltv\"] = (cltv_c[\"customer_value\"]/ churn_rate) * cltv_c[\"profit_margin\"]\n",
    "cltv_c.sort_values(by=\"cltv\",ascending=False ).head()"
   ]
  },
  {
   "cell_type": "code",
   "execution_count": 29,
   "id": "ecd33616",
   "metadata": {
    "execution": {
     "iopub.execute_input": "2023-11-06T15:48:47.673885Z",
     "iopub.status.busy": "2023-11-06T15:48:47.673438Z",
     "iopub.status.idle": "2023-11-06T15:48:47.726814Z",
     "shell.execute_reply": "2023-11-06T15:48:47.725375Z"
    },
    "papermill": {
     "duration": 0.079769,
     "end_time": "2023-11-06T15:48:47.729610",
     "exception": false,
     "start_time": "2023-11-06T15:48:47.649841",
     "status": "completed"
    },
    "tags": []
   },
   "outputs": [
    {
     "data": {
      "text/html": [
       "<div>\n",
       "<style scoped>\n",
       "    .dataframe tbody tr th:only-of-type {\n",
       "        vertical-align: middle;\n",
       "    }\n",
       "\n",
       "    .dataframe tbody tr th {\n",
       "        vertical-align: top;\n",
       "    }\n",
       "\n",
       "    .dataframe thead tr th {\n",
       "        text-align: left;\n",
       "    }\n",
       "\n",
       "    .dataframe thead tr:last-of-type th {\n",
       "        text-align: right;\n",
       "    }\n",
       "</style>\n",
       "<table border=\"1\" class=\"dataframe\">\n",
       "  <thead>\n",
       "    <tr>\n",
       "      <th></th>\n",
       "      <th colspan=\"3\" halign=\"left\">total_transaction</th>\n",
       "      <th colspan=\"3\" halign=\"left\">total_unit</th>\n",
       "      <th colspan=\"3\" halign=\"left\">total_price</th>\n",
       "      <th>average_order_value</th>\n",
       "      <th>...</th>\n",
       "      <th>purchase_frequency</th>\n",
       "      <th colspan=\"3\" halign=\"left\">profit_margin</th>\n",
       "      <th colspan=\"3\" halign=\"left\">customer_value</th>\n",
       "      <th colspan=\"3\" halign=\"left\">cltv</th>\n",
       "    </tr>\n",
       "    <tr>\n",
       "      <th></th>\n",
       "      <th>mean</th>\n",
       "      <th>count</th>\n",
       "      <th>sum</th>\n",
       "      <th>mean</th>\n",
       "      <th>count</th>\n",
       "      <th>sum</th>\n",
       "      <th>mean</th>\n",
       "      <th>count</th>\n",
       "      <th>sum</th>\n",
       "      <th>mean</th>\n",
       "      <th>...</th>\n",
       "      <th>sum</th>\n",
       "      <th>mean</th>\n",
       "      <th>count</th>\n",
       "      <th>sum</th>\n",
       "      <th>mean</th>\n",
       "      <th>count</th>\n",
       "      <th>sum</th>\n",
       "      <th>mean</th>\n",
       "      <th>count</th>\n",
       "      <th>sum</th>\n",
       "    </tr>\n",
       "    <tr>\n",
       "      <th>segment</th>\n",
       "      <th></th>\n",
       "      <th></th>\n",
       "      <th></th>\n",
       "      <th></th>\n",
       "      <th></th>\n",
       "      <th></th>\n",
       "      <th></th>\n",
       "      <th></th>\n",
       "      <th></th>\n",
       "      <th></th>\n",
       "      <th></th>\n",
       "      <th></th>\n",
       "      <th></th>\n",
       "      <th></th>\n",
       "      <th></th>\n",
       "      <th></th>\n",
       "      <th></th>\n",
       "      <th></th>\n",
       "      <th></th>\n",
       "      <th></th>\n",
       "      <th></th>\n",
       "    </tr>\n",
       "  </thead>\n",
       "  <tbody>\n",
       "    <tr>\n",
       "      <th>D</th>\n",
       "      <td>1.228916</td>\n",
       "      <td>1079</td>\n",
       "      <td>1326</td>\n",
       "      <td>109.004634</td>\n",
       "      <td>1079</td>\n",
       "      <td>117616</td>\n",
       "      <td>178.188258</td>\n",
       "      <td>1079</td>\n",
       "      <td>192265.130</td>\n",
       "      <td>157.372999</td>\n",
       "      <td>...</td>\n",
       "      <td>0.307371</td>\n",
       "      <td>17.818826</td>\n",
       "      <td>1079</td>\n",
       "      <td>19226.5130</td>\n",
       "      <td>0.041305</td>\n",
       "      <td>1079</td>\n",
       "      <td>44.567717</td>\n",
       "      <td>2.640712</td>\n",
       "      <td>1079</td>\n",
       "      <td>2.849328e+03</td>\n",
       "    </tr>\n",
       "    <tr>\n",
       "      <th>C</th>\n",
       "      <td>2.003711</td>\n",
       "      <td>1078</td>\n",
       "      <td>2160</td>\n",
       "      <td>283.056586</td>\n",
       "      <td>1078</td>\n",
       "      <td>305135</td>\n",
       "      <td>475.896524</td>\n",
       "      <td>1078</td>\n",
       "      <td>513016.453</td>\n",
       "      <td>294.454875</td>\n",
       "      <td>...</td>\n",
       "      <td>0.500695</td>\n",
       "      <td>47.589652</td>\n",
       "      <td>1078</td>\n",
       "      <td>51301.6453</td>\n",
       "      <td>0.110314</td>\n",
       "      <td>1078</td>\n",
       "      <td>118.918974</td>\n",
       "      <td>16.868519</td>\n",
       "      <td>1078</td>\n",
       "      <td>1.818426e+04</td>\n",
       "    </tr>\n",
       "    <tr>\n",
       "      <th>B</th>\n",
       "      <td>3.769017</td>\n",
       "      <td>1078</td>\n",
       "      <td>4063</td>\n",
       "      <td>680.158627</td>\n",
       "      <td>1078</td>\n",
       "      <td>733211</td>\n",
       "      <td>1131.359184</td>\n",
       "      <td>1078</td>\n",
       "      <td>1219605.200</td>\n",
       "      <td>389.728315</td>\n",
       "      <td>...</td>\n",
       "      <td>0.941817</td>\n",
       "      <td>113.135918</td>\n",
       "      <td>1078</td>\n",
       "      <td>121960.5200</td>\n",
       "      <td>0.262253</td>\n",
       "      <td>1078</td>\n",
       "      <td>282.708669</td>\n",
       "      <td>96.057387</td>\n",
       "      <td>1078</td>\n",
       "      <td>1.035499e+05</td>\n",
       "    </tr>\n",
       "    <tr>\n",
       "      <th>A</th>\n",
       "      <td>10.811863</td>\n",
       "      <td>1079</td>\n",
       "      <td>11666</td>\n",
       "      <td>4062.337349</td>\n",
       "      <td>1079</td>\n",
       "      <td>4383262</td>\n",
       "      <td>6401.405460</td>\n",
       "      <td>1079</td>\n",
       "      <td>6907116.491</td>\n",
       "      <td>670.965916</td>\n",
       "      <td>...</td>\n",
       "      <td>2.704219</td>\n",
       "      <td>640.140546</td>\n",
       "      <td>1079</td>\n",
       "      <td>690711.6491</td>\n",
       "      <td>1.483868</td>\n",
       "      <td>1079</td>\n",
       "      <td>1601.093299</td>\n",
       "      <td>23408.058426</td>\n",
       "      <td>1079</td>\n",
       "      <td>2.525730e+07</td>\n",
       "    </tr>\n",
       "  </tbody>\n",
       "</table>\n",
       "<p>4 rows × 24 columns</p>\n",
       "</div>"
      ],
      "text/plain": [
       "        total_transaction                total_unit                 \\\n",
       "                     mean count    sum         mean count      sum   \n",
       "segment                                                              \n",
       "D                1.228916  1079   1326   109.004634  1079   117616   \n",
       "C                2.003711  1078   2160   283.056586  1078   305135   \n",
       "B                3.769017  1078   4063   680.158627  1078   733211   \n",
       "A               10.811863  1079  11666  4062.337349  1079  4383262   \n",
       "\n",
       "         total_price                    average_order_value  ...  \\\n",
       "                mean count          sum                mean  ...   \n",
       "segment                                                      ...   \n",
       "D         178.188258  1079   192265.130          157.372999  ...   \n",
       "C         475.896524  1078   513016.453          294.454875  ...   \n",
       "B        1131.359184  1078  1219605.200          389.728315  ...   \n",
       "A        6401.405460  1079  6907116.491          670.965916  ...   \n",
       "\n",
       "        purchase_frequency profit_margin                    customer_value  \\\n",
       "                       sum          mean count          sum           mean   \n",
       "segment                                                                      \n",
       "D                 0.307371     17.818826  1079   19226.5130       0.041305   \n",
       "C                 0.500695     47.589652  1078   51301.6453       0.110314   \n",
       "B                 0.941817    113.135918  1078  121960.5200       0.262253   \n",
       "A                 2.704219    640.140546  1079  690711.6491       1.483868   \n",
       "\n",
       "                                    cltv                      \n",
       "        count          sum          mean count           sum  \n",
       "segment                                                       \n",
       "D        1079    44.567717      2.640712  1079  2.849328e+03  \n",
       "C        1078   118.918974     16.868519  1078  1.818426e+04  \n",
       "B        1078   282.708669     96.057387  1078  1.035499e+05  \n",
       "A        1079  1601.093299  23408.058426  1079  2.525730e+07  \n",
       "\n",
       "[4 rows x 24 columns]"
      ]
     },
     "execution_count": 29,
     "metadata": {},
     "output_type": "execute_result"
    }
   ],
   "source": [
    "# Making Segments\n",
    "cltv_c[\"segment\"] = pd.qcut(cltv_c[\"cltv\"], 4, labels=[\"D\",\"C\",\"B\",\"A\"])\n",
    "\n",
    "cltv_c.groupby(\"segment\").agg({\"count\",\"mean\",\"sum\"})"
   ]
  },
  {
   "cell_type": "markdown",
   "id": "f96cf3ba",
   "metadata": {
    "papermill": {
     "duration": 0.026113,
     "end_time": "2023-11-06T15:48:47.779322",
     "exception": false,
     "start_time": "2023-11-06T15:48:47.753209",
     "status": "completed"
    },
    "tags": []
   },
   "source": [
    "# <p style=\"border-radius:10px; border:#DEB887 solid; padding:25px; background-color: #FFFAF0; font-size:100%;color:#52017A;text-align:center;\"> CLTVP </p>"
   ]
  },
  {
   "cell_type": "markdown",
   "id": "b655d0f6",
   "metadata": {
    "papermill": {
     "duration": 0.023038,
     "end_time": "2023-11-06T15:48:47.823810",
     "exception": false,
     "start_time": "2023-11-06T15:48:47.800772",
     "status": "completed"
    },
    "tags": []
   },
   "source": [
    "* We will model the purchase behavior of the entire audience with a probability distribution. Then, using this probability distribution, we will estimate the expected purchase/transaction numbers for each individual in a personalized, conditional manner.\n",
    "\n",
    "* We will probabilistically model the average profit value of our entire population. Then, using this model, when we input individual characteristics, we will calculate the conditional expected average profits for each individual, informed by the distribution of the main population.\n",
    "    \n",
    "\n",
    "**CLTV =  BG/NBD model   *  Gamma gamma submodel**\n",
    "    \n",
    "**BG/NDB model**\n",
    "\n",
    "As long as a customer is alive, the number of transactions that the customer will perform within a certain time period follows a Poisson distribution with the transaction rate parameter. In simpler terms, a customer will continue to make random purchases around their transaction rate as long as they are alive.\n",
    "\n",
    "**Gamma Gamma Submodel**\n",
    "\n",
    "It is used to estimate how much average profit a customer can generate per transaction. The monetary value of a customer's transactions is randomly distributed around the average transaction values. The average transaction value may vary over time but remains constant for a single user. The average transaction value follows a gamma distribution across all customers."
   ]
  },
  {
   "cell_type": "code",
   "execution_count": 30,
   "id": "9ab8c0ed",
   "metadata": {
    "collapsed": true,
    "execution": {
     "iopub.execute_input": "2023-11-06T15:48:47.869008Z",
     "iopub.status.busy": "2023-11-06T15:48:47.868158Z",
     "iopub.status.idle": "2023-11-06T15:49:05.162031Z",
     "shell.execute_reply": "2023-11-06T15:49:05.159740Z"
    },
    "jupyter": {
     "outputs_hidden": true
    },
    "papermill": {
     "duration": 17.320557,
     "end_time": "2023-11-06T15:49:05.165761",
     "exception": false,
     "start_time": "2023-11-06T15:48:47.845204",
     "status": "completed"
    },
    "tags": []
   },
   "outputs": [
    {
     "name": "stdout",
     "output_type": "stream",
     "text": [
      "Collecting lifetimes\r\n",
      "  Downloading Lifetimes-0.11.3-py3-none-any.whl (584 kB)\r\n",
      "\u001b[2K     \u001b[90m━━━━━━━━━━━━━━━━━━━━━━━━━━━━━━━━━━━━━━━\u001b[0m \u001b[32m584.2/584.2 kB\u001b[0m \u001b[31m8.5 MB/s\u001b[0m eta \u001b[36m0:00:00\u001b[0m\r\n",
      "\u001b[?25hRequirement already satisfied: numpy>=1.10.0 in /opt/conda/lib/python3.10/site-packages (from lifetimes) (1.23.5)\r\n",
      "Requirement already satisfied: scipy>=1.0.0 in /opt/conda/lib/python3.10/site-packages (from lifetimes) (1.11.2)\r\n",
      "Requirement already satisfied: pandas>=0.24.0 in /opt/conda/lib/python3.10/site-packages (from lifetimes) (2.0.3)\r\n",
      "Collecting autograd>=1.2.0 (from lifetimes)\r\n",
      "  Downloading autograd-1.6.2-py3-none-any.whl (49 kB)\r\n",
      "\u001b[2K     \u001b[90m━━━━━━━━━━━━━━━━━━━━━━━━━━━━━━━━━━━━━━━━\u001b[0m \u001b[32m49.3/49.3 kB\u001b[0m \u001b[31m3.6 MB/s\u001b[0m eta \u001b[36m0:00:00\u001b[0m\r\n",
      "\u001b[?25hRequirement already satisfied: dill>=0.2.6 in /opt/conda/lib/python3.10/site-packages (from lifetimes) (0.3.7)\r\n",
      "Requirement already satisfied: future>=0.15.2 in /opt/conda/lib/python3.10/site-packages (from autograd>=1.2.0->lifetimes) (0.18.3)\r\n",
      "Requirement already satisfied: python-dateutil>=2.8.2 in /opt/conda/lib/python3.10/site-packages (from pandas>=0.24.0->lifetimes) (2.8.2)\r\n",
      "Requirement already satisfied: pytz>=2020.1 in /opt/conda/lib/python3.10/site-packages (from pandas>=0.24.0->lifetimes) (2023.3)\r\n",
      "Requirement already satisfied: tzdata>=2022.1 in /opt/conda/lib/python3.10/site-packages (from pandas>=0.24.0->lifetimes) (2023.3)\r\n",
      "Requirement already satisfied: six>=1.5 in /opt/conda/lib/python3.10/site-packages (from python-dateutil>=2.8.2->pandas>=0.24.0->lifetimes) (1.16.0)\r\n",
      "Installing collected packages: autograd, lifetimes\r\n",
      "Successfully installed autograd-1.6.2 lifetimes-0.11.3\r\n",
      "Note: you may need to restart the kernel to use updated packages.\n"
     ]
    }
   ],
   "source": [
    "pip install lifetimes"
   ]
  },
  {
   "cell_type": "code",
   "execution_count": 31,
   "id": "74bb15a0",
   "metadata": {
    "execution": {
     "iopub.execute_input": "2023-11-06T15:49:05.216693Z",
     "iopub.status.busy": "2023-11-06T15:49:05.216270Z",
     "iopub.status.idle": "2023-11-06T15:49:05.300320Z",
     "shell.execute_reply": "2023-11-06T15:49:05.299170Z"
    },
    "papermill": {
     "duration": 0.111468,
     "end_time": "2023-11-06T15:49:05.303284",
     "exception": false,
     "start_time": "2023-11-06T15:49:05.191816",
     "status": "completed"
    },
    "tags": []
   },
   "outputs": [],
   "source": [
    "import datetime as dt\n",
    "import matplotlib.pyplot as plt\n",
    "import pandas as pd\n",
    "from lifetimes import BetaGeoFitter\n",
    "from lifetimes import GammaGammaFitter\n",
    "from lifetimes.plotting import plot_period_transactions\n",
    "from sklearn.preprocessing import MinMaxScaler"
   ]
  },
  {
   "cell_type": "code",
   "execution_count": 32,
   "id": "78f8a41b",
   "metadata": {
    "execution": {
     "iopub.execute_input": "2023-11-06T15:49:05.353763Z",
     "iopub.status.busy": "2023-11-06T15:49:05.352880Z",
     "iopub.status.idle": "2023-11-06T15:49:05.427015Z",
     "shell.execute_reply": "2023-11-06T15:49:05.425125Z"
    },
    "papermill": {
     "duration": 0.103831,
     "end_time": "2023-11-06T15:49:05.430556",
     "exception": false,
     "start_time": "2023-11-06T15:49:05.326725",
     "status": "completed"
    },
    "tags": []
   },
   "outputs": [],
   "source": [
    "df = df_.copy()"
   ]
  },
  {
   "cell_type": "code",
   "execution_count": 33,
   "id": "4a7e2533",
   "metadata": {
    "execution": {
     "iopub.execute_input": "2023-11-06T15:49:05.480127Z",
     "iopub.status.busy": "2023-11-06T15:49:05.479667Z",
     "iopub.status.idle": "2023-11-06T15:49:05.488207Z",
     "shell.execute_reply": "2023-11-06T15:49:05.486757Z"
    },
    "papermill": {
     "duration": 0.037127,
     "end_time": "2023-11-06T15:49:05.491188",
     "exception": false,
     "start_time": "2023-11-06T15:49:05.454061",
     "status": "completed"
    },
    "tags": []
   },
   "outputs": [],
   "source": [
    "#outlier cleaning functions\n",
    "def outlier_thresholds(dataframe,variable):\n",
    "    quartile1 = dataframe[variable].quantile(0.01)\n",
    "    quartile3 = dataframe[variable].quantile(0.99)\n",
    "    interquantile_range = quartile3 - quartile1\n",
    "    up_limit = quartile3 +1.5 * interquantile_range\n",
    "    low_limit= quartile1 - 1.5 * interquantile_range\n",
    "    return low_limit, up_limit\n",
    "\n",
    "def replace_with_thresholds(dataframe, variable):\n",
    "    low_limit, up_limit = outlier_thresholds(dataframe,variable)\n",
    "    #dataframe.loc[(dataframe[variable] < low_limit), variable] = low_limit\n",
    "    dataframe.loc[(dataframe[variable] > up_limit), variable]  = up_limit"
   ]
  },
  {
   "cell_type": "code",
   "execution_count": 34,
   "id": "19a882a2",
   "metadata": {
    "execution": {
     "iopub.execute_input": "2023-11-06T15:49:05.540048Z",
     "iopub.status.busy": "2023-11-06T15:49:05.539637Z",
     "iopub.status.idle": "2023-11-06T15:49:06.808228Z",
     "shell.execute_reply": "2023-11-06T15:49:06.806946Z"
    },
    "papermill": {
     "duration": 1.296357,
     "end_time": "2023-11-06T15:49:06.811157",
     "exception": false,
     "start_time": "2023-11-06T15:49:05.514800",
     "status": "completed"
    },
    "tags": []
   },
   "outputs": [],
   "source": [
    "df.dropna(inplace=True)\n",
    "df = df[~df[\"Invoice\"].str.contains(\"C\", na=False)]\n",
    "df = df[df[\"Quantity\"]> 0]\n",
    "df = df[df[\"Price\"]> 0]\n",
    "replace_with_thresholds(df, \"Quantity\")\n",
    "replace_with_thresholds(df, \"Price\")"
   ]
  },
  {
   "cell_type": "code",
   "execution_count": 35,
   "id": "8500e195",
   "metadata": {
    "execution": {
     "iopub.execute_input": "2023-11-06T15:49:06.859457Z",
     "iopub.status.busy": "2023-11-06T15:49:06.859067Z",
     "iopub.status.idle": "2023-11-06T15:49:06.866859Z",
     "shell.execute_reply": "2023-11-06T15:49:06.865972Z"
    },
    "papermill": {
     "duration": 0.035876,
     "end_time": "2023-11-06T15:49:06.869357",
     "exception": false,
     "start_time": "2023-11-06T15:49:06.833481",
     "status": "completed"
    },
    "tags": []
   },
   "outputs": [],
   "source": [
    "df[\"TotalPrice\"] = df[\"Quantity\"] * df[\"Price\"]\n",
    "today_date = dt.datetime(2011, 12, 11)"
   ]
  },
  {
   "cell_type": "code",
   "execution_count": 36,
   "id": "f20e8e5f",
   "metadata": {
    "execution": {
     "iopub.execute_input": "2023-11-06T15:49:06.917340Z",
     "iopub.status.busy": "2023-11-06T15:49:06.916832Z",
     "iopub.status.idle": "2023-11-06T15:49:09.711890Z",
     "shell.execute_reply": "2023-11-06T15:49:09.710304Z"
    },
    "papermill": {
     "duration": 2.823857,
     "end_time": "2023-11-06T15:49:09.715420",
     "exception": false,
     "start_time": "2023-11-06T15:49:06.891563",
     "status": "completed"
    },
    "tags": []
   },
   "outputs": [],
   "source": [
    "#Preparing the Lifetime Data Structure\n",
    "\n",
    "#recency: time since the last purchase. Weekly.\n",
    "#T: Customer's age. Weekly. (how long ago the first purchase was made from the analysis date)\n",
    "#frequency: total number of repeated purchases (frequency > 1)\n",
    "#monetary_value: average earnings per purchase\n",
    "\n",
    "cltv_df = df.groupby('Customer ID').agg({'InvoiceDate': [lambda x: (x.max() - x.min()).days,\n",
    "                                                         lambda x: (today_date - x.min()).days],\n",
    "                                         'Invoice': lambda x: x.nunique(),\n",
    "                                         'TotalPrice': lambda x: x.sum()})"
   ]
  },
  {
   "cell_type": "code",
   "execution_count": 37,
   "id": "3d14108a",
   "metadata": {
    "execution": {
     "iopub.execute_input": "2023-11-06T15:49:09.768554Z",
     "iopub.status.busy": "2023-11-06T15:49:09.767668Z",
     "iopub.status.idle": "2023-11-06T15:49:09.779115Z",
     "shell.execute_reply": "2023-11-06T15:49:09.777204Z"
    },
    "papermill": {
     "duration": 0.042274,
     "end_time": "2023-11-06T15:49:09.782529",
     "exception": false,
     "start_time": "2023-11-06T15:49:09.740255",
     "status": "completed"
    },
    "tags": []
   },
   "outputs": [],
   "source": [
    "cltv_df.columns = cltv_df.columns.droplevel(0)\n",
    "cltv_df.columns = [\"recency\", \"T\", \"frequency\",\"monetary\"]\n",
    "cltv_df[\"monetary\"] = cltv_df[\"monetary\"] / cltv_df[\"frequency\"]\n",
    "cltv_df = cltv_df[(cltv_df['frequency'] > 1)]\n",
    "cltv_df[\"recency\"] = cltv_df[\"recency\"] / 7\n",
    "cltv_df[\"T\"] = cltv_df[\"T\"] / 7"
   ]
  },
  {
   "cell_type": "code",
   "execution_count": 38,
   "id": "228a8aea",
   "metadata": {
    "execution": {
     "iopub.execute_input": "2023-11-06T15:49:09.831633Z",
     "iopub.status.busy": "2023-11-06T15:49:09.831168Z",
     "iopub.status.idle": "2023-11-06T15:49:09.997269Z",
     "shell.execute_reply": "2023-11-06T15:49:09.995763Z"
    },
    "papermill": {
     "duration": 0.196095,
     "end_time": "2023-11-06T15:49:10.001941",
     "exception": false,
     "start_time": "2023-11-06T15:49:09.805846",
     "status": "completed"
    },
    "tags": []
   },
   "outputs": [
    {
     "data": {
      "text/plain": [
       "<lifetimes.BetaGeoFitter: fitted with 2893 subjects, a: 1.93, alpha: 9.47, b: 6.27, r: 2.22>"
      ]
     },
     "execution_count": 38,
     "metadata": {},
     "output_type": "execute_result"
    }
   ],
   "source": [
    "#Expected Number of Transaction with the BG-NBD Model\n",
    "bgf = BetaGeoFitter(penalizer_coef=0.001)\n",
    "\n",
    "bgf.fit(cltv_df['frequency'],\n",
    "        cltv_df['recency'],\n",
    "        cltv_df['T'])"
   ]
  },
  {
   "cell_type": "code",
   "execution_count": 39,
   "id": "06faf99d",
   "metadata": {
    "execution": {
     "iopub.execute_input": "2023-11-06T15:49:10.101433Z",
     "iopub.status.busy": "2023-11-06T15:49:10.100663Z",
     "iopub.status.idle": "2023-11-06T15:49:10.121110Z",
     "shell.execute_reply": "2023-11-06T15:49:10.120132Z"
    },
    "papermill": {
     "duration": 0.074211,
     "end_time": "2023-11-06T15:49:10.123926",
     "exception": false,
     "start_time": "2023-11-06T15:49:10.049715",
     "status": "completed"
    },
    "tags": []
   },
   "outputs": [],
   "source": [
    "#weekly purchase expected\n",
    "cltv_df[\"expected_purc_1_week\"]= bgf.predict(1,\n",
    "                                                cltv_df['frequency'],\n",
    "                                                cltv_df['recency'],\n",
    "                                                cltv_df['T']).sort_values(ascending=False)"
   ]
  },
  {
   "cell_type": "code",
   "execution_count": 40,
   "id": "338dd561",
   "metadata": {
    "execution": {
     "iopub.execute_input": "2023-11-06T15:49:10.174127Z",
     "iopub.status.busy": "2023-11-06T15:49:10.173655Z",
     "iopub.status.idle": "2023-11-06T15:49:10.192136Z",
     "shell.execute_reply": "2023-11-06T15:49:10.190819Z"
    },
    "papermill": {
     "duration": 0.047657,
     "end_time": "2023-11-06T15:49:10.195501",
     "exception": false,
     "start_time": "2023-11-06T15:49:10.147844",
     "status": "completed"
    },
    "tags": []
   },
   "outputs": [],
   "source": [
    "#monthly purchase expected\n",
    "cltv_df[\"expected_purc_1_month\"]= bgf.predict(4,\n",
    "                                                cltv_df['frequency'],\n",
    "                                                cltv_df['recency'],\n",
    "                                                cltv_df['T']).sort_values(ascending=False)"
   ]
  },
  {
   "cell_type": "code",
   "execution_count": 41,
   "id": "136df8cd",
   "metadata": {
    "execution": {
     "iopub.execute_input": "2023-11-06T15:49:10.244638Z",
     "iopub.status.busy": "2023-11-06T15:49:10.243582Z",
     "iopub.status.idle": "2023-11-06T15:49:10.258576Z",
     "shell.execute_reply": "2023-11-06T15:49:10.257500Z"
    },
    "papermill": {
     "duration": 0.041526,
     "end_time": "2023-11-06T15:49:10.261383",
     "exception": false,
     "start_time": "2023-11-06T15:49:10.219857",
     "status": "completed"
    },
    "tags": []
   },
   "outputs": [],
   "source": [
    "#3 month purchase expected\n",
    "cltv_df[\"expected_purc_3_month\"] = bgf.predict(4* 3,\n",
    "                cltv_df['frequency'],\n",
    "                cltv_df['recency'],\n",
    "                cltv_df['T'])"
   ]
  },
  {
   "cell_type": "code",
   "execution_count": 42,
   "id": "e8405d1a",
   "metadata": {
    "execution": {
     "iopub.execute_input": "2023-11-06T15:49:10.308556Z",
     "iopub.status.busy": "2023-11-06T15:49:10.308128Z",
     "iopub.status.idle": "2023-11-06T15:49:10.394537Z",
     "shell.execute_reply": "2023-11-06T15:49:10.392743Z"
    },
    "papermill": {
     "duration": 0.115972,
     "end_time": "2023-11-06T15:49:10.400310",
     "exception": false,
     "start_time": "2023-11-06T15:49:10.284338",
     "status": "completed"
    },
    "tags": []
   },
   "outputs": [],
   "source": [
    "#Expected Average Profit with the Gamma-Gamma Model\n",
    "ggf = GammaGammaFitter(penalizer_coef=0.01)\n",
    "\n",
    "ggf.fit(cltv_df['frequency'], cltv_df['monetary'])\n",
    "\n",
    "cltv_df[\"expected_average_profit\"] = ggf.conditional_expected_average_profit(cltv_df['frequency'],\n",
    "                                        cltv_df['monetary'])"
   ]
  },
  {
   "cell_type": "code",
   "execution_count": 43,
   "id": "c8fd39db",
   "metadata": {
    "execution": {
     "iopub.execute_input": "2023-11-06T15:49:10.506610Z",
     "iopub.status.busy": "2023-11-06T15:49:10.505522Z",
     "iopub.status.idle": "2023-11-06T15:49:10.571594Z",
     "shell.execute_reply": "2023-11-06T15:49:10.570608Z"
    },
    "papermill": {
     "duration": 0.120225,
     "end_time": "2023-11-06T15:49:10.574805",
     "exception": false,
     "start_time": "2023-11-06T15:49:10.454580",
     "status": "completed"
    },
    "tags": []
   },
   "outputs": [],
   "source": [
    "#Calculation of CLTV with the BG-NBD and Gamma-Gamma models\n",
    "cltv = ggf.customer_lifetime_value(bgf,\n",
    "                                      cltv_df['frequency'],\n",
    "                                      cltv_df['recency'],\n",
    "                                      cltv_df['T'],\n",
    "                                      cltv_df['monetary'],\n",
    "                                      time= 3, #3 month\n",
    "                                      freq='W', #frequency info of T\n",
    "                                      discount_rate=0.01 )"
   ]
  },
  {
   "cell_type": "code",
   "execution_count": 44,
   "id": "a0816e3d",
   "metadata": {
    "execution": {
     "iopub.execute_input": "2023-11-06T15:49:10.622645Z",
     "iopub.status.busy": "2023-11-06T15:49:10.621851Z",
     "iopub.status.idle": "2023-11-06T15:49:10.656143Z",
     "shell.execute_reply": "2023-11-06T15:49:10.654951Z"
    },
    "papermill": {
     "duration": 0.061879,
     "end_time": "2023-11-06T15:49:10.659155",
     "exception": false,
     "start_time": "2023-11-06T15:49:10.597276",
     "status": "completed"
    },
    "tags": []
   },
   "outputs": [
    {
     "data": {
      "text/html": [
       "<div>\n",
       "<style scoped>\n",
       "    .dataframe tbody tr th:only-of-type {\n",
       "        vertical-align: middle;\n",
       "    }\n",
       "\n",
       "    .dataframe tbody tr th {\n",
       "        vertical-align: top;\n",
       "    }\n",
       "\n",
       "    .dataframe thead th {\n",
       "        text-align: right;\n",
       "    }\n",
       "</style>\n",
       "<table border=\"1\" class=\"dataframe\">\n",
       "  <thead>\n",
       "    <tr style=\"text-align: right;\">\n",
       "      <th></th>\n",
       "      <th>Customer ID</th>\n",
       "      <th>recency</th>\n",
       "      <th>T</th>\n",
       "      <th>frequency</th>\n",
       "      <th>monetary</th>\n",
       "      <th>expected_purc_1_week</th>\n",
       "      <th>expected_purc_1_month</th>\n",
       "      <th>expected_purc_3_month</th>\n",
       "      <th>expected_average_profit</th>\n",
       "      <th>clv</th>\n",
       "    </tr>\n",
       "  </thead>\n",
       "  <tbody>\n",
       "    <tr>\n",
       "      <th>67</th>\n",
       "      <td>12497.0</td>\n",
       "      <td>34.857143</td>\n",
       "      <td>92.142857</td>\n",
       "      <td>2</td>\n",
       "      <td>2563.820000</td>\n",
       "      <td>0.004208</td>\n",
       "      <td>0.016593</td>\n",
       "      <td>0.047960</td>\n",
       "      <td>2810.179757</td>\n",
       "      <td>142.887244</td>\n",
       "    </tr>\n",
       "    <tr>\n",
       "      <th>1671</th>\n",
       "      <td>15823.0</td>\n",
       "      <td>51.142857</td>\n",
       "      <td>104.571429</td>\n",
       "      <td>3</td>\n",
       "      <td>1292.050000</td>\n",
       "      <td>0.006209</td>\n",
       "      <td>0.024494</td>\n",
       "      <td>0.070878</td>\n",
       "      <td>1372.925477</td>\n",
       "      <td>103.179795</td>\n",
       "    </tr>\n",
       "    <tr>\n",
       "      <th>83</th>\n",
       "      <td>12557.0</td>\n",
       "      <td>50.142857</td>\n",
       "      <td>103.285714</td>\n",
       "      <td>4</td>\n",
       "      <td>1681.295000</td>\n",
       "      <td>0.004576</td>\n",
       "      <td>0.018030</td>\n",
       "      <td>0.052032</td>\n",
       "      <td>1758.735051</td>\n",
       "      <td>96.999557</td>\n",
       "    </tr>\n",
       "    <tr>\n",
       "      <th>1059</th>\n",
       "      <td>14564.0</td>\n",
       "      <td>42.857143</td>\n",
       "      <td>105.142857</td>\n",
       "      <td>2</td>\n",
       "      <td>1302.810000</td>\n",
       "      <td>0.004429</td>\n",
       "      <td>0.017490</td>\n",
       "      <td>0.050760</td>\n",
       "      <td>1429.002092</td>\n",
       "      <td>76.937065</td>\n",
       "    </tr>\n",
       "    <tr>\n",
       "      <th>6</th>\n",
       "      <td>12358.0</td>\n",
       "      <td>50.857143</td>\n",
       "      <td>104.571429</td>\n",
       "      <td>3</td>\n",
       "      <td>901.236667</td>\n",
       "      <td>0.006078</td>\n",
       "      <td>0.023977</td>\n",
       "      <td>0.069381</td>\n",
       "      <td>958.048219</td>\n",
       "      <td>70.479500</td>\n",
       "    </tr>\n",
       "    <tr>\n",
       "      <th>449</th>\n",
       "      <td>13373.0</td>\n",
       "      <td>45.285714</td>\n",
       "      <td>104.857143</td>\n",
       "      <td>3</td>\n",
       "      <td>1424.980000</td>\n",
       "      <td>0.003814</td>\n",
       "      <td>0.015045</td>\n",
       "      <td>0.043538</td>\n",
       "      <td>1514.040503</td>\n",
       "      <td>69.893998</td>\n",
       "    </tr>\n",
       "    <tr>\n",
       "      <th>58</th>\n",
       "      <td>12477.0</td>\n",
       "      <td>31.857143</td>\n",
       "      <td>89.142857</td>\n",
       "      <td>3</td>\n",
       "      <td>2352.210000</td>\n",
       "      <td>0.002297</td>\n",
       "      <td>0.009041</td>\n",
       "      <td>0.026021</td>\n",
       "      <td>2498.363724</td>\n",
       "      <td>68.887943</td>\n",
       "    </tr>\n",
       "    <tr>\n",
       "      <th>2127</th>\n",
       "      <td>16732.0</td>\n",
       "      <td>46.857143</td>\n",
       "      <td>104.571429</td>\n",
       "      <td>3</td>\n",
       "      <td>1175.276667</td>\n",
       "      <td>0.004426</td>\n",
       "      <td>0.017458</td>\n",
       "      <td>0.050517</td>\n",
       "      <td>1248.961947</td>\n",
       "      <td>66.898698</td>\n",
       "    </tr>\n",
       "    <tr>\n",
       "      <th>42</th>\n",
       "      <td>12435.0</td>\n",
       "      <td>48.571429</td>\n",
       "      <td>105.428571</td>\n",
       "      <td>4</td>\n",
       "      <td>1460.222500</td>\n",
       "      <td>0.003454</td>\n",
       "      <td>0.013613</td>\n",
       "      <td>0.039311</td>\n",
       "      <td>1527.608093</td>\n",
       "      <td>63.658485</td>\n",
       "    </tr>\n",
       "    <tr>\n",
       "      <th>221</th>\n",
       "      <td>12873.0</td>\n",
       "      <td>40.571429</td>\n",
       "      <td>97.428571</td>\n",
       "      <td>2</td>\n",
       "      <td>826.650000</td>\n",
       "      <td>0.005206</td>\n",
       "      <td>0.020540</td>\n",
       "      <td>0.059474</td>\n",
       "      <td>907.466532</td>\n",
       "      <td>57.230185</td>\n",
       "    </tr>\n",
       "  </tbody>\n",
       "</table>\n",
       "</div>"
      ],
      "text/plain": [
       "      Customer ID    recency           T  frequency     monetary  \\\n",
       "67        12497.0  34.857143   92.142857          2  2563.820000   \n",
       "1671      15823.0  51.142857  104.571429          3  1292.050000   \n",
       "83        12557.0  50.142857  103.285714          4  1681.295000   \n",
       "1059      14564.0  42.857143  105.142857          2  1302.810000   \n",
       "6         12358.0  50.857143  104.571429          3   901.236667   \n",
       "449       13373.0  45.285714  104.857143          3  1424.980000   \n",
       "58        12477.0  31.857143   89.142857          3  2352.210000   \n",
       "2127      16732.0  46.857143  104.571429          3  1175.276667   \n",
       "42        12435.0  48.571429  105.428571          4  1460.222500   \n",
       "221       12873.0  40.571429   97.428571          2   826.650000   \n",
       "\n",
       "      expected_purc_1_week  expected_purc_1_month  expected_purc_3_month  \\\n",
       "67                0.004208               0.016593               0.047960   \n",
       "1671              0.006209               0.024494               0.070878   \n",
       "83                0.004576               0.018030               0.052032   \n",
       "1059              0.004429               0.017490               0.050760   \n",
       "6                 0.006078               0.023977               0.069381   \n",
       "449               0.003814               0.015045               0.043538   \n",
       "58                0.002297               0.009041               0.026021   \n",
       "2127              0.004426               0.017458               0.050517   \n",
       "42                0.003454               0.013613               0.039311   \n",
       "221               0.005206               0.020540               0.059474   \n",
       "\n",
       "      expected_average_profit         clv  \n",
       "67                2810.179757  142.887244  \n",
       "1671              1372.925477  103.179795  \n",
       "83                1758.735051   96.999557  \n",
       "1059              1429.002092   76.937065  \n",
       "6                  958.048219   70.479500  \n",
       "449               1514.040503   69.893998  \n",
       "58                2498.363724   68.887943  \n",
       "2127              1248.961947   66.898698  \n",
       "42                1527.608093   63.658485  \n",
       "221                907.466532   57.230185  "
      ]
     },
     "execution_count": 44,
     "metadata": {},
     "output_type": "execute_result"
    }
   ],
   "source": [
    "cltv = cltv.reset_index()\n",
    "cltv_final = cltv_df.merge(cltv, on='Customer ID',how='left')\n",
    "cltv_final.sort_values(by='clv', ascending=False).head(10)"
   ]
  },
  {
   "cell_type": "code",
   "execution_count": 45,
   "id": "a97fc59a",
   "metadata": {
    "execution": {
     "iopub.execute_input": "2023-11-06T15:49:10.708127Z",
     "iopub.status.busy": "2023-11-06T15:49:10.707682Z",
     "iopub.status.idle": "2023-11-06T15:49:10.771639Z",
     "shell.execute_reply": "2023-11-06T15:49:10.770353Z"
    },
    "papermill": {
     "duration": 0.091131,
     "end_time": "2023-11-06T15:49:10.774556",
     "exception": false,
     "start_time": "2023-11-06T15:49:10.683425",
     "status": "completed"
    },
    "tags": []
   },
   "outputs": [
    {
     "data": {
      "text/html": [
       "<div>\n",
       "<style scoped>\n",
       "    .dataframe tbody tr th:only-of-type {\n",
       "        vertical-align: middle;\n",
       "    }\n",
       "\n",
       "    .dataframe tbody tr th {\n",
       "        vertical-align: top;\n",
       "    }\n",
       "\n",
       "    .dataframe thead tr th {\n",
       "        text-align: left;\n",
       "    }\n",
       "\n",
       "    .dataframe thead tr:last-of-type th {\n",
       "        text-align: right;\n",
       "    }\n",
       "</style>\n",
       "<table border=\"1\" class=\"dataframe\">\n",
       "  <thead>\n",
       "    <tr>\n",
       "      <th></th>\n",
       "      <th colspan=\"3\" halign=\"left\">Customer ID</th>\n",
       "      <th colspan=\"3\" halign=\"left\">recency</th>\n",
       "      <th colspan=\"3\" halign=\"left\">T</th>\n",
       "      <th>frequency</th>\n",
       "      <th>...</th>\n",
       "      <th>expected_purc_1_month</th>\n",
       "      <th colspan=\"3\" halign=\"left\">expected_purc_3_month</th>\n",
       "      <th colspan=\"3\" halign=\"left\">expected_average_profit</th>\n",
       "      <th colspan=\"3\" halign=\"left\">clv</th>\n",
       "    </tr>\n",
       "    <tr>\n",
       "      <th></th>\n",
       "      <th>mean</th>\n",
       "      <th>count</th>\n",
       "      <th>sum</th>\n",
       "      <th>mean</th>\n",
       "      <th>count</th>\n",
       "      <th>sum</th>\n",
       "      <th>mean</th>\n",
       "      <th>count</th>\n",
       "      <th>sum</th>\n",
       "      <th>mean</th>\n",
       "      <th>...</th>\n",
       "      <th>sum</th>\n",
       "      <th>mean</th>\n",
       "      <th>count</th>\n",
       "      <th>sum</th>\n",
       "      <th>mean</th>\n",
       "      <th>count</th>\n",
       "      <th>sum</th>\n",
       "      <th>mean</th>\n",
       "      <th>count</th>\n",
       "      <th>sum</th>\n",
       "    </tr>\n",
       "    <tr>\n",
       "      <th>segment</th>\n",
       "      <th></th>\n",
       "      <th></th>\n",
       "      <th></th>\n",
       "      <th></th>\n",
       "      <th></th>\n",
       "      <th></th>\n",
       "      <th></th>\n",
       "      <th></th>\n",
       "      <th></th>\n",
       "      <th></th>\n",
       "      <th></th>\n",
       "      <th></th>\n",
       "      <th></th>\n",
       "      <th></th>\n",
       "      <th></th>\n",
       "      <th></th>\n",
       "      <th></th>\n",
       "      <th></th>\n",
       "      <th></th>\n",
       "      <th></th>\n",
       "      <th></th>\n",
       "    </tr>\n",
       "  </thead>\n",
       "  <tbody>\n",
       "    <tr>\n",
       "      <th>D</th>\n",
       "      <td>15506.726519</td>\n",
       "      <td>724</td>\n",
       "      <td>11226870.0</td>\n",
       "      <td>22.717048</td>\n",
       "      <td>724</td>\n",
       "      <td>16447.142857</td>\n",
       "      <td>87.959353</td>\n",
       "      <td>724</td>\n",
       "      <td>63682.571429</td>\n",
       "      <td>11.606354</td>\n",
       "      <td>...</td>\n",
       "      <td>0.099059</td>\n",
       "      <td>0.000391</td>\n",
       "      <td>724</td>\n",
       "      <td>0.283226</td>\n",
       "      <td>338.032356</td>\n",
       "      <td>724</td>\n",
       "      <td>244735.425590</td>\n",
       "      <td>0.081883</td>\n",
       "      <td>724</td>\n",
       "      <td>59.283604</td>\n",
       "    </tr>\n",
       "    <tr>\n",
       "      <th>C</th>\n",
       "      <td>15325.250346</td>\n",
       "      <td>723</td>\n",
       "      <td>11080156.0</td>\n",
       "      <td>23.359218</td>\n",
       "      <td>723</td>\n",
       "      <td>16888.714286</td>\n",
       "      <td>84.997234</td>\n",
       "      <td>723</td>\n",
       "      <td>61453.000000</td>\n",
       "      <td>5.091286</td>\n",
       "      <td>...</td>\n",
       "      <td>0.783037</td>\n",
       "      <td>0.003103</td>\n",
       "      <td>723</td>\n",
       "      <td>2.243500</td>\n",
       "      <td>351.796299</td>\n",
       "      <td>723</td>\n",
       "      <td>254348.723915</td>\n",
       "      <td>0.792449</td>\n",
       "      <td>723</td>\n",
       "      <td>572.940919</td>\n",
       "    </tr>\n",
       "    <tr>\n",
       "      <th>B</th>\n",
       "      <td>15349.189488</td>\n",
       "      <td>723</td>\n",
       "      <td>11097464.0</td>\n",
       "      <td>30.214582</td>\n",
       "      <td>723</td>\n",
       "      <td>21845.142857</td>\n",
       "      <td>89.848449</td>\n",
       "      <td>723</td>\n",
       "      <td>64960.428571</td>\n",
       "      <td>4.419087</td>\n",
       "      <td>...</td>\n",
       "      <td>2.737323</td>\n",
       "      <td>0.010881</td>\n",
       "      <td>723</td>\n",
       "      <td>7.867149</td>\n",
       "      <td>389.178425</td>\n",
       "      <td>723</td>\n",
       "      <td>281376.001442</td>\n",
       "      <td>3.131898</td>\n",
       "      <td>723</td>\n",
       "      <td>2264.362399</td>\n",
       "    </tr>\n",
       "    <tr>\n",
       "      <th>A</th>\n",
       "      <td>15222.006916</td>\n",
       "      <td>723</td>\n",
       "      <td>11005511.0</td>\n",
       "      <td>37.845287</td>\n",
       "      <td>723</td>\n",
       "      <td>27362.142857</td>\n",
       "      <td>95.340842</td>\n",
       "      <td>723</td>\n",
       "      <td>68931.428571</td>\n",
       "      <td>3.478562</td>\n",
       "      <td>...</td>\n",
       "      <td>7.988819</td>\n",
       "      <td>0.031890</td>\n",
       "      <td>723</td>\n",
       "      <td>23.056348</td>\n",
       "      <td>498.258863</td>\n",
       "      <td>723</td>\n",
       "      <td>360241.157640</td>\n",
       "      <td>14.401344</td>\n",
       "      <td>723</td>\n",
       "      <td>10412.171787</td>\n",
       "    </tr>\n",
       "  </tbody>\n",
       "</table>\n",
       "<p>4 rows × 30 columns</p>\n",
       "</div>"
      ],
      "text/plain": [
       "          Customer ID                      recency                      \\\n",
       "                 mean count         sum       mean count           sum   \n",
       "segment                                                                  \n",
       "D        15506.726519   724  11226870.0  22.717048   724  16447.142857   \n",
       "C        15325.250346   723  11080156.0  23.359218   723  16888.714286   \n",
       "B        15349.189488   723  11097464.0  30.214582   723  21845.142857   \n",
       "A        15222.006916   723  11005511.0  37.845287   723  27362.142857   \n",
       "\n",
       "                 T                      frequency  ... expected_purc_1_month  \\\n",
       "              mean count           sum       mean  ...                   sum   \n",
       "segment                                            ...                         \n",
       "D        87.959353   724  63682.571429  11.606354  ...              0.099059   \n",
       "C        84.997234   723  61453.000000   5.091286  ...              0.783037   \n",
       "B        89.848449   723  64960.428571   4.419087  ...              2.737323   \n",
       "A        95.340842   723  68931.428571   3.478562  ...              7.988819   \n",
       "\n",
       "        expected_purc_3_month                  expected_average_profit        \\\n",
       "                         mean count        sum                    mean count   \n",
       "segment                                                                        \n",
       "D                    0.000391   724   0.283226              338.032356   724   \n",
       "C                    0.003103   723   2.243500              351.796299   723   \n",
       "B                    0.010881   723   7.867149              389.178425   723   \n",
       "A                    0.031890   723  23.056348              498.258863   723   \n",
       "\n",
       "                              clv                      \n",
       "                   sum       mean count           sum  \n",
       "segment                                                \n",
       "D        244735.425590   0.081883   724     59.283604  \n",
       "C        254348.723915   0.792449   723    572.940919  \n",
       "B        281376.001442   3.131898   723   2264.362399  \n",
       "A        360241.157640  14.401344   723  10412.171787  \n",
       "\n",
       "[4 rows x 30 columns]"
      ]
     },
     "execution_count": 45,
     "metadata": {},
     "output_type": "execute_result"
    }
   ],
   "source": [
    "#making segments according to CLTV\n",
    "cltv_final[\"segment\"] = pd.qcut(cltv_final[\"clv\"],4, labels=[\"D\",\"C\",\"B\",\"A\"])\n",
    "cltv_final.groupby(\"segment\").agg({\"count\",\"mean\",\"sum\"})"
   ]
  }
 ],
 "metadata": {
  "kernelspec": {
   "display_name": "Python 3",
   "language": "python",
   "name": "python3"
  },
  "language_info": {
   "codemirror_mode": {
    "name": "ipython",
    "version": 3
   },
   "file_extension": ".py",
   "mimetype": "text/x-python",
   "name": "python",
   "nbconvert_exporter": "python",
   "pygments_lexer": "ipython3",
   "version": "3.10.12"
  },
  "papermill": {
   "default_parameters": {},
   "duration": 150.549366,
   "end_time": "2023-11-06T15:49:11.623920",
   "environment_variables": {},
   "exception": null,
   "input_path": "__notebook__.ipynb",
   "output_path": "__notebook__.ipynb",
   "parameters": {},
   "start_time": "2023-11-06T15:46:41.074554",
   "version": "2.4.0"
  }
 },
 "nbformat": 4,
 "nbformat_minor": 5
}
